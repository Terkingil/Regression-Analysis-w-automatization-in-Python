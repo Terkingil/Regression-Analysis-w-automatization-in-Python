{
  "nbformat": 4,
  "nbformat_minor": 0,
  "metadata": {
    "colab": {
      "provenance": [],
      "toc_visible": true,
      "collapsed_sections": [
        "JChq8RI_liXl",
        "q8j83E6glt8q",
        "hxx_n8qVlWCw",
        "sf4R8Nye4tJK",
        "Sx07FhohkLz5",
        "A_9l08Sfmtlz",
        "uzOUGeE6_CXF",
        "9W4Q9FIrJRti",
        "dtomwxQOJZN0",
        "u-N22mvYKry3",
        "_xzguc4QXCua",
        "eVYXMNMLgvBd",
        "UStdmyo_jzc3",
        "CX1MWlmV0c9-",
        "lDwWpKDNyJrG",
        "0zYLSnYi_eFy",
        "wYMV3_PXUUdu"
      ]
    },
    "kernelspec": {
      "name": "python3",
      "display_name": "Python 3"
    },
    "language_info": {
      "name": "python"
    }
  },
  "cells": [
    {
      "cell_type": "markdown",
      "source": [
        "Dict: ANOVA,SSM,SSR,SSE"
      ],
      "metadata": {
        "id": "cTVvUq0dxnPx"
      }
    },
    {
      "cell_type": "code",
      "execution_count": null,
      "metadata": {
        "id": "m7cKWYu3a8Zu"
      },
      "outputs": [],
      "source": [
        "import numpy as np\n",
        "import pandas as pd\n",
        "import seaborn as sns\n",
        "import matplotlib.pyplot as plt\n",
        "\n",
        "import statsmodels.api as sm\n",
        "from statsmodels.stats.stattools import durbin_watson\n",
        "import scipy.stats\n",
        "\n",
        "from sklearn.linear_model import LinearRegression\n",
        "from sklearn.preprocessing import MinMaxScaler\n",
        "from sklearn.preprocessing import StandardScaler"
      ]
    },
    {
      "cell_type": "code",
      "source": [
        "from google.colab import files\n",
        " \n",
        " \n",
        "uploaded = files.upload()"
      ],
      "metadata": {
        "id": "xQzWSmvTWYst",
        "colab": {
          "base_uri": "https://localhost:8080/",
          "height": 74
        },
        "outputId": "e63e2bbe-0fdf-478c-8336-10adcd28e5ab"
      },
      "execution_count": null,
      "outputs": [
        {
          "output_type": "display_data",
          "data": {
            "text/plain": [
              "<IPython.core.display.HTML object>"
            ],
            "text/html": [
              "\n",
              "     <input type=\"file\" id=\"files-8916457a-586a-4451-8ce9-6919437d97e4\" name=\"files[]\" multiple disabled\n",
              "        style=\"border:none\" />\n",
              "     <output id=\"result-8916457a-586a-4451-8ce9-6919437d97e4\">\n",
              "      Upload widget is only available when the cell has been executed in the\n",
              "      current browser session. Please rerun this cell to enable.\n",
              "      </output>\n",
              "      <script>// Copyright 2017 Google LLC\n",
              "//\n",
              "// Licensed under the Apache License, Version 2.0 (the \"License\");\n",
              "// you may not use this file except in compliance with the License.\n",
              "// You may obtain a copy of the License at\n",
              "//\n",
              "//      http://www.apache.org/licenses/LICENSE-2.0\n",
              "//\n",
              "// Unless required by applicable law or agreed to in writing, software\n",
              "// distributed under the License is distributed on an \"AS IS\" BASIS,\n",
              "// WITHOUT WARRANTIES OR CONDITIONS OF ANY KIND, either express or implied.\n",
              "// See the License for the specific language governing permissions and\n",
              "// limitations under the License.\n",
              "\n",
              "/**\n",
              " * @fileoverview Helpers for google.colab Python module.\n",
              " */\n",
              "(function(scope) {\n",
              "function span(text, styleAttributes = {}) {\n",
              "  const element = document.createElement('span');\n",
              "  element.textContent = text;\n",
              "  for (const key of Object.keys(styleAttributes)) {\n",
              "    element.style[key] = styleAttributes[key];\n",
              "  }\n",
              "  return element;\n",
              "}\n",
              "\n",
              "// Max number of bytes which will be uploaded at a time.\n",
              "const MAX_PAYLOAD_SIZE = 100 * 1024;\n",
              "\n",
              "function _uploadFiles(inputId, outputId) {\n",
              "  const steps = uploadFilesStep(inputId, outputId);\n",
              "  const outputElement = document.getElementById(outputId);\n",
              "  // Cache steps on the outputElement to make it available for the next call\n",
              "  // to uploadFilesContinue from Python.\n",
              "  outputElement.steps = steps;\n",
              "\n",
              "  return _uploadFilesContinue(outputId);\n",
              "}\n",
              "\n",
              "// This is roughly an async generator (not supported in the browser yet),\n",
              "// where there are multiple asynchronous steps and the Python side is going\n",
              "// to poll for completion of each step.\n",
              "// This uses a Promise to block the python side on completion of each step,\n",
              "// then passes the result of the previous step as the input to the next step.\n",
              "function _uploadFilesContinue(outputId) {\n",
              "  const outputElement = document.getElementById(outputId);\n",
              "  const steps = outputElement.steps;\n",
              "\n",
              "  const next = steps.next(outputElement.lastPromiseValue);\n",
              "  return Promise.resolve(next.value.promise).then((value) => {\n",
              "    // Cache the last promise value to make it available to the next\n",
              "    // step of the generator.\n",
              "    outputElement.lastPromiseValue = value;\n",
              "    return next.value.response;\n",
              "  });\n",
              "}\n",
              "\n",
              "/**\n",
              " * Generator function which is called between each async step of the upload\n",
              " * process.\n",
              " * @param {string} inputId Element ID of the input file picker element.\n",
              " * @param {string} outputId Element ID of the output display.\n",
              " * @return {!Iterable<!Object>} Iterable of next steps.\n",
              " */\n",
              "function* uploadFilesStep(inputId, outputId) {\n",
              "  const inputElement = document.getElementById(inputId);\n",
              "  inputElement.disabled = false;\n",
              "\n",
              "  const outputElement = document.getElementById(outputId);\n",
              "  outputElement.innerHTML = '';\n",
              "\n",
              "  const pickedPromise = new Promise((resolve) => {\n",
              "    inputElement.addEventListener('change', (e) => {\n",
              "      resolve(e.target.files);\n",
              "    });\n",
              "  });\n",
              "\n",
              "  const cancel = document.createElement('button');\n",
              "  inputElement.parentElement.appendChild(cancel);\n",
              "  cancel.textContent = 'Cancel upload';\n",
              "  const cancelPromise = new Promise((resolve) => {\n",
              "    cancel.onclick = () => {\n",
              "      resolve(null);\n",
              "    };\n",
              "  });\n",
              "\n",
              "  // Wait for the user to pick the files.\n",
              "  const files = yield {\n",
              "    promise: Promise.race([pickedPromise, cancelPromise]),\n",
              "    response: {\n",
              "      action: 'starting',\n",
              "    }\n",
              "  };\n",
              "\n",
              "  cancel.remove();\n",
              "\n",
              "  // Disable the input element since further picks are not allowed.\n",
              "  inputElement.disabled = true;\n",
              "\n",
              "  if (!files) {\n",
              "    return {\n",
              "      response: {\n",
              "        action: 'complete',\n",
              "      }\n",
              "    };\n",
              "  }\n",
              "\n",
              "  for (const file of files) {\n",
              "    const li = document.createElement('li');\n",
              "    li.append(span(file.name, {fontWeight: 'bold'}));\n",
              "    li.append(span(\n",
              "        `(${file.type || 'n/a'}) - ${file.size} bytes, ` +\n",
              "        `last modified: ${\n",
              "            file.lastModifiedDate ? file.lastModifiedDate.toLocaleDateString() :\n",
              "                                    'n/a'} - `));\n",
              "    const percent = span('0% done');\n",
              "    li.appendChild(percent);\n",
              "\n",
              "    outputElement.appendChild(li);\n",
              "\n",
              "    const fileDataPromise = new Promise((resolve) => {\n",
              "      const reader = new FileReader();\n",
              "      reader.onload = (e) => {\n",
              "        resolve(e.target.result);\n",
              "      };\n",
              "      reader.readAsArrayBuffer(file);\n",
              "    });\n",
              "    // Wait for the data to be ready.\n",
              "    let fileData = yield {\n",
              "      promise: fileDataPromise,\n",
              "      response: {\n",
              "        action: 'continue',\n",
              "      }\n",
              "    };\n",
              "\n",
              "    // Use a chunked sending to avoid message size limits. See b/62115660.\n",
              "    let position = 0;\n",
              "    do {\n",
              "      const length = Math.min(fileData.byteLength - position, MAX_PAYLOAD_SIZE);\n",
              "      const chunk = new Uint8Array(fileData, position, length);\n",
              "      position += length;\n",
              "\n",
              "      const base64 = btoa(String.fromCharCode.apply(null, chunk));\n",
              "      yield {\n",
              "        response: {\n",
              "          action: 'append',\n",
              "          file: file.name,\n",
              "          data: base64,\n",
              "        },\n",
              "      };\n",
              "\n",
              "      let percentDone = fileData.byteLength === 0 ?\n",
              "          100 :\n",
              "          Math.round((position / fileData.byteLength) * 100);\n",
              "      percent.textContent = `${percentDone}% done`;\n",
              "\n",
              "    } while (position < fileData.byteLength);\n",
              "  }\n",
              "\n",
              "  // All done.\n",
              "  yield {\n",
              "    response: {\n",
              "      action: 'complete',\n",
              "    }\n",
              "  };\n",
              "}\n",
              "\n",
              "scope.google = scope.google || {};\n",
              "scope.google.colab = scope.google.colab || {};\n",
              "scope.google.colab._files = {\n",
              "  _uploadFiles,\n",
              "  _uploadFilesContinue,\n",
              "};\n",
              "})(self);\n",
              "</script> "
            ]
          },
          "metadata": {}
        },
        {
          "output_type": "stream",
          "name": "stdout",
          "text": [
            "Saving train.csv to train.csv\n"
          ]
        }
      ]
    },
    {
      "cell_type": "markdown",
      "source": [
        "# Описание данных\n",
        "\n",
        "**Описание столбцов**\n",
        "* SalePrice - цена дома, прогназируемое значение\n",
        "* MSSubClass - класс дома (рейтинг здания который присвоили эксперты)\n",
        "* LotArea - площадь дома\n",
        "* LotShape - форма площади( Reg - прямоугольная, IR1,IR2 - нестандартная)\n",
        "* YearBuilt - год постройки\n",
        "* BedroomAbvGr - количество спален\n",
        "\n",
        "остальные переменные в датасете - \n",
        "количество ванн, материал крыши, или высота подвала я счел не важным для модели."
      ],
      "metadata": {
        "id": "X1eQDLmUjjKK"
      }
    },
    {
      "cell_type": "code",
      "source": [
        "data=pd.read_csv(\"train.csv\")\n",
        "data=data.iloc[:,1:]\n",
        "\n",
        "\n",
        "#data\n",
        "data.head(5)"
      ],
      "metadata": {
        "colab": {
          "base_uri": "https://localhost:8080/",
          "height": 204
        },
        "id": "IfCbbw9SWfv0",
        "outputId": "09d0b654-1205-49c4-c9d6-2bcce82593e1"
      },
      "execution_count": null,
      "outputs": [
        {
          "output_type": "execute_result",
          "data": {
            "text/plain": [
              "   SalePrice  MSSubClass  LotArea LotShape  YearBuilt  BedroomAbvGr\n",
              "0     208500          60     8450      Reg       2003             3\n",
              "1     181500          20     9600      Reg       1976             3\n",
              "2     223500          60    11250      IR1       2001             3\n",
              "3     140000          70     9550      IR1       1915             3\n",
              "4     250000          60    14260      IR1       2000             4"
            ],
            "text/html": [
              "\n",
              "  <div id=\"df-2658ce83-c40e-492b-8401-48ff291a3c1f\">\n",
              "    <div class=\"colab-df-container\">\n",
              "      <div>\n",
              "<style scoped>\n",
              "    .dataframe tbody tr th:only-of-type {\n",
              "        vertical-align: middle;\n",
              "    }\n",
              "\n",
              "    .dataframe tbody tr th {\n",
              "        vertical-align: top;\n",
              "    }\n",
              "\n",
              "    .dataframe thead th {\n",
              "        text-align: right;\n",
              "    }\n",
              "</style>\n",
              "<table border=\"1\" class=\"dataframe\">\n",
              "  <thead>\n",
              "    <tr style=\"text-align: right;\">\n",
              "      <th></th>\n",
              "      <th>SalePrice</th>\n",
              "      <th>MSSubClass</th>\n",
              "      <th>LotArea</th>\n",
              "      <th>LotShape</th>\n",
              "      <th>YearBuilt</th>\n",
              "      <th>BedroomAbvGr</th>\n",
              "    </tr>\n",
              "  </thead>\n",
              "  <tbody>\n",
              "    <tr>\n",
              "      <th>0</th>\n",
              "      <td>208500</td>\n",
              "      <td>60</td>\n",
              "      <td>8450</td>\n",
              "      <td>Reg</td>\n",
              "      <td>2003</td>\n",
              "      <td>3</td>\n",
              "    </tr>\n",
              "    <tr>\n",
              "      <th>1</th>\n",
              "      <td>181500</td>\n",
              "      <td>20</td>\n",
              "      <td>9600</td>\n",
              "      <td>Reg</td>\n",
              "      <td>1976</td>\n",
              "      <td>3</td>\n",
              "    </tr>\n",
              "    <tr>\n",
              "      <th>2</th>\n",
              "      <td>223500</td>\n",
              "      <td>60</td>\n",
              "      <td>11250</td>\n",
              "      <td>IR1</td>\n",
              "      <td>2001</td>\n",
              "      <td>3</td>\n",
              "    </tr>\n",
              "    <tr>\n",
              "      <th>3</th>\n",
              "      <td>140000</td>\n",
              "      <td>70</td>\n",
              "      <td>9550</td>\n",
              "      <td>IR1</td>\n",
              "      <td>1915</td>\n",
              "      <td>3</td>\n",
              "    </tr>\n",
              "    <tr>\n",
              "      <th>4</th>\n",
              "      <td>250000</td>\n",
              "      <td>60</td>\n",
              "      <td>14260</td>\n",
              "      <td>IR1</td>\n",
              "      <td>2000</td>\n",
              "      <td>4</td>\n",
              "    </tr>\n",
              "  </tbody>\n",
              "</table>\n",
              "</div>\n",
              "      <button class=\"colab-df-convert\" onclick=\"convertToInteractive('df-2658ce83-c40e-492b-8401-48ff291a3c1f')\"\n",
              "              title=\"Convert this dataframe to an interactive table.\"\n",
              "              style=\"display:none;\">\n",
              "        \n",
              "  <svg xmlns=\"http://www.w3.org/2000/svg\" height=\"24px\"viewBox=\"0 0 24 24\"\n",
              "       width=\"24px\">\n",
              "    <path d=\"M0 0h24v24H0V0z\" fill=\"none\"/>\n",
              "    <path d=\"M18.56 5.44l.94 2.06.94-2.06 2.06-.94-2.06-.94-.94-2.06-.94 2.06-2.06.94zm-11 1L8.5 8.5l.94-2.06 2.06-.94-2.06-.94L8.5 2.5l-.94 2.06-2.06.94zm10 10l.94 2.06.94-2.06 2.06-.94-2.06-.94-.94-2.06-.94 2.06-2.06.94z\"/><path d=\"M17.41 7.96l-1.37-1.37c-.4-.4-.92-.59-1.43-.59-.52 0-1.04.2-1.43.59L10.3 9.45l-7.72 7.72c-.78.78-.78 2.05 0 2.83L4 21.41c.39.39.9.59 1.41.59.51 0 1.02-.2 1.41-.59l7.78-7.78 2.81-2.81c.8-.78.8-2.07 0-2.86zM5.41 20L4 18.59l7.72-7.72 1.47 1.35L5.41 20z\"/>\n",
              "  </svg>\n",
              "      </button>\n",
              "      \n",
              "  <style>\n",
              "    .colab-df-container {\n",
              "      display:flex;\n",
              "      flex-wrap:wrap;\n",
              "      gap: 12px;\n",
              "    }\n",
              "\n",
              "    .colab-df-convert {\n",
              "      background-color: #E8F0FE;\n",
              "      border: none;\n",
              "      border-radius: 50%;\n",
              "      cursor: pointer;\n",
              "      display: none;\n",
              "      fill: #1967D2;\n",
              "      height: 32px;\n",
              "      padding: 0 0 0 0;\n",
              "      width: 32px;\n",
              "    }\n",
              "\n",
              "    .colab-df-convert:hover {\n",
              "      background-color: #E2EBFA;\n",
              "      box-shadow: 0px 1px 2px rgba(60, 64, 67, 0.3), 0px 1px 3px 1px rgba(60, 64, 67, 0.15);\n",
              "      fill: #174EA6;\n",
              "    }\n",
              "\n",
              "    [theme=dark] .colab-df-convert {\n",
              "      background-color: #3B4455;\n",
              "      fill: #D2E3FC;\n",
              "    }\n",
              "\n",
              "    [theme=dark] .colab-df-convert:hover {\n",
              "      background-color: #434B5C;\n",
              "      box-shadow: 0px 1px 3px 1px rgba(0, 0, 0, 0.15);\n",
              "      filter: drop-shadow(0px 1px 2px rgba(0, 0, 0, 0.3));\n",
              "      fill: #FFFFFF;\n",
              "    }\n",
              "  </style>\n",
              "\n",
              "      <script>\n",
              "        const buttonEl =\n",
              "          document.querySelector('#df-2658ce83-c40e-492b-8401-48ff291a3c1f button.colab-df-convert');\n",
              "        buttonEl.style.display =\n",
              "          google.colab.kernel.accessAllowed ? 'block' : 'none';\n",
              "\n",
              "        async function convertToInteractive(key) {\n",
              "          const element = document.querySelector('#df-2658ce83-c40e-492b-8401-48ff291a3c1f');\n",
              "          const dataTable =\n",
              "            await google.colab.kernel.invokeFunction('convertToInteractive',\n",
              "                                                     [key], {});\n",
              "          if (!dataTable) return;\n",
              "\n",
              "          const docLinkHtml = 'Like what you see? Visit the ' +\n",
              "            '<a target=\"_blank\" href=https://colab.research.google.com/notebooks/data_table.ipynb>data table notebook</a>'\n",
              "            + ' to learn more about interactive tables.';\n",
              "          element.innerHTML = '';\n",
              "          dataTable['output_type'] = 'display_data';\n",
              "          await google.colab.output.renderOutput(dataTable, element);\n",
              "          const docLink = document.createElement('div');\n",
              "          docLink.innerHTML = docLinkHtml;\n",
              "          element.appendChild(docLink);\n",
              "        }\n",
              "      </script>\n",
              "    </div>\n",
              "  </div>\n",
              "  "
            ]
          },
          "metadata": {},
          "execution_count": 197
        }
      ]
    },
    {
      "cell_type": "markdown",
      "source": [
        "# One hot encoding категориальных переменных в конец таблицы\n",
        "\n",
        "**Все полностью автоматизиривано: неважно сколько столбцов в таблице и сколько разных значений фиктивной переменной**"
      ],
      "metadata": {
        "id": "4XRj1JIWWG-M"
      }
    },
    {
      "cell_type": "code",
      "source": [
        "tmp=pd.get_dummies(data.loc[:,\"LotShape\"])\n",
        "unq=data.loc[:,\"LotShape\"].unique()# Создаем список всевозможных значенй переменной чтобы потом назвать столбцы\n",
        "cnt=0\n",
        "\n",
        "for i in tmp.columns:\n",
        "  #display(tmp[i])\n",
        "  print(i)\n",
        "  data.insert(len(data.columns),unq[cnt],tmp[i]) #добавление столбцов в конец таблицы\n",
        "  cnt+=1\n",
        "\n",
        "del data[\"LotShape\"]\n",
        "\n",
        "data.head(5)"
      ],
      "metadata": {
        "id": "nTfUfnPrVXW8",
        "colab": {
          "base_uri": "https://localhost:8080/",
          "height": 302
        },
        "outputId": "17fd2f88-3a3e-4a14-89c7-fd01961fa4fb"
      },
      "execution_count": null,
      "outputs": [
        {
          "output_type": "stream",
          "name": "stdout",
          "text": [
            "IR1\n",
            "IR2\n",
            "Reg\n"
          ]
        },
        {
          "output_type": "execute_result",
          "data": {
            "text/plain": [
              "   SalePrice  MSSubClass  LotArea  YearBuilt  BedroomAbvGr  Reg  IR1  IR2\n",
              "0     208500          60     8450       2003             3    0    0    1\n",
              "1     181500          20     9600       1976             3    0    0    1\n",
              "2     223500          60    11250       2001             3    1    0    0\n",
              "3     140000          70     9550       1915             3    1    0    0\n",
              "4     250000          60    14260       2000             4    1    0    0"
            ],
            "text/html": [
              "\n",
              "  <div id=\"df-05b225a1-bbe9-43ed-a141-ad3e9d8a27e0\">\n",
              "    <div class=\"colab-df-container\">\n",
              "      <div>\n",
              "<style scoped>\n",
              "    .dataframe tbody tr th:only-of-type {\n",
              "        vertical-align: middle;\n",
              "    }\n",
              "\n",
              "    .dataframe tbody tr th {\n",
              "        vertical-align: top;\n",
              "    }\n",
              "\n",
              "    .dataframe thead th {\n",
              "        text-align: right;\n",
              "    }\n",
              "</style>\n",
              "<table border=\"1\" class=\"dataframe\">\n",
              "  <thead>\n",
              "    <tr style=\"text-align: right;\">\n",
              "      <th></th>\n",
              "      <th>SalePrice</th>\n",
              "      <th>MSSubClass</th>\n",
              "      <th>LotArea</th>\n",
              "      <th>YearBuilt</th>\n",
              "      <th>BedroomAbvGr</th>\n",
              "      <th>Reg</th>\n",
              "      <th>IR1</th>\n",
              "      <th>IR2</th>\n",
              "    </tr>\n",
              "  </thead>\n",
              "  <tbody>\n",
              "    <tr>\n",
              "      <th>0</th>\n",
              "      <td>208500</td>\n",
              "      <td>60</td>\n",
              "      <td>8450</td>\n",
              "      <td>2003</td>\n",
              "      <td>3</td>\n",
              "      <td>0</td>\n",
              "      <td>0</td>\n",
              "      <td>1</td>\n",
              "    </tr>\n",
              "    <tr>\n",
              "      <th>1</th>\n",
              "      <td>181500</td>\n",
              "      <td>20</td>\n",
              "      <td>9600</td>\n",
              "      <td>1976</td>\n",
              "      <td>3</td>\n",
              "      <td>0</td>\n",
              "      <td>0</td>\n",
              "      <td>1</td>\n",
              "    </tr>\n",
              "    <tr>\n",
              "      <th>2</th>\n",
              "      <td>223500</td>\n",
              "      <td>60</td>\n",
              "      <td>11250</td>\n",
              "      <td>2001</td>\n",
              "      <td>3</td>\n",
              "      <td>1</td>\n",
              "      <td>0</td>\n",
              "      <td>0</td>\n",
              "    </tr>\n",
              "    <tr>\n",
              "      <th>3</th>\n",
              "      <td>140000</td>\n",
              "      <td>70</td>\n",
              "      <td>9550</td>\n",
              "      <td>1915</td>\n",
              "      <td>3</td>\n",
              "      <td>1</td>\n",
              "      <td>0</td>\n",
              "      <td>0</td>\n",
              "    </tr>\n",
              "    <tr>\n",
              "      <th>4</th>\n",
              "      <td>250000</td>\n",
              "      <td>60</td>\n",
              "      <td>14260</td>\n",
              "      <td>2000</td>\n",
              "      <td>4</td>\n",
              "      <td>1</td>\n",
              "      <td>0</td>\n",
              "      <td>0</td>\n",
              "    </tr>\n",
              "  </tbody>\n",
              "</table>\n",
              "</div>\n",
              "      <button class=\"colab-df-convert\" onclick=\"convertToInteractive('df-05b225a1-bbe9-43ed-a141-ad3e9d8a27e0')\"\n",
              "              title=\"Convert this dataframe to an interactive table.\"\n",
              "              style=\"display:none;\">\n",
              "        \n",
              "  <svg xmlns=\"http://www.w3.org/2000/svg\" height=\"24px\"viewBox=\"0 0 24 24\"\n",
              "       width=\"24px\">\n",
              "    <path d=\"M0 0h24v24H0V0z\" fill=\"none\"/>\n",
              "    <path d=\"M18.56 5.44l.94 2.06.94-2.06 2.06-.94-2.06-.94-.94-2.06-.94 2.06-2.06.94zm-11 1L8.5 8.5l.94-2.06 2.06-.94-2.06-.94L8.5 2.5l-.94 2.06-2.06.94zm10 10l.94 2.06.94-2.06 2.06-.94-2.06-.94-.94-2.06-.94 2.06-2.06.94z\"/><path d=\"M17.41 7.96l-1.37-1.37c-.4-.4-.92-.59-1.43-.59-.52 0-1.04.2-1.43.59L10.3 9.45l-7.72 7.72c-.78.78-.78 2.05 0 2.83L4 21.41c.39.39.9.59 1.41.59.51 0 1.02-.2 1.41-.59l7.78-7.78 2.81-2.81c.8-.78.8-2.07 0-2.86zM5.41 20L4 18.59l7.72-7.72 1.47 1.35L5.41 20z\"/>\n",
              "  </svg>\n",
              "      </button>\n",
              "      \n",
              "  <style>\n",
              "    .colab-df-container {\n",
              "      display:flex;\n",
              "      flex-wrap:wrap;\n",
              "      gap: 12px;\n",
              "    }\n",
              "\n",
              "    .colab-df-convert {\n",
              "      background-color: #E8F0FE;\n",
              "      border: none;\n",
              "      border-radius: 50%;\n",
              "      cursor: pointer;\n",
              "      display: none;\n",
              "      fill: #1967D2;\n",
              "      height: 32px;\n",
              "      padding: 0 0 0 0;\n",
              "      width: 32px;\n",
              "    }\n",
              "\n",
              "    .colab-df-convert:hover {\n",
              "      background-color: #E2EBFA;\n",
              "      box-shadow: 0px 1px 2px rgba(60, 64, 67, 0.3), 0px 1px 3px 1px rgba(60, 64, 67, 0.15);\n",
              "      fill: #174EA6;\n",
              "    }\n",
              "\n",
              "    [theme=dark] .colab-df-convert {\n",
              "      background-color: #3B4455;\n",
              "      fill: #D2E3FC;\n",
              "    }\n",
              "\n",
              "    [theme=dark] .colab-df-convert:hover {\n",
              "      background-color: #434B5C;\n",
              "      box-shadow: 0px 1px 3px 1px rgba(0, 0, 0, 0.15);\n",
              "      filter: drop-shadow(0px 1px 2px rgba(0, 0, 0, 0.3));\n",
              "      fill: #FFFFFF;\n",
              "    }\n",
              "  </style>\n",
              "\n",
              "      <script>\n",
              "        const buttonEl =\n",
              "          document.querySelector('#df-05b225a1-bbe9-43ed-a141-ad3e9d8a27e0 button.colab-df-convert');\n",
              "        buttonEl.style.display =\n",
              "          google.colab.kernel.accessAllowed ? 'block' : 'none';\n",
              "\n",
              "        async function convertToInteractive(key) {\n",
              "          const element = document.querySelector('#df-05b225a1-bbe9-43ed-a141-ad3e9d8a27e0');\n",
              "          const dataTable =\n",
              "            await google.colab.kernel.invokeFunction('convertToInteractive',\n",
              "                                                     [key], {});\n",
              "          if (!dataTable) return;\n",
              "\n",
              "          const docLinkHtml = 'Like what you see? Visit the ' +\n",
              "            '<a target=\"_blank\" href=https://colab.research.google.com/notebooks/data_table.ipynb>data table notebook</a>'\n",
              "            + ' to learn more about interactive tables.';\n",
              "          element.innerHTML = '';\n",
              "          dataTable['output_type'] = 'display_data';\n",
              "          await google.colab.output.renderOutput(dataTable, element);\n",
              "          const docLink = document.createElement('div');\n",
              "          docLink.innerHTML = docLinkHtml;\n",
              "          element.appendChild(docLink);\n",
              "        }\n",
              "      </script>\n",
              "    </div>\n",
              "  </div>\n",
              "  "
            ]
          },
          "metadata": {},
          "execution_count": 5
        }
      ]
    },
    {
      "cell_type": "code",
      "source": [
        "data.info()"
      ],
      "metadata": {
        "id": "xGkJKyIKXL0I",
        "colab": {
          "base_uri": "https://localhost:8080/"
        },
        "outputId": "fecb27f9-ab26-4d42-f5e1-b392b09426da"
      },
      "execution_count": null,
      "outputs": [
        {
          "output_type": "stream",
          "name": "stdout",
          "text": [
            "<class 'pandas.core.frame.DataFrame'>\n",
            "RangeIndex: 50 entries, 0 to 49\n",
            "Data columns (total 8 columns):\n",
            " #   Column        Non-Null Count  Dtype\n",
            "---  ------        --------------  -----\n",
            " 0   SalePrice     50 non-null     int64\n",
            " 1   MSSubClass    50 non-null     int64\n",
            " 2   LotArea       50 non-null     int64\n",
            " 3   YearBuilt     50 non-null     int64\n",
            " 4   BedroomAbvGr  50 non-null     int64\n",
            " 5   Reg           50 non-null     uint8\n",
            " 6   IR1           50 non-null     uint8\n",
            " 7   IR2           50 non-null     uint8\n",
            "dtypes: int64(5), uint8(3)\n",
            "memory usage: 2.2 KB\n"
          ]
        }
      ]
    },
    {
      "cell_type": "code",
      "source": [
        "import plotly.express as px\n",
        "\n",
        "Y=data.iloc[:,0]\n",
        "X=data.iloc[:,2]\n",
        "\n",
        "fig = px.scatter(x=X, y=Y)\n",
        "fig.show()"
      ],
      "metadata": {
        "id": "zm1oe5zEWryK",
        "colab": {
          "base_uri": "https://localhost:8080/",
          "height": 542
        },
        "outputId": "861ff6d0-8a6f-4bac-c39c-f7624a1b90ca"
      },
      "execution_count": null,
      "outputs": [
        {
          "output_type": "display_data",
          "data": {
            "text/html": [
              "<html>\n",
              "<head><meta charset=\"utf-8\" /></head>\n",
              "<body>\n",
              "    <div>            <script src=\"https://cdnjs.cloudflare.com/ajax/libs/mathjax/2.7.5/MathJax.js?config=TeX-AMS-MML_SVG\"></script><script type=\"text/javascript\">if (window.MathJax) {MathJax.Hub.Config({SVG: {font: \"STIX-Web\"}});}</script>                <script type=\"text/javascript\">window.PlotlyConfig = {MathJaxConfig: 'local'};</script>\n",
              "        <script src=\"https://cdn.plot.ly/plotly-2.8.3.min.js\"></script>                <div id=\"354c4ca0-cbc4-4821-9514-2d6b8d7684ca\" class=\"plotly-graph-div\" style=\"height:525px; width:100%;\"></div>            <script type=\"text/javascript\">                                    window.PLOTLYENV=window.PLOTLYENV || {};                                    if (document.getElementById(\"354c4ca0-cbc4-4821-9514-2d6b8d7684ca\")) {                    Plotly.newPlot(                        \"354c4ca0-cbc4-4821-9514-2d6b8d7684ca\",                        [{\"hovertemplate\":\"x=%{x}<br>y=%{y}<extra></extra>\",\"legendgroup\":\"\",\"marker\":{\"color\":\"#636efa\",\"symbol\":\"circle\"},\"mode\":\"markers\",\"name\":\"\",\"orientation\":\"v\",\"showlegend\":false,\"x\":[8450,9600,11250,9550,14260,14115,10084,10382,6120,7420,11200,11924,12968,10652,10920,6120,11241,10791,13695,7560,14215,7449,9742,4224,8246,14230,7200,11478,16321,6324,8500,8544,11049,10552,7313,13418,10859,8532,7922,6040,8658,16905,9180,9200,7945,7658,12822,11096,4456,7742],\"xaxis\":\"x\",\"y\":[208500,181500,223500,140000,250000,143000,307000,200000,129900,118000,129500,345000,144000,279500,157000,132000,149000,90000,159000,139000,325300,139400,230000,129900,154000,256300,134800,306000,207500,68500,40000,149350,179900,165500,277500,309000,145000,153000,109000,82000,160000,170000,144000,130250,141000,319900,239686,249700,113000,127000],\"yaxis\":\"y\",\"type\":\"scatter\"}],                        {\"template\":{\"data\":{\"bar\":[{\"error_x\":{\"color\":\"#2a3f5f\"},\"error_y\":{\"color\":\"#2a3f5f\"},\"marker\":{\"line\":{\"color\":\"#E5ECF6\",\"width\":0.5},\"pattern\":{\"fillmode\":\"overlay\",\"size\":10,\"solidity\":0.2}},\"type\":\"bar\"}],\"barpolar\":[{\"marker\":{\"line\":{\"color\":\"#E5ECF6\",\"width\":0.5},\"pattern\":{\"fillmode\":\"overlay\",\"size\":10,\"solidity\":0.2}},\"type\":\"barpolar\"}],\"carpet\":[{\"aaxis\":{\"endlinecolor\":\"#2a3f5f\",\"gridcolor\":\"white\",\"linecolor\":\"white\",\"minorgridcolor\":\"white\",\"startlinecolor\":\"#2a3f5f\"},\"baxis\":{\"endlinecolor\":\"#2a3f5f\",\"gridcolor\":\"white\",\"linecolor\":\"white\",\"minorgridcolor\":\"white\",\"startlinecolor\":\"#2a3f5f\"},\"type\":\"carpet\"}],\"choropleth\":[{\"colorbar\":{\"outlinewidth\":0,\"ticks\":\"\"},\"type\":\"choropleth\"}],\"contour\":[{\"colorbar\":{\"outlinewidth\":0,\"ticks\":\"\"},\"colorscale\":[[0.0,\"#0d0887\"],[0.1111111111111111,\"#46039f\"],[0.2222222222222222,\"#7201a8\"],[0.3333333333333333,\"#9c179e\"],[0.4444444444444444,\"#bd3786\"],[0.5555555555555556,\"#d8576b\"],[0.6666666666666666,\"#ed7953\"],[0.7777777777777778,\"#fb9f3a\"],[0.8888888888888888,\"#fdca26\"],[1.0,\"#f0f921\"]],\"type\":\"contour\"}],\"contourcarpet\":[{\"colorbar\":{\"outlinewidth\":0,\"ticks\":\"\"},\"type\":\"contourcarpet\"}],\"heatmap\":[{\"colorbar\":{\"outlinewidth\":0,\"ticks\":\"\"},\"colorscale\":[[0.0,\"#0d0887\"],[0.1111111111111111,\"#46039f\"],[0.2222222222222222,\"#7201a8\"],[0.3333333333333333,\"#9c179e\"],[0.4444444444444444,\"#bd3786\"],[0.5555555555555556,\"#d8576b\"],[0.6666666666666666,\"#ed7953\"],[0.7777777777777778,\"#fb9f3a\"],[0.8888888888888888,\"#fdca26\"],[1.0,\"#f0f921\"]],\"type\":\"heatmap\"}],\"heatmapgl\":[{\"colorbar\":{\"outlinewidth\":0,\"ticks\":\"\"},\"colorscale\":[[0.0,\"#0d0887\"],[0.1111111111111111,\"#46039f\"],[0.2222222222222222,\"#7201a8\"],[0.3333333333333333,\"#9c179e\"],[0.4444444444444444,\"#bd3786\"],[0.5555555555555556,\"#d8576b\"],[0.6666666666666666,\"#ed7953\"],[0.7777777777777778,\"#fb9f3a\"],[0.8888888888888888,\"#fdca26\"],[1.0,\"#f0f921\"]],\"type\":\"heatmapgl\"}],\"histogram\":[{\"marker\":{\"pattern\":{\"fillmode\":\"overlay\",\"size\":10,\"solidity\":0.2}},\"type\":\"histogram\"}],\"histogram2d\":[{\"colorbar\":{\"outlinewidth\":0,\"ticks\":\"\"},\"colorscale\":[[0.0,\"#0d0887\"],[0.1111111111111111,\"#46039f\"],[0.2222222222222222,\"#7201a8\"],[0.3333333333333333,\"#9c179e\"],[0.4444444444444444,\"#bd3786\"],[0.5555555555555556,\"#d8576b\"],[0.6666666666666666,\"#ed7953\"],[0.7777777777777778,\"#fb9f3a\"],[0.8888888888888888,\"#fdca26\"],[1.0,\"#f0f921\"]],\"type\":\"histogram2d\"}],\"histogram2dcontour\":[{\"colorbar\":{\"outlinewidth\":0,\"ticks\":\"\"},\"colorscale\":[[0.0,\"#0d0887\"],[0.1111111111111111,\"#46039f\"],[0.2222222222222222,\"#7201a8\"],[0.3333333333333333,\"#9c179e\"],[0.4444444444444444,\"#bd3786\"],[0.5555555555555556,\"#d8576b\"],[0.6666666666666666,\"#ed7953\"],[0.7777777777777778,\"#fb9f3a\"],[0.8888888888888888,\"#fdca26\"],[1.0,\"#f0f921\"]],\"type\":\"histogram2dcontour\"}],\"mesh3d\":[{\"colorbar\":{\"outlinewidth\":0,\"ticks\":\"\"},\"type\":\"mesh3d\"}],\"parcoords\":[{\"line\":{\"colorbar\":{\"outlinewidth\":0,\"ticks\":\"\"}},\"type\":\"parcoords\"}],\"pie\":[{\"automargin\":true,\"type\":\"pie\"}],\"scatter\":[{\"marker\":{\"colorbar\":{\"outlinewidth\":0,\"ticks\":\"\"}},\"type\":\"scatter\"}],\"scatter3d\":[{\"line\":{\"colorbar\":{\"outlinewidth\":0,\"ticks\":\"\"}},\"marker\":{\"colorbar\":{\"outlinewidth\":0,\"ticks\":\"\"}},\"type\":\"scatter3d\"}],\"scattercarpet\":[{\"marker\":{\"colorbar\":{\"outlinewidth\":0,\"ticks\":\"\"}},\"type\":\"scattercarpet\"}],\"scattergeo\":[{\"marker\":{\"colorbar\":{\"outlinewidth\":0,\"ticks\":\"\"}},\"type\":\"scattergeo\"}],\"scattergl\":[{\"marker\":{\"colorbar\":{\"outlinewidth\":0,\"ticks\":\"\"}},\"type\":\"scattergl\"}],\"scattermapbox\":[{\"marker\":{\"colorbar\":{\"outlinewidth\":0,\"ticks\":\"\"}},\"type\":\"scattermapbox\"}],\"scatterpolar\":[{\"marker\":{\"colorbar\":{\"outlinewidth\":0,\"ticks\":\"\"}},\"type\":\"scatterpolar\"}],\"scatterpolargl\":[{\"marker\":{\"colorbar\":{\"outlinewidth\":0,\"ticks\":\"\"}},\"type\":\"scatterpolargl\"}],\"scatterternary\":[{\"marker\":{\"colorbar\":{\"outlinewidth\":0,\"ticks\":\"\"}},\"type\":\"scatterternary\"}],\"surface\":[{\"colorbar\":{\"outlinewidth\":0,\"ticks\":\"\"},\"colorscale\":[[0.0,\"#0d0887\"],[0.1111111111111111,\"#46039f\"],[0.2222222222222222,\"#7201a8\"],[0.3333333333333333,\"#9c179e\"],[0.4444444444444444,\"#bd3786\"],[0.5555555555555556,\"#d8576b\"],[0.6666666666666666,\"#ed7953\"],[0.7777777777777778,\"#fb9f3a\"],[0.8888888888888888,\"#fdca26\"],[1.0,\"#f0f921\"]],\"type\":\"surface\"}],\"table\":[{\"cells\":{\"fill\":{\"color\":\"#EBF0F8\"},\"line\":{\"color\":\"white\"}},\"header\":{\"fill\":{\"color\":\"#C8D4E3\"},\"line\":{\"color\":\"white\"}},\"type\":\"table\"}]},\"layout\":{\"annotationdefaults\":{\"arrowcolor\":\"#2a3f5f\",\"arrowhead\":0,\"arrowwidth\":1},\"autotypenumbers\":\"strict\",\"coloraxis\":{\"colorbar\":{\"outlinewidth\":0,\"ticks\":\"\"}},\"colorscale\":{\"diverging\":[[0,\"#8e0152\"],[0.1,\"#c51b7d\"],[0.2,\"#de77ae\"],[0.3,\"#f1b6da\"],[0.4,\"#fde0ef\"],[0.5,\"#f7f7f7\"],[0.6,\"#e6f5d0\"],[0.7,\"#b8e186\"],[0.8,\"#7fbc41\"],[0.9,\"#4d9221\"],[1,\"#276419\"]],\"sequential\":[[0.0,\"#0d0887\"],[0.1111111111111111,\"#46039f\"],[0.2222222222222222,\"#7201a8\"],[0.3333333333333333,\"#9c179e\"],[0.4444444444444444,\"#bd3786\"],[0.5555555555555556,\"#d8576b\"],[0.6666666666666666,\"#ed7953\"],[0.7777777777777778,\"#fb9f3a\"],[0.8888888888888888,\"#fdca26\"],[1.0,\"#f0f921\"]],\"sequentialminus\":[[0.0,\"#0d0887\"],[0.1111111111111111,\"#46039f\"],[0.2222222222222222,\"#7201a8\"],[0.3333333333333333,\"#9c179e\"],[0.4444444444444444,\"#bd3786\"],[0.5555555555555556,\"#d8576b\"],[0.6666666666666666,\"#ed7953\"],[0.7777777777777778,\"#fb9f3a\"],[0.8888888888888888,\"#fdca26\"],[1.0,\"#f0f921\"]]},\"colorway\":[\"#636efa\",\"#EF553B\",\"#00cc96\",\"#ab63fa\",\"#FFA15A\",\"#19d3f3\",\"#FF6692\",\"#B6E880\",\"#FF97FF\",\"#FECB52\"],\"font\":{\"color\":\"#2a3f5f\"},\"geo\":{\"bgcolor\":\"white\",\"lakecolor\":\"white\",\"landcolor\":\"#E5ECF6\",\"showlakes\":true,\"showland\":true,\"subunitcolor\":\"white\"},\"hoverlabel\":{\"align\":\"left\"},\"hovermode\":\"closest\",\"mapbox\":{\"style\":\"light\"},\"paper_bgcolor\":\"white\",\"plot_bgcolor\":\"#E5ECF6\",\"polar\":{\"angularaxis\":{\"gridcolor\":\"white\",\"linecolor\":\"white\",\"ticks\":\"\"},\"bgcolor\":\"#E5ECF6\",\"radialaxis\":{\"gridcolor\":\"white\",\"linecolor\":\"white\",\"ticks\":\"\"}},\"scene\":{\"xaxis\":{\"backgroundcolor\":\"#E5ECF6\",\"gridcolor\":\"white\",\"gridwidth\":2,\"linecolor\":\"white\",\"showbackground\":true,\"ticks\":\"\",\"zerolinecolor\":\"white\"},\"yaxis\":{\"backgroundcolor\":\"#E5ECF6\",\"gridcolor\":\"white\",\"gridwidth\":2,\"linecolor\":\"white\",\"showbackground\":true,\"ticks\":\"\",\"zerolinecolor\":\"white\"},\"zaxis\":{\"backgroundcolor\":\"#E5ECF6\",\"gridcolor\":\"white\",\"gridwidth\":2,\"linecolor\":\"white\",\"showbackground\":true,\"ticks\":\"\",\"zerolinecolor\":\"white\"}},\"shapedefaults\":{\"line\":{\"color\":\"#2a3f5f\"}},\"ternary\":{\"aaxis\":{\"gridcolor\":\"white\",\"linecolor\":\"white\",\"ticks\":\"\"},\"baxis\":{\"gridcolor\":\"white\",\"linecolor\":\"white\",\"ticks\":\"\"},\"bgcolor\":\"#E5ECF6\",\"caxis\":{\"gridcolor\":\"white\",\"linecolor\":\"white\",\"ticks\":\"\"}},\"title\":{\"x\":0.05},\"xaxis\":{\"automargin\":true,\"gridcolor\":\"white\",\"linecolor\":\"white\",\"ticks\":\"\",\"title\":{\"standoff\":15},\"zerolinecolor\":\"white\",\"zerolinewidth\":2},\"yaxis\":{\"automargin\":true,\"gridcolor\":\"white\",\"linecolor\":\"white\",\"ticks\":\"\",\"title\":{\"standoff\":15},\"zerolinecolor\":\"white\",\"zerolinewidth\":2}}},\"xaxis\":{\"anchor\":\"y\",\"domain\":[0.0,1.0],\"title\":{\"text\":\"x\"}},\"yaxis\":{\"anchor\":\"x\",\"domain\":[0.0,1.0],\"title\":{\"text\":\"y\"}},\"legend\":{\"tracegroupgap\":0},\"margin\":{\"t\":60}},                        {\"responsive\": true}                    ).then(function(){\n",
              "                            \n",
              "var gd = document.getElementById('354c4ca0-cbc4-4821-9514-2d6b8d7684ca');\n",
              "var x = new MutationObserver(function (mutations, observer) {{\n",
              "        var display = window.getComputedStyle(gd).display;\n",
              "        if (!display || display === 'none') {{\n",
              "            console.log([gd, 'removed!']);\n",
              "            Plotly.purge(gd);\n",
              "            observer.disconnect();\n",
              "        }}\n",
              "}});\n",
              "\n",
              "// Listen for the removal of the full notebook cells\n",
              "var notebookContainer = gd.closest('#notebook-container');\n",
              "if (notebookContainer) {{\n",
              "    x.observe(notebookContainer, {childList: true});\n",
              "}}\n",
              "\n",
              "// Listen for the clearing of the current output cell\n",
              "var outputEl = gd.closest('.output');\n",
              "if (outputEl) {{\n",
              "    x.observe(outputEl, {childList: true});\n",
              "}}\n",
              "\n",
              "                        })                };                            </script>        </div>\n",
              "</body>\n",
              "</html>"
            ]
          },
          "metadata": {}
        }
      ]
    },
    {
      "cell_type": "markdown",
      "source": [
        "# Корреляционная матрица"
      ],
      "metadata": {
        "id": "jZ6todglfee1"
      }
    },
    {
      "cell_type": "code",
      "source": [
        "rgsrs=data\n",
        "corr_matrix=rgsrs.corr()\n",
        "\n",
        "sns.set(rc={\"figure.figsize\":(15, 6)})#Задаем размер окна\n",
        "cmap = sns.diverging_palette(230, 20, as_cmap=True)#Задаем палитру\n",
        "sns.heatmap(corr_matrix, annot=True, cmap=cmap)"
      ],
      "metadata": {
        "id": "I6Or2-T1fdfP",
        "colab": {
          "base_uri": "https://localhost:8080/",
          "height": 295
        },
        "outputId": "08d14e28-91e9-4d60-f4d2-f22792ec36b0"
      },
      "execution_count": null,
      "outputs": [
        {
          "output_type": "execute_result",
          "data": {
            "text/plain": [
              "<matplotlib.axes._subplots.AxesSubplot at 0x7f7ffb44a190>"
            ]
          },
          "metadata": {},
          "execution_count": 8
        },
        {
          "output_type": "display_data",
          "data": {
            "text/plain": [
              "<Figure size 1080x432 with 2 Axes>"
            ],
            "image/png": "[encoded data removed]"
          },
          "metadata": {}
        }
      ]
    },
    {
      "cell_type": "markdown",
      "source": [
        "Хоть здесь присутствует сильная корреляция между Reg и IR2, однако она между двумя столбцами одной и той же категориалной переменной. Поэтому её не считаем.\n",
        "\n",
        "также заметим, что оцениваемое значение имеет сильный коэф. коррел. с YearBuilt\n",
        "\n",
        "**В целом мультколлинерности между факторами нет**\n",
        "\n",
        "На всякий случай проверим другим способом - определитель матрицы $det(X^T*X)$"
      ],
      "metadata": {
        "id": "bU2axr_9loN7"
      }
    },
    {
      "cell_type": "code",
      "source": [
        "tmp=np.array(data.iloc[:,1:])\n",
        "tmp=sm.add_constant(tmp)\n",
        "\n",
        "XTX_wc=np.matmul(tmp.transpose(),tmp)\n",
        "np.linalg.det(XTX_wc)"
      ],
      "metadata": {
        "colab": {
          "base_uri": "https://localhost:8080/"
        },
        "id": "KbJRt8s2878K",
        "outputId": "0cb8788c-a95c-48af-fd21-ffd6531e42bf"
      },
      "execution_count": null,
      "outputs": [
        {
          "output_type": "execute_result",
          "data": {
            "text/plain": [
              "82942471.42703168"
            ]
          },
          "metadata": {},
          "execution_count": 9
        }
      ]
    },
    {
      "cell_type": "markdown",
      "source": [
        "Совсем не около нуля"
      ],
      "metadata": {
        "id": "A4iMaQwF_Qji"
      }
    },
    {
      "cell_type": "markdown",
      "source": [
        "#Первая модель со всеми факторами"
      ],
      "metadata": {
        "id": "JChq8RI_liXl"
      }
    },
    {
      "cell_type": "code",
      "source": [
        "from sklearn.linear_model import LinearRegression\n",
        "\n",
        "model = LinearRegression()\n",
        "\n",
        "X1=data.iloc[:,1:]\n",
        "model.fit(X1, Y)\n",
        "\n",
        "a=model.intercept_\n",
        "\n",
        "\n",
        "b=model.coef_\n",
        "\n",
        "model.score(X1,Y)"
      ],
      "metadata": {
        "id": "PsydDD_0XfPF",
        "colab": {
          "base_uri": "https://localhost:8080/"
        },
        "outputId": "52ab97c9-924b-4e3d-8b0b-281f8d2f021c"
      },
      "execution_count": null,
      "outputs": [
        {
          "output_type": "execute_result",
          "data": {
            "text/plain": [
              "0.6569862297537896"
            ]
          },
          "metadata": {},
          "execution_count": 11
        }
      ]
    },
    {
      "cell_type": "code",
      "source": [
        "a,b"
      ],
      "metadata": {
        "id": "TpeEIYfH6PAa",
        "colab": {
          "base_uri": "https://localhost:8080/"
        },
        "outputId": "896b729b-1255-4114-8603-bf0e9dfb4611"
      },
      "execution_count": null,
      "outputs": [
        {
          "output_type": "execute_result",
          "data": {
            "text/plain": [
              "(-3345854.513282853,\n",
              " array([ 3.13624477e+02,  3.52789751e+00,  1.73332078e+03,  2.04785142e+04,\n",
              "         7.11375339e+03, -3.90014016e+03, -3.21361322e+03]))"
            ]
          },
          "metadata": {},
          "execution_count": 12
        }
      ]
    },
    {
      "cell_type": "code",
      "source": [
        "\n",
        "#print(X1)\n",
        "x4_m=sm.add_constant(X1)\n",
        "\n",
        "model=sm.OLS(Y, x4_m).fit()\n",
        "\n",
        "model.summary()"
      ],
      "metadata": {
        "id": "IEQO9D94478x",
        "colab": {
          "base_uri": "https://localhost:8080/",
          "height": 696
        },
        "outputId": "3e1ee3e5-5cf8-46c6-f50a-ad34af61efb6"
      },
      "execution_count": null,
      "outputs": [
        {
          "output_type": "stream",
          "name": "stderr",
          "text": [
            "/usr/local/lib/python3.8/dist-packages/statsmodels/tsa/tsatools.py:142: FutureWarning:\n",
            "\n",
            "In a future version of pandas all arguments of concat except for the argument 'objs' will be keyword-only\n",
            "\n"
          ]
        },
        {
          "output_type": "execute_result",
          "data": {
            "text/plain": [
              "<class 'statsmodels.iolib.summary.Summary'>\n",
              "\"\"\"\n",
              "                            OLS Regression Results                            \n",
              "==============================================================================\n",
              "Dep. Variable:              SalePrice   R-squared:                       0.657\n",
              "Model:                            OLS   Adj. R-squared:                  0.609\n",
              "Method:                 Least Squares   F-statistic:                     13.73\n",
              "Date:                Sun, 11 Dec 2022   Prob (F-statistic):           1.22e-08\n",
              "Time:                        11:28:40   Log-Likelihood:                -603.34\n",
              "No. Observations:                  50   AIC:                             1221.\n",
              "Df Residuals:                      43   BIC:                             1234.\n",
              "Df Model:                           6                                         \n",
              "Covariance Type:            nonrobust                                         \n",
              "================================================================================\n",
              "                   coef    std err          t      P>|t|      [0.025      0.975]\n",
              "--------------------------------------------------------------------------------\n",
              "const        -2.509e+06   3.93e+05     -6.378      0.000    -3.3e+06   -1.72e+06\n",
              "MSSubClass     313.6245    174.768      1.795      0.080     -38.829     666.078\n",
              "LotArea          3.5279      2.960      1.192      0.240      -2.441       9.497\n",
              "YearBuilt     1733.3208    276.443      6.270      0.000    1175.820    2290.822\n",
              "BedroomAbvGr  2.048e+04   9551.473      2.144      0.038    1216.134    3.97e+04\n",
              "Reg          -8.293e+05   1.33e+05     -6.231      0.000    -1.1e+06   -5.61e+05\n",
              "IR1          -8.404e+05   1.32e+05     -6.360      0.000   -1.11e+06   -5.74e+05\n",
              "IR2          -8.397e+05   1.34e+05     -6.254      0.000   -1.11e+06   -5.69e+05\n",
              "==============================================================================\n",
              "Omnibus:                        1.578   Durbin-Watson:                   1.733\n",
              "Prob(Omnibus):                  0.454   Jarque-Bera (JB):                1.116\n",
              "Skew:                           0.017   Prob(JB):                        0.572\n",
              "Kurtosis:                       2.269   Cond. No.                     1.97e+20\n",
              "==============================================================================\n",
              "\n",
              "Notes:\n",
              "[1] Standard Errors assume that the covariance matrix of the errors is correctly specified.\n",
              "[2] The smallest eigenvalue is 1.42e-31. This might indicate that there are\n",
              "strong multicollinearity problems or that the design matrix is singular.\n",
              "\"\"\""
            ],
            "text/html": [
              "<table class=\"simpletable\">\n",
              "<caption>OLS Regression Results</caption>\n",
              "<tr>\n",
              "  <th>Dep. Variable:</th>        <td>SalePrice</td>    <th>  R-squared:         </th> <td>   0.657</td>\n",
              "</tr>\n",
              "<tr>\n",
              "  <th>Model:</th>                   <td>OLS</td>       <th>  Adj. R-squared:    </th> <td>   0.609</td>\n",
              "</tr>\n",
              "<tr>\n",
              "  <th>Method:</th>             <td>Least Squares</td>  <th>  F-statistic:       </th> <td>   13.73</td>\n",
              "</tr>\n",
              "<tr>\n",
              "  <th>Date:</th>             <td>Sun, 11 Dec 2022</td> <th>  Prob (F-statistic):</th> <td>1.22e-08</td>\n",
              "</tr>\n",
              "<tr>\n",
              "  <th>Time:</th>                 <td>11:28:40</td>     <th>  Log-Likelihood:    </th> <td> -603.34</td>\n",
              "</tr>\n",
              "<tr>\n",
              "  <th>No. Observations:</th>      <td>    50</td>      <th>  AIC:               </th> <td>   1221.</td>\n",
              "</tr>\n",
              "<tr>\n",
              "  <th>Df Residuals:</th>          <td>    43</td>      <th>  BIC:               </th> <td>   1234.</td>\n",
              "</tr>\n",
              "<tr>\n",
              "  <th>Df Model:</th>              <td>     6</td>      <th>                     </th>     <td> </td>   \n",
              "</tr>\n",
              "<tr>\n",
              "  <th>Covariance Type:</th>      <td>nonrobust</td>    <th>                     </th>     <td> </td>   \n",
              "</tr>\n",
              "</table>\n",
              "<table class=\"simpletable\">\n",
              "<tr>\n",
              "        <td></td>          <th>coef</th>     <th>std err</th>      <th>t</th>      <th>P>|t|</th>  <th>[0.025</th>    <th>0.975]</th>  \n",
              "</tr>\n",
              "<tr>\n",
              "  <th>const</th>        <td>-2.509e+06</td> <td> 3.93e+05</td> <td>   -6.378</td> <td> 0.000</td> <td> -3.3e+06</td> <td>-1.72e+06</td>\n",
              "</tr>\n",
              "<tr>\n",
              "  <th>MSSubClass</th>   <td>  313.6245</td> <td>  174.768</td> <td>    1.795</td> <td> 0.080</td> <td>  -38.829</td> <td>  666.078</td>\n",
              "</tr>\n",
              "<tr>\n",
              "  <th>LotArea</th>      <td>    3.5279</td> <td>    2.960</td> <td>    1.192</td> <td> 0.240</td> <td>   -2.441</td> <td>    9.497</td>\n",
              "</tr>\n",
              "<tr>\n",
              "  <th>YearBuilt</th>    <td> 1733.3208</td> <td>  276.443</td> <td>    6.270</td> <td> 0.000</td> <td> 1175.820</td> <td> 2290.822</td>\n",
              "</tr>\n",
              "<tr>\n",
              "  <th>BedroomAbvGr</th> <td> 2.048e+04</td> <td> 9551.473</td> <td>    2.144</td> <td> 0.038</td> <td> 1216.134</td> <td> 3.97e+04</td>\n",
              "</tr>\n",
              "<tr>\n",
              "  <th>Reg</th>          <td>-8.293e+05</td> <td> 1.33e+05</td> <td>   -6.231</td> <td> 0.000</td> <td> -1.1e+06</td> <td>-5.61e+05</td>\n",
              "</tr>\n",
              "<tr>\n",
              "  <th>IR1</th>          <td>-8.404e+05</td> <td> 1.32e+05</td> <td>   -6.360</td> <td> 0.000</td> <td>-1.11e+06</td> <td>-5.74e+05</td>\n",
              "</tr>\n",
              "<tr>\n",
              "  <th>IR2</th>          <td>-8.397e+05</td> <td> 1.34e+05</td> <td>   -6.254</td> <td> 0.000</td> <td>-1.11e+06</td> <td>-5.69e+05</td>\n",
              "</tr>\n",
              "</table>\n",
              "<table class=\"simpletable\">\n",
              "<tr>\n",
              "  <th>Omnibus:</th>       <td> 1.578</td> <th>  Durbin-Watson:     </th> <td>   1.733</td>\n",
              "</tr>\n",
              "<tr>\n",
              "  <th>Prob(Omnibus):</th> <td> 0.454</td> <th>  Jarque-Bera (JB):  </th> <td>   1.116</td>\n",
              "</tr>\n",
              "<tr>\n",
              "  <th>Skew:</th>          <td> 0.017</td> <th>  Prob(JB):          </th> <td>   0.572</td>\n",
              "</tr>\n",
              "<tr>\n",
              "  <th>Kurtosis:</th>      <td> 2.269</td> <th>  Cond. No.          </th> <td>1.97e+20</td>\n",
              "</tr>\n",
              "</table><br/><br/>Notes:<br/>[1] Standard Errors assume that the covariance matrix of the errors is correctly specified.<br/>[2] The smallest eigenvalue is 1.42e-31. This might indicate that there are<br/>strong multicollinearity problems or that the design matrix is singular."
            ]
          },
          "metadata": {},
          "execution_count": 13
        }
      ]
    },
    {
      "cell_type": "code",
      "source": [
        "np.array(model.params)"
      ],
      "metadata": {
        "id": "7TBKl-t76ZBh",
        "colab": {
          "base_uri": "https://localhost:8080/"
        },
        "outputId": "f05bda6c-09ac-4901-a8ef-6943beb10936"
      },
      "execution_count": null,
      "outputs": [
        {
          "output_type": "execute_result",
          "data": {
            "text/plain": [
              "array([-2.50939088e+06,  3.13624477e+02,  3.52789751e+00,  1.73332078e+03,\n",
              "        2.04785142e+04, -8.29349875e+05, -8.40363768e+05, -8.39677242e+05])"
            ]
          },
          "metadata": {},
          "execution_count": 14
        }
      ]
    },
    {
      "cell_type": "markdown",
      "source": [
        "Видим что почти все коэффиценты почти нулевые кроме свободного и второго. Что пошло не так?/\n",
        "\n",
        "Заметим что как раз второй признак гораздо больше численно чем другие.\n",
        "\n",
        "Поэтому сделаем все данные чтобы было примерно одного порядка"
      ],
      "metadata": {
        "id": "BzBRdVRaeJY2"
      }
    },
    {
      "cell_type": "markdown",
      "source": [
        "#Вторая модель (первая, но со станд. данными)"
      ],
      "metadata": {
        "id": "q8j83E6glt8q"
      }
    },
    {
      "cell_type": "markdown",
      "source": [
        "В данной модели попробуем преобразовать данные: стандартизировать регресоры"
      ],
      "metadata": {
        "id": "mZn0sveypnAM"
      }
    },
    {
      "cell_type": "markdown",
      "source": [
        "BoxPlot данных смотрим что не так"
      ],
      "metadata": {
        "id": "lPfXke-Ot5O5"
      }
    },
    {
      "cell_type": "code",
      "source": [
        "#X1.boxplot()\n",
        "\n",
        "sns.boxplot(x=\"variable\", y=\"value\", data=pd.melt(X1))"
      ],
      "metadata": {
        "id": "k5jyuX5Aq1lR",
        "colab": {
          "base_uri": "https://localhost:8080/",
          "height": 108
        },
        "outputId": "717d4f8c-962b-46b5-a6ad-9b97d609d98a"
      },
      "execution_count": null,
      "outputs": [
        {
          "output_type": "execute_result",
          "data": {
            "text/plain": [
              "<matplotlib.axes._subplots.AxesSubplot at 0x7f7ff4e50370>"
            ]
          },
          "metadata": {},
          "execution_count": 15
        },
        {
          "output_type": "display_data",
          "data": {
            "text/plain": [
              "<Figure size 1080x432 with 1 Axes>"
            ],
            "image/png": "[encoded data removed]"
          },
          "metadata": {}
        }
      ]
    },
    {
      "cell_type": "markdown",
      "source": [
        "Видим что второй сильно перевешивает Посмотрим как выглядит картина без второго и третьего признака."
      ],
      "metadata": {
        "id": "EyLUdWDLt-m4"
      }
    },
    {
      "cell_type": "code",
      "source": [
        "X1_exceptLA=X1.loc[:, ~X1.columns.isin(['const','LotArea','YearBuilt'])]\n",
        "\n",
        "sns.boxplot(x=\"variable\", y=\"value\", data=pd.melt(X1_exceptLA))"
      ],
      "metadata": {
        "id": "yxRxWMYFuFkk",
        "colab": {
          "base_uri": "https://localhost:8080/",
          "height": 108
        },
        "outputId": "b95debfd-0b03-4c76-d541-07a446273c47"
      },
      "execution_count": null,
      "outputs": [
        {
          "output_type": "execute_result",
          "data": {
            "text/plain": [
              "<matplotlib.axes._subplots.AxesSubplot at 0x7f7ff4da7640>"
            ]
          },
          "metadata": {},
          "execution_count": 16
        },
        {
          "output_type": "display_data",
          "data": {
            "text/plain": [
              "<Figure size 1080x432 with 1 Axes>"
            ],
            "image/png": "[encoded data removed]"
          },
          "metadata": {}
        }
      ]
    },
    {
      "cell_type": "markdown",
      "source": [
        "Выглядит все равно очень плохо. Преобразуем данные к одному виду, а именно с помощью стандартизации"
      ],
      "metadata": {
        "id": "zguOFbWMwUDB"
      }
    },
    {
      "cell_type": "code",
      "source": [
        "scaler = StandardScaler().fit(X1)\n",
        "X_std = scaler.transform(X1)\n",
        "\n",
        "dX_std=pd.DataFrame(X_std)\n",
        "dX_std=dX_std.set_axis(X1.columns,axis=1)\n",
        "\n",
        "data.head(3)"
      ],
      "metadata": {
        "id": "29FVQagblsWZ",
        "colab": {
          "base_uri": "https://localhost:8080/",
          "height": 206
        },
        "outputId": "994bbdec-7509-4276-e80d-a110fc6aa719"
      },
      "execution_count": null,
      "outputs": [
        {
          "output_type": "execute_result",
          "data": {
            "text/plain": [
              "   SalePrice  MSSubClass  LotArea  YearBuilt  BedroomAbvGr  Reg  IR1  IR2\n",
              "0     208500          60     8450       2003             3    0    0    1\n",
              "1     181500          20     9600       1976             3    0    0    1\n",
              "2     223500          60    11250       2001             3    1    0    0"
            ],
            "text/html": [
              "\n",
              "  <div id=\"df-b098ea29-0c94-479e-9263-036f75f1595e\">\n",
              "    <div class=\"colab-df-container\">\n",
              "      <div>\n",
              "<style scoped>\n",
              "    .dataframe tbody tr th:only-of-type {\n",
              "        vertical-align: middle;\n",
              "    }\n",
              "\n",
              "    .dataframe tbody tr th {\n",
              "        vertical-align: top;\n",
              "    }\n",
              "\n",
              "    .dataframe thead th {\n",
              "        text-align: right;\n",
              "    }\n",
              "</style>\n",
              "<table border=\"1\" class=\"dataframe\">\n",
              "  <thead>\n",
              "    <tr style=\"text-align: right;\">\n",
              "      <th></th>\n",
              "      <th>SalePrice</th>\n",
              "      <th>MSSubClass</th>\n",
              "      <th>LotArea</th>\n",
              "      <th>YearBuilt</th>\n",
              "      <th>BedroomAbvGr</th>\n",
              "      <th>Reg</th>\n",
              "      <th>IR1</th>\n",
              "      <th>IR2</th>\n",
              "    </tr>\n",
              "  </thead>\n",
              "  <tbody>\n",
              "    <tr>\n",
              "      <th>0</th>\n",
              "      <td>208500</td>\n",
              "      <td>60</td>\n",
              "      <td>8450</td>\n",
              "      <td>2003</td>\n",
              "      <td>3</td>\n",
              "      <td>0</td>\n",
              "      <td>0</td>\n",
              "      <td>1</td>\n",
              "    </tr>\n",
              "    <tr>\n",
              "      <th>1</th>\n",
              "      <td>181500</td>\n",
              "      <td>20</td>\n",
              "      <td>9600</td>\n",
              "      <td>1976</td>\n",
              "      <td>3</td>\n",
              "      <td>0</td>\n",
              "      <td>0</td>\n",
              "      <td>1</td>\n",
              "    </tr>\n",
              "    <tr>\n",
              "      <th>2</th>\n",
              "      <td>223500</td>\n",
              "      <td>60</td>\n",
              "      <td>11250</td>\n",
              "      <td>2001</td>\n",
              "      <td>3</td>\n",
              "      <td>1</td>\n",
              "      <td>0</td>\n",
              "      <td>0</td>\n",
              "    </tr>\n",
              "  </tbody>\n",
              "</table>\n",
              "</div>\n",
              "      <button class=\"colab-df-convert\" onclick=\"convertToInteractive('df-b098ea29-0c94-479e-9263-036f75f1595e')\"\n",
              "              title=\"Convert this dataframe to an interactive table.\"\n",
              "              style=\"display:none;\">\n",
              "        \n",
              "  <svg xmlns=\"http://www.w3.org/2000/svg\" height=\"24px\"viewBox=\"0 0 24 24\"\n",
              "       width=\"24px\">\n",
              "    <path d=\"M0 0h24v24H0V0z\" fill=\"none\"/>\n",
              "    <path d=\"M18.56 5.44l.94 2.06.94-2.06 2.06-.94-2.06-.94-.94-2.06-.94 2.06-2.06.94zm-11 1L8.5 8.5l.94-2.06 2.06-.94-2.06-.94L8.5 2.5l-.94 2.06-2.06.94zm10 10l.94 2.06.94-2.06 2.06-.94-2.06-.94-.94-2.06-.94 2.06-2.06.94z\"/><path d=\"M17.41 7.96l-1.37-1.37c-.4-.4-.92-.59-1.43-.59-.52 0-1.04.2-1.43.59L10.3 9.45l-7.72 7.72c-.78.78-.78 2.05 0 2.83L4 21.41c.39.39.9.59 1.41.59.51 0 1.02-.2 1.41-.59l7.78-7.78 2.81-2.81c.8-.78.8-2.07 0-2.86zM5.41 20L4 18.59l7.72-7.72 1.47 1.35L5.41 20z\"/>\n",
              "  </svg>\n",
              "      </button>\n",
              "      \n",
              "  <style>\n",
              "    .colab-df-container {\n",
              "      display:flex;\n",
              "      flex-wrap:wrap;\n",
              "      gap: 12px;\n",
              "    }\n",
              "\n",
              "    .colab-df-convert {\n",
              "      background-color: #E8F0FE;\n",
              "      border: none;\n",
              "      border-radius: 50%;\n",
              "      cursor: pointer;\n",
              "      display: none;\n",
              "      fill: #1967D2;\n",
              "      height: 32px;\n",
              "      padding: 0 0 0 0;\n",
              "      width: 32px;\n",
              "    }\n",
              "\n",
              "    .colab-df-convert:hover {\n",
              "      background-color: #E2EBFA;\n",
              "      box-shadow: 0px 1px 2px rgba(60, 64, 67, 0.3), 0px 1px 3px 1px rgba(60, 64, 67, 0.15);\n",
              "      fill: #174EA6;\n",
              "    }\n",
              "\n",
              "    [theme=dark] .colab-df-convert {\n",
              "      background-color: #3B4455;\n",
              "      fill: #D2E3FC;\n",
              "    }\n",
              "\n",
              "    [theme=dark] .colab-df-convert:hover {\n",
              "      background-color: #434B5C;\n",
              "      box-shadow: 0px 1px 3px 1px rgba(0, 0, 0, 0.15);\n",
              "      filter: drop-shadow(0px 1px 2px rgba(0, 0, 0, 0.3));\n",
              "      fill: #FFFFFF;\n",
              "    }\n",
              "  </style>\n",
              "\n",
              "      <script>\n",
              "        const buttonEl =\n",
              "          document.querySelector('#df-b098ea29-0c94-479e-9263-036f75f1595e button.colab-df-convert');\n",
              "        buttonEl.style.display =\n",
              "          google.colab.kernel.accessAllowed ? 'block' : 'none';\n",
              "\n",
              "        async function convertToInteractive(key) {\n",
              "          const element = document.querySelector('#df-b098ea29-0c94-479e-9263-036f75f1595e');\n",
              "          const dataTable =\n",
              "            await google.colab.kernel.invokeFunction('convertToInteractive',\n",
              "                                                     [key], {});\n",
              "          if (!dataTable) return;\n",
              "\n",
              "          const docLinkHtml = 'Like what you see? Visit the ' +\n",
              "            '<a target=\"_blank\" href=https://colab.research.google.com/notebooks/data_table.ipynb>data table notebook</a>'\n",
              "            + ' to learn more about interactive tables.';\n",
              "          element.innerHTML = '';\n",
              "          dataTable['output_type'] = 'display_data';\n",
              "          await google.colab.output.renderOutput(dataTable, element);\n",
              "          const docLink = document.createElement('div');\n",
              "          docLink.innerHTML = docLinkHtml;\n",
              "          element.appendChild(docLink);\n",
              "        }\n",
              "      </script>\n",
              "    </div>\n",
              "  </div>\n",
              "  "
            ]
          },
          "metadata": {},
          "execution_count": 17
        }
      ]
    },
    {
      "cell_type": "markdown",
      "source": [
        "Получаем"
      ],
      "metadata": {
        "id": "l20ftSLaw2ml"
      }
    },
    {
      "cell_type": "code",
      "source": [
        "sns.boxplot(x=\"variable\", y=\"value\", data=pd.melt(dX_std))"
      ],
      "metadata": {
        "id": "SLvB3jwDw4qm",
        "colab": {
          "base_uri": "https://localhost:8080/",
          "height": 108
        },
        "outputId": "588525ba-8a63-448d-e00e-0bb5105957e1"
      },
      "execution_count": null,
      "outputs": [
        {
          "output_type": "execute_result",
          "data": {
            "text/plain": [
              "<matplotlib.axes._subplots.AxesSubplot at 0x7f7ff4cd0a00>"
            ]
          },
          "metadata": {},
          "execution_count": 18
        },
        {
          "output_type": "display_data",
          "data": {
            "text/plain": [
              "<Figure size 1080x432 with 1 Axes>"
            ],
            "image/png": "[encoded data removed]"
          },
          "metadata": {}
        }
      ]
    },
    {
      "cell_type": "markdown",
      "source": [
        "Корреляционная матрица будет такая же Поэтому сразу перейдем к модели"
      ],
      "metadata": {
        "id": "A6eGFwU3yYL0"
      }
    },
    {
      "cell_type": "code",
      "source": [
        "x_4m = sm.add_constant(X_std)\n",
        "\n",
        "model2=sm.OLS(Y, x_4m).fit()\n",
        "\n",
        "\n",
        "model2.summary()"
      ],
      "metadata": {
        "id": "o6wJXHza7I58",
        "colab": {
          "base_uri": "https://localhost:8080/",
          "height": 604
        },
        "outputId": "f24266ed-7f38-476b-fe30-4d4c7e620891"
      },
      "execution_count": null,
      "outputs": [
        {
          "output_type": "execute_result",
          "data": {
            "text/plain": [
              "<class 'statsmodels.iolib.summary.Summary'>\n",
              "\"\"\"\n",
              "                            OLS Regression Results                            \n",
              "==============================================================================\n",
              "Dep. Variable:              SalePrice   R-squared:                       0.657\n",
              "Model:                            OLS   Adj. R-squared:                  0.609\n",
              "Method:                 Least Squares   F-statistic:                     13.73\n",
              "Date:                Sun, 11 Dec 2022   Prob (F-statistic):           1.22e-08\n",
              "Time:                        15:32:47   Log-Likelihood:                -603.34\n",
              "No. Observations:                  50   AIC:                             1221.\n",
              "Df Residuals:                      43   BIC:                             1234.\n",
              "Df Model:                           6                                         \n",
              "Covariance Type:            nonrobust                                         \n",
              "==============================================================================\n",
              "                 coef    std err          t      P>|t|      [0.025      0.975]\n",
              "------------------------------------------------------------------------------\n",
              "const       1.796e+05   6420.630     27.978      0.000    1.67e+05    1.93e+05\n",
              "x1          1.287e+04   7174.540      1.795      0.080   -1593.990    2.73e+04\n",
              "x2          1.008e+04   8457.746      1.192      0.240   -6975.830    2.71e+04\n",
              "x3          4.827e+04   7697.737      6.270      0.000    3.27e+04    6.38e+04\n",
              "x4          1.491e+04   6953.577      2.144      0.038     885.359    2.89e+04\n",
              "x5          2618.4513   3574.270      0.733      0.468   -4589.751    9826.654\n",
              "x6          -778.2301   6380.165     -0.122      0.903   -1.36e+04    1.21e+04\n",
              "x7         -2364.9288   3616.363     -0.654      0.517   -9658.020    4928.163\n",
              "==============================================================================\n",
              "Omnibus:                        1.578   Durbin-Watson:                   1.733\n",
              "Prob(Omnibus):                  0.454   Jarque-Bera (JB):                1.116\n",
              "Skew:                           0.017   Prob(JB):                        0.572\n",
              "Kurtosis:                       2.269   Cond. No.                     8.76e+15\n",
              "==============================================================================\n",
              "\n",
              "Notes:\n",
              "[1] Standard Errors assume that the covariance matrix of the errors is correctly specified.\n",
              "[2] The smallest eigenvalue is 1.53e-30. This might indicate that there are\n",
              "strong multicollinearity problems or that the design matrix is singular.\n",
              "\"\"\""
            ],
            "text/html": [
              "<table class=\"simpletable\">\n",
              "<caption>OLS Regression Results</caption>\n",
              "<tr>\n",
              "  <th>Dep. Variable:</th>        <td>SalePrice</td>    <th>  R-squared:         </th> <td>   0.657</td>\n",
              "</tr>\n",
              "<tr>\n",
              "  <th>Model:</th>                   <td>OLS</td>       <th>  Adj. R-squared:    </th> <td>   0.609</td>\n",
              "</tr>\n",
              "<tr>\n",
              "  <th>Method:</th>             <td>Least Squares</td>  <th>  F-statistic:       </th> <td>   13.73</td>\n",
              "</tr>\n",
              "<tr>\n",
              "  <th>Date:</th>             <td>Sun, 11 Dec 2022</td> <th>  Prob (F-statistic):</th> <td>1.22e-08</td>\n",
              "</tr>\n",
              "<tr>\n",
              "  <th>Time:</th>                 <td>15:32:47</td>     <th>  Log-Likelihood:    </th> <td> -603.34</td>\n",
              "</tr>\n",
              "<tr>\n",
              "  <th>No. Observations:</th>      <td>    50</td>      <th>  AIC:               </th> <td>   1221.</td>\n",
              "</tr>\n",
              "<tr>\n",
              "  <th>Df Residuals:</th>          <td>    43</td>      <th>  BIC:               </th> <td>   1234.</td>\n",
              "</tr>\n",
              "<tr>\n",
              "  <th>Df Model:</th>              <td>     6</td>      <th>                     </th>     <td> </td>   \n",
              "</tr>\n",
              "<tr>\n",
              "  <th>Covariance Type:</th>      <td>nonrobust</td>    <th>                     </th>     <td> </td>   \n",
              "</tr>\n",
              "</table>\n",
              "<table class=\"simpletable\">\n",
              "<tr>\n",
              "    <td></td>       <th>coef</th>     <th>std err</th>      <th>t</th>      <th>P>|t|</th>  <th>[0.025</th>    <th>0.975]</th>  \n",
              "</tr>\n",
              "<tr>\n",
              "  <th>const</th> <td> 1.796e+05</td> <td> 6420.630</td> <td>   27.978</td> <td> 0.000</td> <td> 1.67e+05</td> <td> 1.93e+05</td>\n",
              "</tr>\n",
              "<tr>\n",
              "  <th>x1</th>    <td> 1.287e+04</td> <td> 7174.540</td> <td>    1.795</td> <td> 0.080</td> <td>-1593.990</td> <td> 2.73e+04</td>\n",
              "</tr>\n",
              "<tr>\n",
              "  <th>x2</th>    <td> 1.008e+04</td> <td> 8457.746</td> <td>    1.192</td> <td> 0.240</td> <td>-6975.830</td> <td> 2.71e+04</td>\n",
              "</tr>\n",
              "<tr>\n",
              "  <th>x3</th>    <td> 4.827e+04</td> <td> 7697.737</td> <td>    6.270</td> <td> 0.000</td> <td> 3.27e+04</td> <td> 6.38e+04</td>\n",
              "</tr>\n",
              "<tr>\n",
              "  <th>x4</th>    <td> 1.491e+04</td> <td> 6953.577</td> <td>    2.144</td> <td> 0.038</td> <td>  885.359</td> <td> 2.89e+04</td>\n",
              "</tr>\n",
              "<tr>\n",
              "  <th>x5</th>    <td> 2618.4513</td> <td> 3574.270</td> <td>    0.733</td> <td> 0.468</td> <td>-4589.751</td> <td> 9826.654</td>\n",
              "</tr>\n",
              "<tr>\n",
              "  <th>x6</th>    <td> -778.2301</td> <td> 6380.165</td> <td>   -0.122</td> <td> 0.903</td> <td>-1.36e+04</td> <td> 1.21e+04</td>\n",
              "</tr>\n",
              "<tr>\n",
              "  <th>x7</th>    <td>-2364.9288</td> <td> 3616.363</td> <td>   -0.654</td> <td> 0.517</td> <td>-9658.020</td> <td> 4928.163</td>\n",
              "</tr>\n",
              "</table>\n",
              "<table class=\"simpletable\">\n",
              "<tr>\n",
              "  <th>Omnibus:</th>       <td> 1.578</td> <th>  Durbin-Watson:     </th> <td>   1.733</td>\n",
              "</tr>\n",
              "<tr>\n",
              "  <th>Prob(Omnibus):</th> <td> 0.454</td> <th>  Jarque-Bera (JB):  </th> <td>   1.116</td>\n",
              "</tr>\n",
              "<tr>\n",
              "  <th>Skew:</th>          <td> 0.017</td> <th>  Prob(JB):          </th> <td>   0.572</td>\n",
              "</tr>\n",
              "<tr>\n",
              "  <th>Kurtosis:</th>      <td> 2.269</td> <th>  Cond. No.          </th> <td>8.76e+15</td>\n",
              "</tr>\n",
              "</table><br/><br/>Notes:<br/>[1] Standard Errors assume that the covariance matrix of the errors is correctly specified.<br/>[2] The smallest eigenvalue is 1.53e-30. This might indicate that there are<br/>strong multicollinearity problems or that the design matrix is singular."
            ]
          },
          "metadata": {},
          "execution_count": 199
        }
      ]
    },
    {
      "cell_type": "markdown",
      "source": [
        "В любом случае коэффицент детерминации оказался тот же. Нормализация не дала каких-либо улучшений. Надо было изначально посмотреть на $R'~^2$, а не на коэффиценты модели."
      ],
      "metadata": {
        "id": "A37cp-D9ihL1"
      }
    },
    {
      "cell_type": "markdown",
      "source": [
        "# Третья модель (усложнение модели)"
      ],
      "metadata": {
        "id": "hxx_n8qVlWCw"
      }
    },
    {
      "cell_type": "markdown",
      "source": [
        "Попробуем усложнить модель добавив еще одну зависимость для фиктивных переменных вида $y=b_0+b_1*x+b_2*d_1+b_3*d_1*x,$\\\n",
        "где $x$ - численная переменная, $d_1$ - фиктивная переменная в формате one-hot encodding, $b_i$ - коэффиценты модели"
      ],
      "metadata": {
        "id": "TEZAORQ8jYvS"
      }
    },
    {
      "cell_type": "code",
      "source": [
        "dX_std.head(5)"
      ],
      "metadata": {
        "id": "nQ8o9vzYzDCN",
        "colab": {
          "base_uri": "https://localhost:8080/",
          "height": 268
        },
        "outputId": "6ffec887-af11-4112-bdad-749112d93b53"
      },
      "execution_count": null,
      "outputs": [
        {
          "output_type": "execute_result",
          "data": {
            "text/plain": [
              "   MSSubClass   LotArea  YearBuilt  BedroomAbvGr       Reg       IR1       IR2\n",
              "0    0.304493 -0.515296   1.078086      0.412082 -0.750000 -0.142857  0.782881\n",
              "1   -0.669885 -0.112841   0.108455      0.412082 -0.750000 -0.142857  0.782881\n",
              "2    0.304493  0.464594   1.006262      0.412082  1.333333 -0.142857 -1.277333\n",
              "3    0.548088 -0.130339  -2.082193      0.412082  1.333333 -0.142857 -1.277333\n",
              "4    0.304493  1.517975   0.970349      1.785687  1.333333 -0.142857 -1.277333"
            ],
            "text/html": [
              "\n",
              "  <div id=\"df-8fdbe53e-1e9a-4b02-8809-a3abfa4a4b8a\">\n",
              "    <div class=\"colab-df-container\">\n",
              "      <div>\n",
              "<style scoped>\n",
              "    .dataframe tbody tr th:only-of-type {\n",
              "        vertical-align: middle;\n",
              "    }\n",
              "\n",
              "    .dataframe tbody tr th {\n",
              "        vertical-align: top;\n",
              "    }\n",
              "\n",
              "    .dataframe thead th {\n",
              "        text-align: right;\n",
              "    }\n",
              "</style>\n",
              "<table border=\"1\" class=\"dataframe\">\n",
              "  <thead>\n",
              "    <tr style=\"text-align: right;\">\n",
              "      <th></th>\n",
              "      <th>MSSubClass</th>\n",
              "      <th>LotArea</th>\n",
              "      <th>YearBuilt</th>\n",
              "      <th>BedroomAbvGr</th>\n",
              "      <th>Reg</th>\n",
              "      <th>IR1</th>\n",
              "      <th>IR2</th>\n",
              "    </tr>\n",
              "  </thead>\n",
              "  <tbody>\n",
              "    <tr>\n",
              "      <th>0</th>\n",
              "      <td>0.304493</td>\n",
              "      <td>-0.515296</td>\n",
              "      <td>1.078086</td>\n",
              "      <td>0.412082</td>\n",
              "      <td>-0.750000</td>\n",
              "      <td>-0.142857</td>\n",
              "      <td>0.782881</td>\n",
              "    </tr>\n",
              "    <tr>\n",
              "      <th>1</th>\n",
              "      <td>-0.669885</td>\n",
              "      <td>-0.112841</td>\n",
              "      <td>0.108455</td>\n",
              "      <td>0.412082</td>\n",
              "      <td>-0.750000</td>\n",
              "      <td>-0.142857</td>\n",
              "      <td>0.782881</td>\n",
              "    </tr>\n",
              "    <tr>\n",
              "      <th>2</th>\n",
              "      <td>0.304493</td>\n",
              "      <td>0.464594</td>\n",
              "      <td>1.006262</td>\n",
              "      <td>0.412082</td>\n",
              "      <td>1.333333</td>\n",
              "      <td>-0.142857</td>\n",
              "      <td>-1.277333</td>\n",
              "    </tr>\n",
              "    <tr>\n",
              "      <th>3</th>\n",
              "      <td>0.548088</td>\n",
              "      <td>-0.130339</td>\n",
              "      <td>-2.082193</td>\n",
              "      <td>0.412082</td>\n",
              "      <td>1.333333</td>\n",
              "      <td>-0.142857</td>\n",
              "      <td>-1.277333</td>\n",
              "    </tr>\n",
              "    <tr>\n",
              "      <th>4</th>\n",
              "      <td>0.304493</td>\n",
              "      <td>1.517975</td>\n",
              "      <td>0.970349</td>\n",
              "      <td>1.785687</td>\n",
              "      <td>1.333333</td>\n",
              "      <td>-0.142857</td>\n",
              "      <td>-1.277333</td>\n",
              "    </tr>\n",
              "  </tbody>\n",
              "</table>\n",
              "</div>\n",
              "      <button class=\"colab-df-convert\" onclick=\"convertToInteractive('df-8fdbe53e-1e9a-4b02-8809-a3abfa4a4b8a')\"\n",
              "              title=\"Convert this dataframe to an interactive table.\"\n",
              "              style=\"display:none;\">\n",
              "        \n",
              "  <svg xmlns=\"http://www.w3.org/2000/svg\" height=\"24px\"viewBox=\"0 0 24 24\"\n",
              "       width=\"24px\">\n",
              "    <path d=\"M0 0h24v24H0V0z\" fill=\"none\"/>\n",
              "    <path d=\"M18.56 5.44l.94 2.06.94-2.06 2.06-.94-2.06-.94-.94-2.06-.94 2.06-2.06.94zm-11 1L8.5 8.5l.94-2.06 2.06-.94-2.06-.94L8.5 2.5l-.94 2.06-2.06.94zm10 10l.94 2.06.94-2.06 2.06-.94-2.06-.94-.94-2.06-.94 2.06-2.06.94z\"/><path d=\"M17.41 7.96l-1.37-1.37c-.4-.4-.92-.59-1.43-.59-.52 0-1.04.2-1.43.59L10.3 9.45l-7.72 7.72c-.78.78-.78 2.05 0 2.83L4 21.41c.39.39.9.59 1.41.59.51 0 1.02-.2 1.41-.59l7.78-7.78 2.81-2.81c.8-.78.8-2.07 0-2.86zM5.41 20L4 18.59l7.72-7.72 1.47 1.35L5.41 20z\"/>\n",
              "  </svg>\n",
              "      </button>\n",
              "      \n",
              "  <style>\n",
              "    .colab-df-container {\n",
              "      display:flex;\n",
              "      flex-wrap:wrap;\n",
              "      gap: 12px;\n",
              "    }\n",
              "\n",
              "    .colab-df-convert {\n",
              "      background-color: #E8F0FE;\n",
              "      border: none;\n",
              "      border-radius: 50%;\n",
              "      cursor: pointer;\n",
              "      display: none;\n",
              "      fill: #1967D2;\n",
              "      height: 32px;\n",
              "      padding: 0 0 0 0;\n",
              "      width: 32px;\n",
              "    }\n",
              "\n",
              "    .colab-df-convert:hover {\n",
              "      background-color: #E2EBFA;\n",
              "      box-shadow: 0px 1px 2px rgba(60, 64, 67, 0.3), 0px 1px 3px 1px rgba(60, 64, 67, 0.15);\n",
              "      fill: #174EA6;\n",
              "    }\n",
              "\n",
              "    [theme=dark] .colab-df-convert {\n",
              "      background-color: #3B4455;\n",
              "      fill: #D2E3FC;\n",
              "    }\n",
              "\n",
              "    [theme=dark] .colab-df-convert:hover {\n",
              "      background-color: #434B5C;\n",
              "      box-shadow: 0px 1px 3px 1px rgba(0, 0, 0, 0.15);\n",
              "      filter: drop-shadow(0px 1px 2px rgba(0, 0, 0, 0.3));\n",
              "      fill: #FFFFFF;\n",
              "    }\n",
              "  </style>\n",
              "\n",
              "      <script>\n",
              "        const buttonEl =\n",
              "          document.querySelector('#df-8fdbe53e-1e9a-4b02-8809-a3abfa4a4b8a button.colab-df-convert');\n",
              "        buttonEl.style.display =\n",
              "          google.colab.kernel.accessAllowed ? 'block' : 'none';\n",
              "\n",
              "        async function convertToInteractive(key) {\n",
              "          const element = document.querySelector('#df-8fdbe53e-1e9a-4b02-8809-a3abfa4a4b8a');\n",
              "          const dataTable =\n",
              "            await google.colab.kernel.invokeFunction('convertToInteractive',\n",
              "                                                     [key], {});\n",
              "          if (!dataTable) return;\n",
              "\n",
              "          const docLinkHtml = 'Like what you see? Visit the ' +\n",
              "            '<a target=\"_blank\" href=https://colab.research.google.com/notebooks/data_table.ipynb>data table notebook</a>'\n",
              "            + ' to learn more about interactive tables.';\n",
              "          element.innerHTML = '';\n",
              "          dataTable['output_type'] = 'display_data';\n",
              "          await google.colab.output.renderOutput(dataTable, element);\n",
              "          const docLink = document.createElement('div');\n",
              "          docLink.innerHTML = docLinkHtml;\n",
              "          element.appendChild(docLink);\n",
              "        }\n",
              "      </script>\n",
              "    </div>\n",
              "  </div>\n",
              "  "
            ]
          },
          "metadata": {},
          "execution_count": 20
        }
      ]
    },
    {
      "cell_type": "code",
      "source": [
        "dX_std[\"Reg*LotArea\"]=dX_std['LotArea']*dX_std['Reg']\n",
        "dX_std[\"IR1*LotArea\"]=dX_std['LotArea']*dX_std['IR1']\n",
        "dX_std[\"IR2*LotArea\"]=dX_std['LotArea']*dX_std['IR2']\n",
        "\n",
        "dX_std.head(5)"
      ],
      "metadata": {
        "colab": {
          "base_uri": "https://localhost:8080/",
          "height": 268
        },
        "id": "MLS4Ug9Innq-",
        "outputId": "0785fd82-dcb6-4072-fbdf-cf2201676bec"
      },
      "execution_count": null,
      "outputs": [
        {
          "output_type": "execute_result",
          "data": {
            "text/plain": [
              "   MSSubClass   LotArea  YearBuilt  BedroomAbvGr       Reg       IR1  \\\n",
              "0    0.304493 -0.515296   1.078086      0.412082 -0.750000 -0.142857   \n",
              "1   -0.669885 -0.112841   0.108455      0.412082 -0.750000 -0.142857   \n",
              "2    0.304493  0.464594   1.006262      0.412082  1.333333 -0.142857   \n",
              "3    0.548088 -0.130339  -2.082193      0.412082  1.333333 -0.142857   \n",
              "4    0.304493  1.517975   0.970349      1.785687  1.333333 -0.142857   \n",
              "\n",
              "        IR2  Reg*LotArea  IR1*LotArea  IR2*LotArea  \n",
              "0  0.782881     0.386472     0.073614    -0.403416  \n",
              "1  0.782881     0.084631     0.016120    -0.088341  \n",
              "2 -1.277333     0.619458    -0.066371    -0.593441  \n",
              "3 -1.277333    -0.173786     0.018620     0.166487  \n",
              "4 -1.277333     2.023967    -0.216854    -1.938960  "
            ],
            "text/html": [
              "\n",
              "  <div id=\"df-a85c4860-8d50-439e-86c9-32133f447de1\">\n",
              "    <div class=\"colab-df-container\">\n",
              "      <div>\n",
              "<style scoped>\n",
              "    .dataframe tbody tr th:only-of-type {\n",
              "        vertical-align: middle;\n",
              "    }\n",
              "\n",
              "    .dataframe tbody tr th {\n",
              "        vertical-align: top;\n",
              "    }\n",
              "\n",
              "    .dataframe thead th {\n",
              "        text-align: right;\n",
              "    }\n",
              "</style>\n",
              "<table border=\"1\" class=\"dataframe\">\n",
              "  <thead>\n",
              "    <tr style=\"text-align: right;\">\n",
              "      <th></th>\n",
              "      <th>MSSubClass</th>\n",
              "      <th>LotArea</th>\n",
              "      <th>YearBuilt</th>\n",
              "      <th>BedroomAbvGr</th>\n",
              "      <th>Reg</th>\n",
              "      <th>IR1</th>\n",
              "      <th>IR2</th>\n",
              "      <th>Reg*LotArea</th>\n",
              "      <th>IR1*LotArea</th>\n",
              "      <th>IR2*LotArea</th>\n",
              "    </tr>\n",
              "  </thead>\n",
              "  <tbody>\n",
              "    <tr>\n",
              "      <th>0</th>\n",
              "      <td>0.304493</td>\n",
              "      <td>-0.515296</td>\n",
              "      <td>1.078086</td>\n",
              "      <td>0.412082</td>\n",
              "      <td>-0.750000</td>\n",
              "      <td>-0.142857</td>\n",
              "      <td>0.782881</td>\n",
              "      <td>0.386472</td>\n",
              "      <td>0.073614</td>\n",
              "      <td>-0.403416</td>\n",
              "    </tr>\n",
              "    <tr>\n",
              "      <th>1</th>\n",
              "      <td>-0.669885</td>\n",
              "      <td>-0.112841</td>\n",
              "      <td>0.108455</td>\n",
              "      <td>0.412082</td>\n",
              "      <td>-0.750000</td>\n",
              "      <td>-0.142857</td>\n",
              "      <td>0.782881</td>\n",
              "      <td>0.084631</td>\n",
              "      <td>0.016120</td>\n",
              "      <td>-0.088341</td>\n",
              "    </tr>\n",
              "    <tr>\n",
              "      <th>2</th>\n",
              "      <td>0.304493</td>\n",
              "      <td>0.464594</td>\n",
              "      <td>1.006262</td>\n",
              "      <td>0.412082</td>\n",
              "      <td>1.333333</td>\n",
              "      <td>-0.142857</td>\n",
              "      <td>-1.277333</td>\n",
              "      <td>0.619458</td>\n",
              "      <td>-0.066371</td>\n",
              "      <td>-0.593441</td>\n",
              "    </tr>\n",
              "    <tr>\n",
              "      <th>3</th>\n",
              "      <td>0.548088</td>\n",
              "      <td>-0.130339</td>\n",
              "      <td>-2.082193</td>\n",
              "      <td>0.412082</td>\n",
              "      <td>1.333333</td>\n",
              "      <td>-0.142857</td>\n",
              "      <td>-1.277333</td>\n",
              "      <td>-0.173786</td>\n",
              "      <td>0.018620</td>\n",
              "      <td>0.166487</td>\n",
              "    </tr>\n",
              "    <tr>\n",
              "      <th>4</th>\n",
              "      <td>0.304493</td>\n",
              "      <td>1.517975</td>\n",
              "      <td>0.970349</td>\n",
              "      <td>1.785687</td>\n",
              "      <td>1.333333</td>\n",
              "      <td>-0.142857</td>\n",
              "      <td>-1.277333</td>\n",
              "      <td>2.023967</td>\n",
              "      <td>-0.216854</td>\n",
              "      <td>-1.938960</td>\n",
              "    </tr>\n",
              "  </tbody>\n",
              "</table>\n",
              "</div>\n",
              "      <button class=\"colab-df-convert\" onclick=\"convertToInteractive('df-a85c4860-8d50-439e-86c9-32133f447de1')\"\n",
              "              title=\"Convert this dataframe to an interactive table.\"\n",
              "              style=\"display:none;\">\n",
              "        \n",
              "  <svg xmlns=\"http://www.w3.org/2000/svg\" height=\"24px\"viewBox=\"0 0 24 24\"\n",
              "       width=\"24px\">\n",
              "    <path d=\"M0 0h24v24H0V0z\" fill=\"none\"/>\n",
              "    <path d=\"M18.56 5.44l.94 2.06.94-2.06 2.06-.94-2.06-.94-.94-2.06-.94 2.06-2.06.94zm-11 1L8.5 8.5l.94-2.06 2.06-.94-2.06-.94L8.5 2.5l-.94 2.06-2.06.94zm10 10l.94 2.06.94-2.06 2.06-.94-2.06-.94-.94-2.06-.94 2.06-2.06.94z\"/><path d=\"M17.41 7.96l-1.37-1.37c-.4-.4-.92-.59-1.43-.59-.52 0-1.04.2-1.43.59L10.3 9.45l-7.72 7.72c-.78.78-.78 2.05 0 2.83L4 21.41c.39.39.9.59 1.41.59.51 0 1.02-.2 1.41-.59l7.78-7.78 2.81-2.81c.8-.78.8-2.07 0-2.86zM5.41 20L4 18.59l7.72-7.72 1.47 1.35L5.41 20z\"/>\n",
              "  </svg>\n",
              "      </button>\n",
              "      \n",
              "  <style>\n",
              "    .colab-df-container {\n",
              "      display:flex;\n",
              "      flex-wrap:wrap;\n",
              "      gap: 12px;\n",
              "    }\n",
              "\n",
              "    .colab-df-convert {\n",
              "      background-color: #E8F0FE;\n",
              "      border: none;\n",
              "      border-radius: 50%;\n",
              "      cursor: pointer;\n",
              "      display: none;\n",
              "      fill: #1967D2;\n",
              "      height: 32px;\n",
              "      padding: 0 0 0 0;\n",
              "      width: 32px;\n",
              "    }\n",
              "\n",
              "    .colab-df-convert:hover {\n",
              "      background-color: #E2EBFA;\n",
              "      box-shadow: 0px 1px 2px rgba(60, 64, 67, 0.3), 0px 1px 3px 1px rgba(60, 64, 67, 0.15);\n",
              "      fill: #174EA6;\n",
              "    }\n",
              "\n",
              "    [theme=dark] .colab-df-convert {\n",
              "      background-color: #3B4455;\n",
              "      fill: #D2E3FC;\n",
              "    }\n",
              "\n",
              "    [theme=dark] .colab-df-convert:hover {\n",
              "      background-color: #434B5C;\n",
              "      box-shadow: 0px 1px 3px 1px rgba(0, 0, 0, 0.15);\n",
              "      filter: drop-shadow(0px 1px 2px rgba(0, 0, 0, 0.3));\n",
              "      fill: #FFFFFF;\n",
              "    }\n",
              "  </style>\n",
              "\n",
              "      <script>\n",
              "        const buttonEl =\n",
              "          document.querySelector('#df-a85c4860-8d50-439e-86c9-32133f447de1 button.colab-df-convert');\n",
              "        buttonEl.style.display =\n",
              "          google.colab.kernel.accessAllowed ? 'block' : 'none';\n",
              "\n",
              "        async function convertToInteractive(key) {\n",
              "          const element = document.querySelector('#df-a85c4860-8d50-439e-86c9-32133f447de1');\n",
              "          const dataTable =\n",
              "            await google.colab.kernel.invokeFunction('convertToInteractive',\n",
              "                                                     [key], {});\n",
              "          if (!dataTable) return;\n",
              "\n",
              "          const docLinkHtml = 'Like what you see? Visit the ' +\n",
              "            '<a target=\"_blank\" href=https://colab.research.google.com/notebooks/data_table.ipynb>data table notebook</a>'\n",
              "            + ' to learn more about interactive tables.';\n",
              "          element.innerHTML = '';\n",
              "          dataTable['output_type'] = 'display_data';\n",
              "          await google.colab.output.renderOutput(dataTable, element);\n",
              "          const docLink = document.createElement('div');\n",
              "          docLink.innerHTML = docLinkHtml;\n",
              "          element.appendChild(docLink);\n",
              "        }\n",
              "      </script>\n",
              "    </div>\n",
              "  </div>\n",
              "  "
            ]
          },
          "metadata": {},
          "execution_count": 21
        }
      ]
    },
    {
      "cell_type": "code",
      "source": [
        "dX_std\n",
        "\n",
        "dX_std_4m = sm.add_constant(dX_std)\n",
        "\n",
        "model3=sm.OLS(Y, dX_std_4m).fit()\n",
        "\n",
        "\n",
        "model3.summary()"
      ],
      "metadata": {
        "id": "i1U6GcMqn-FG",
        "colab": {
          "base_uri": "https://localhost:8080/",
          "height": 759
        },
        "outputId": "980bcb6b-8bdd-4fa0-d19e-9fb2dd634225"
      },
      "execution_count": null,
      "outputs": [
        {
          "output_type": "stream",
          "name": "stderr",
          "text": [
            "/usr/local/lib/python3.8/dist-packages/statsmodels/tsa/tsatools.py:142: FutureWarning:\n",
            "\n",
            "In a future version of pandas all arguments of concat except for the argument 'objs' will be keyword-only\n",
            "\n"
          ]
        },
        {
          "output_type": "execute_result",
          "data": {
            "text/plain": [
              "<class 'statsmodels.iolib.summary.Summary'>\n",
              "\"\"\"\n",
              "                            OLS Regression Results                            \n",
              "==============================================================================\n",
              "Dep. Variable:              SalePrice   R-squared:                       0.664\n",
              "Model:                            OLS   Adj. R-squared:                  0.608\n",
              "Method:                 Least Squares   F-statistic:                     11.85\n",
              "Date:                Sun, 11 Dec 2022   Prob (F-statistic):           3.21e-08\n",
              "Time:                        11:28:53   Log-Likelihood:                -602.83\n",
              "No. Observations:                  50   AIC:                             1222.\n",
              "Df Residuals:                      42   BIC:                             1237.\n",
              "Df Model:                           7                                         \n",
              "Covariance Type:            nonrobust                                         \n",
              "================================================================================\n",
              "                   coef    std err          t      P>|t|      [0.025      0.975]\n",
              "--------------------------------------------------------------------------------\n",
              "const         1.755e+05   6840.979     25.656      0.000    1.62e+05    1.89e+05\n",
              "MSSubClass    1.059e+04   7593.808      1.394      0.171   -4737.281    2.59e+04\n",
              "LotArea       1.181e+04   8320.011      1.419      0.163   -4980.286    2.86e+04\n",
              "YearBuilt     4.844e+04   7711.860      6.281      0.000    3.29e+04     6.4e+04\n",
              "BedroomAbvGr  1.467e+04   6969.244      2.104      0.041     600.655    2.87e+04\n",
              "Reg           3641.2438   3624.010      1.005      0.321   -3672.304     1.1e+04\n",
              "IR1          -1.292e+04   3055.944     -4.228      0.000   -1.91e+04   -6754.779\n",
              "IR2            126.2339   3561.690      0.035      0.972   -7061.548    7314.016\n",
              "Reg*LotArea   1957.9607   3912.067      0.500      0.619   -5936.910    9852.831\n",
              "IR1*LotArea   1.126e+04   3305.242      3.408      0.001    4594.193    1.79e+04\n",
              "IR2*LotArea  -5185.2350   3798.136     -1.365      0.179   -1.29e+04    2479.714\n",
              "==============================================================================\n",
              "Omnibus:                        1.781   Durbin-Watson:                   1.862\n",
              "Prob(Omnibus):                  0.410   Jarque-Bera (JB):                1.191\n",
              "Skew:                           0.021   Prob(JB):                        0.551\n",
              "Kurtosis:                       2.245   Cond. No.                     1.56e+16\n",
              "==============================================================================\n",
              "\n",
              "Notes:\n",
              "[1] Standard Errors assume that the covariance matrix of the errors is correctly specified.\n",
              "[2] The smallest eigenvalue is 5.01e-31. This might indicate that there are\n",
              "strong multicollinearity problems or that the design matrix is singular.\n",
              "\"\"\""
            ],
            "text/html": [
              "<table class=\"simpletable\">\n",
              "<caption>OLS Regression Results</caption>\n",
              "<tr>\n",
              "  <th>Dep. Variable:</th>        <td>SalePrice</td>    <th>  R-squared:         </th> <td>   0.664</td>\n",
              "</tr>\n",
              "<tr>\n",
              "  <th>Model:</th>                   <td>OLS</td>       <th>  Adj. R-squared:    </th> <td>   0.608</td>\n",
              "</tr>\n",
              "<tr>\n",
              "  <th>Method:</th>             <td>Least Squares</td>  <th>  F-statistic:       </th> <td>   11.85</td>\n",
              "</tr>\n",
              "<tr>\n",
              "  <th>Date:</th>             <td>Sun, 11 Dec 2022</td> <th>  Prob (F-statistic):</th> <td>3.21e-08</td>\n",
              "</tr>\n",
              "<tr>\n",
              "  <th>Time:</th>                 <td>11:28:53</td>     <th>  Log-Likelihood:    </th> <td> -602.83</td>\n",
              "</tr>\n",
              "<tr>\n",
              "  <th>No. Observations:</th>      <td>    50</td>      <th>  AIC:               </th> <td>   1222.</td>\n",
              "</tr>\n",
              "<tr>\n",
              "  <th>Df Residuals:</th>          <td>    42</td>      <th>  BIC:               </th> <td>   1237.</td>\n",
              "</tr>\n",
              "<tr>\n",
              "  <th>Df Model:</th>              <td>     7</td>      <th>                     </th>     <td> </td>   \n",
              "</tr>\n",
              "<tr>\n",
              "  <th>Covariance Type:</th>      <td>nonrobust</td>    <th>                     </th>     <td> </td>   \n",
              "</tr>\n",
              "</table>\n",
              "<table class=\"simpletable\">\n",
              "<tr>\n",
              "        <td></td>          <th>coef</th>     <th>std err</th>      <th>t</th>      <th>P>|t|</th>  <th>[0.025</th>    <th>0.975]</th>  \n",
              "</tr>\n",
              "<tr>\n",
              "  <th>const</th>        <td> 1.755e+05</td> <td> 6840.979</td> <td>   25.656</td> <td> 0.000</td> <td> 1.62e+05</td> <td> 1.89e+05</td>\n",
              "</tr>\n",
              "<tr>\n",
              "  <th>MSSubClass</th>   <td> 1.059e+04</td> <td> 7593.808</td> <td>    1.394</td> <td> 0.171</td> <td>-4737.281</td> <td> 2.59e+04</td>\n",
              "</tr>\n",
              "<tr>\n",
              "  <th>LotArea</th>      <td> 1.181e+04</td> <td> 8320.011</td> <td>    1.419</td> <td> 0.163</td> <td>-4980.286</td> <td> 2.86e+04</td>\n",
              "</tr>\n",
              "<tr>\n",
              "  <th>YearBuilt</th>    <td> 4.844e+04</td> <td> 7711.860</td> <td>    6.281</td> <td> 0.000</td> <td> 3.29e+04</td> <td>  6.4e+04</td>\n",
              "</tr>\n",
              "<tr>\n",
              "  <th>BedroomAbvGr</th> <td> 1.467e+04</td> <td> 6969.244</td> <td>    2.104</td> <td> 0.041</td> <td>  600.655</td> <td> 2.87e+04</td>\n",
              "</tr>\n",
              "<tr>\n",
              "  <th>Reg</th>          <td> 3641.2438</td> <td> 3624.010</td> <td>    1.005</td> <td> 0.321</td> <td>-3672.304</td> <td>  1.1e+04</td>\n",
              "</tr>\n",
              "<tr>\n",
              "  <th>IR1</th>          <td>-1.292e+04</td> <td> 3055.944</td> <td>   -4.228</td> <td> 0.000</td> <td>-1.91e+04</td> <td>-6754.779</td>\n",
              "</tr>\n",
              "<tr>\n",
              "  <th>IR2</th>          <td>  126.2339</td> <td> 3561.690</td> <td>    0.035</td> <td> 0.972</td> <td>-7061.548</td> <td> 7314.016</td>\n",
              "</tr>\n",
              "<tr>\n",
              "  <th>Reg*LotArea</th>  <td> 1957.9607</td> <td> 3912.067</td> <td>    0.500</td> <td> 0.619</td> <td>-5936.910</td> <td> 9852.831</td>\n",
              "</tr>\n",
              "<tr>\n",
              "  <th>IR1*LotArea</th>  <td> 1.126e+04</td> <td> 3305.242</td> <td>    3.408</td> <td> 0.001</td> <td> 4594.193</td> <td> 1.79e+04</td>\n",
              "</tr>\n",
              "<tr>\n",
              "  <th>IR2*LotArea</th>  <td>-5185.2350</td> <td> 3798.136</td> <td>   -1.365</td> <td> 0.179</td> <td>-1.29e+04</td> <td> 2479.714</td>\n",
              "</tr>\n",
              "</table>\n",
              "<table class=\"simpletable\">\n",
              "<tr>\n",
              "  <th>Omnibus:</th>       <td> 1.781</td> <th>  Durbin-Watson:     </th> <td>   1.862</td>\n",
              "</tr>\n",
              "<tr>\n",
              "  <th>Prob(Omnibus):</th> <td> 0.410</td> <th>  Jarque-Bera (JB):  </th> <td>   1.191</td>\n",
              "</tr>\n",
              "<tr>\n",
              "  <th>Skew:</th>          <td> 0.021</td> <th>  Prob(JB):          </th> <td>   0.551</td>\n",
              "</tr>\n",
              "<tr>\n",
              "  <th>Kurtosis:</th>      <td> 2.245</td> <th>  Cond. No.          </th> <td>1.56e+16</td>\n",
              "</tr>\n",
              "</table><br/><br/>Notes:<br/>[1] Standard Errors assume that the covariance matrix of the errors is correctly specified.<br/>[2] The smallest eigenvalue is 5.01e-31. This might indicate that there are<br/>strong multicollinearity problems or that the design matrix is singular."
            ]
          },
          "metadata": {},
          "execution_count": 22
        }
      ]
    },
    {
      "cell_type": "code",
      "source": [
        "print(\"Было: \",model2.rsquared_adj)\n",
        "print(\"Стало: \",model3.rsquared_adj)"
      ],
      "metadata": {
        "colab": {
          "base_uri": "https://localhost:8080/"
        },
        "id": "GXonxnBVwyAL",
        "outputId": "e9fb1e96-1f41-4826-839c-2c61c1ea6c1d"
      },
      "execution_count": null,
      "outputs": [
        {
          "output_type": "stream",
          "name": "stdout",
          "text": [
            "Было:  0.6091238432078067\n",
            "Стало:  0.6079128983005084\n"
          ]
        }
      ]
    },
    {
      "cell_type": "markdown",
      "source": [
        "Смещенный коэффицент детерминации незначтельно уменшился $=>$ нет смысла в усложнеии модели такм образом"
      ],
      "metadata": {
        "id": "wv8d12ZZv0jw"
      }
    },
    {
      "cell_type": "code",
      "source": [
        "model2.params"
      ],
      "metadata": {
        "colab": {
          "base_uri": "https://localhost:8080/"
        },
        "id": "ALaJhMqpodjW",
        "outputId": "54d34ffb-e11e-4ce4-f85f-bfcadc403f86"
      },
      "execution_count": null,
      "outputs": [
        {
          "output_type": "execute_result",
          "data": {
            "text/plain": [
              "const    179637.720000\n",
              "x1        12874.848240\n",
              "x2        10080.839832\n",
              "x3        48265.424222\n",
              "x4        14908.583339\n",
              "x5         2618.451288\n",
              "x6         -778.230138\n",
              "x7        -2364.928838\n",
              "dtype: float64"
            ]
          },
          "metadata": {},
          "execution_count": 24
        }
      ]
    },
    {
      "cell_type": "markdown",
      "source": [
        "# Проверка значимости коэффицентов и регрессии"
      ],
      "metadata": {
        "id": "sf4R8Nye4tJK"
      }
    },
    {
      "cell_type": "code",
      "source": [
        "model2.summary()"
      ],
      "metadata": {
        "colab": {
          "base_uri": "https://localhost:8080/",
          "height": 1000
        },
        "id": "QFtablUDwrgO",
        "outputId": "ef5c06e3-0f4b-4ef2-b754-6b5d076888be"
      },
      "execution_count": null,
      "outputs": [
        {
          "output_type": "execute_result",
          "data": {
            "text/plain": [
              "<class 'statsmodels.iolib.summary.Summary'>\n",
              "\"\"\"\n",
              "                            OLS Regression Results                            \n",
              "==============================================================================\n",
              "Dep. Variable:              SalePrice   R-squared:                       0.657\n",
              "Model:                            OLS   Adj. R-squared:                  0.609\n",
              "Method:                 Least Squares   F-statistic:                     13.73\n",
              "Date:                Sun, 11 Dec 2022   Prob (F-statistic):           1.22e-08\n",
              "Time:                        11:28:54   Log-Likelihood:                -603.34\n",
              "No. Observations:                  50   AIC:                             1221.\n",
              "Df Residuals:                      43   BIC:                             1234.\n",
              "Df Model:                           6                                         \n",
              "Covariance Type:            nonrobust                                         \n",
              "==============================================================================\n",
              "                 coef    std err          t      P>|t|      [0.025      0.975]\n",
              "------------------------------------------------------------------------------\n",
              "const       1.796e+05   6420.630     27.978      0.000    1.67e+05    1.93e+05\n",
              "x1          1.287e+04   7174.540      1.795      0.080   -1593.990    2.73e+04\n",
              "x2          1.008e+04   8457.746      1.192      0.240   -6975.830    2.71e+04\n",
              "x3          4.827e+04   7697.737      6.270      0.000    3.27e+04    6.38e+04\n",
              "x4          1.491e+04   6953.577      2.144      0.038     885.359    2.89e+04\n",
              "x5          2618.4513   3574.270      0.733      0.468   -4589.751    9826.654\n",
              "x6          -778.2301   6380.165     -0.122      0.903   -1.36e+04    1.21e+04\n",
              "x7         -2364.9288   3616.363     -0.654      0.517   -9658.020    4928.163\n",
              "==============================================================================\n",
              "Omnibus:                        1.578   Durbin-Watson:                   1.733\n",
              "Prob(Omnibus):                  0.454   Jarque-Bera (JB):                1.116\n",
              "Skew:                           0.017   Prob(JB):                        0.572\n",
              "Kurtosis:                       2.269   Cond. No.                     8.76e+15\n",
              "==============================================================================\n",
              "\n",
              "Notes:\n",
              "[1] Standard Errors assume that the covariance matrix of the errors is correctly specified.\n",
              "[2] The smallest eigenvalue is 1.53e-30. This might indicate that there are\n",
              "strong multicollinearity problems or that the design matrix is singular.\n",
              "\"\"\""
            ],
            "text/html": [
              "<table class=\"simpletable\">\n",
              "<caption>OLS Regression Results</caption>\n",
              "<tr>\n",
              "  <th>Dep. Variable:</th>        <td>SalePrice</td>    <th>  R-squared:         </th> <td>   0.657</td>\n",
              "</tr>\n",
              "<tr>\n",
              "  <th>Model:</th>                   <td>OLS</td>       <th>  Adj. R-squared:    </th> <td>   0.609</td>\n",
              "</tr>\n",
              "<tr>\n",
              "  <th>Method:</th>             <td>Least Squares</td>  <th>  F-statistic:       </th> <td>   13.73</td>\n",
              "</tr>\n",
              "<tr>\n",
              "  <th>Date:</th>             <td>Sun, 11 Dec 2022</td> <th>  Prob (F-statistic):</th> <td>1.22e-08</td>\n",
              "</tr>\n",
              "<tr>\n",
              "  <th>Time:</th>                 <td>11:28:54</td>     <th>  Log-Likelihood:    </th> <td> -603.34</td>\n",
              "</tr>\n",
              "<tr>\n",
              "  <th>No. Observations:</th>      <td>    50</td>      <th>  AIC:               </th> <td>   1221.</td>\n",
              "</tr>\n",
              "<tr>\n",
              "  <th>Df Residuals:</th>          <td>    43</td>      <th>  BIC:               </th> <td>   1234.</td>\n",
              "</tr>\n",
              "<tr>\n",
              "  <th>Df Model:</th>              <td>     6</td>      <th>                     </th>     <td> </td>   \n",
              "</tr>\n",
              "<tr>\n",
              "  <th>Covariance Type:</th>      <td>nonrobust</td>    <th>                     </th>     <td> </td>   \n",
              "</tr>\n",
              "</table>\n",
              "<table class=\"simpletable\">\n",
              "<tr>\n",
              "    <td></td>       <th>coef</th>     <th>std err</th>      <th>t</th>      <th>P>|t|</th>  <th>[0.025</th>    <th>0.975]</th>  \n",
              "</tr>\n",
              "<tr>\n",
              "  <th>const</th> <td> 1.796e+05</td> <td> 6420.630</td> <td>   27.978</td> <td> 0.000</td> <td> 1.67e+05</td> <td> 1.93e+05</td>\n",
              "</tr>\n",
              "<tr>\n",
              "  <th>x1</th>    <td> 1.287e+04</td> <td> 7174.540</td> <td>    1.795</td> <td> 0.080</td> <td>-1593.990</td> <td> 2.73e+04</td>\n",
              "</tr>\n",
              "<tr>\n",
              "  <th>x2</th>    <td> 1.008e+04</td> <td> 8457.746</td> <td>    1.192</td> <td> 0.240</td> <td>-6975.830</td> <td> 2.71e+04</td>\n",
              "</tr>\n",
              "<tr>\n",
              "  <th>x3</th>    <td> 4.827e+04</td> <td> 7697.737</td> <td>    6.270</td> <td> 0.000</td> <td> 3.27e+04</td> <td> 6.38e+04</td>\n",
              "</tr>\n",
              "<tr>\n",
              "  <th>x4</th>    <td> 1.491e+04</td> <td> 6953.577</td> <td>    2.144</td> <td> 0.038</td> <td>  885.359</td> <td> 2.89e+04</td>\n",
              "</tr>\n",
              "<tr>\n",
              "  <th>x5</th>    <td> 2618.4513</td> <td> 3574.270</td> <td>    0.733</td> <td> 0.468</td> <td>-4589.751</td> <td> 9826.654</td>\n",
              "</tr>\n",
              "<tr>\n",
              "  <th>x6</th>    <td> -778.2301</td> <td> 6380.165</td> <td>   -0.122</td> <td> 0.903</td> <td>-1.36e+04</td> <td> 1.21e+04</td>\n",
              "</tr>\n",
              "<tr>\n",
              "  <th>x7</th>    <td>-2364.9288</td> <td> 3616.363</td> <td>   -0.654</td> <td> 0.517</td> <td>-9658.020</td> <td> 4928.163</td>\n",
              "</tr>\n",
              "</table>\n",
              "<table class=\"simpletable\">\n",
              "<tr>\n",
              "  <th>Omnibus:</th>       <td> 1.578</td> <th>  Durbin-Watson:     </th> <td>   1.733</td>\n",
              "</tr>\n",
              "<tr>\n",
              "  <th>Prob(Omnibus):</th> <td> 0.454</td> <th>  Jarque-Bera (JB):  </th> <td>   1.116</td>\n",
              "</tr>\n",
              "<tr>\n",
              "  <th>Skew:</th>          <td> 0.017</td> <th>  Prob(JB):          </th> <td>   0.572</td>\n",
              "</tr>\n",
              "<tr>\n",
              "  <th>Kurtosis:</th>      <td> 2.269</td> <th>  Cond. No.          </th> <td>8.76e+15</td>\n",
              "</tr>\n",
              "</table><br/><br/>Notes:<br/>[1] Standard Errors assume that the covariance matrix of the errors is correctly specified.<br/>[2] The smallest eigenvalue is 1.53e-30. This might indicate that there are<br/>strong multicollinearity problems or that the design matrix is singular."
            ]
          },
          "metadata": {},
          "execution_count": 25
        }
      ]
    },
    {
      "cell_type": "code",
      "source": [
        "np.array((model2.params))/np.array(model2.bse)"
      ],
      "metadata": {
        "colab": {
          "base_uri": "https://localhost:8080/"
        },
        "id": "cJZToUXgKSfx",
        "outputId": "08a769d5-b57f-4af4-a36a-a0b59b5c0582"
      },
      "execution_count": null,
      "outputs": [
        {
          "output_type": "execute_result",
          "data": {
            "text/plain": [
              "array([27.97820559,  1.79451904,  1.19190621,  6.27007981,  2.14401639,\n",
              "        0.73258354, -0.1219765 , -0.65395224])"
            ]
          },
          "metadata": {},
          "execution_count": 26
        }
      ]
    },
    {
      "cell_type": "code",
      "source": [
        "R=model2.rsquared\n",
        "\n",
        "n=len(data)\n",
        "k=len(data.columns)-1\n",
        "\n",
        "F=(n-k)/(k-1)*(R/(1-R))\n",
        "F"
      ],
      "metadata": {
        "colab": {
          "base_uri": "https://localhost:8080/"
        },
        "id": "vYVAAlGTAitK",
        "outputId": "3968d7cb-d820-48bc-917f-881fc17abdf2"
      },
      "execution_count": null,
      "outputs": [
        {
          "output_type": "execute_result",
          "data": {
            "text/plain": [
              "13.726566457830154"
            ]
          },
          "metadata": {},
          "execution_count": 27
        }
      ]
    },
    {
      "cell_type": "code",
      "source": [
        "t=scipy.stats.f.ppf(1-0.05,k,n-k-1)\n",
        "t"
      ],
      "metadata": {
        "colab": {
          "base_uri": "https://localhost:8080/"
        },
        "id": "fbabDeThv-Td",
        "outputId": "48bab2d5-e375-4586-e6ae-6f2649d2b6c3"
      },
      "execution_count": null,
      "outputs": [
        {
          "output_type": "execute_result",
          "data": {
            "text/plain": [
              "2.237070295093028"
            ]
          },
          "metadata": {},
          "execution_count": 28
        }
      ]
    },
    {
      "cell_type": "markdown",
      "source": [
        "$F_{statistic} > f_{critic} =>$ $H_0$ гипотеза отклоняется. Регрессия значима "
      ],
      "metadata": {
        "id": "bXXYyRF2yPix"
      }
    },
    {
      "cell_type": "markdown",
      "source": [
        "Проверка значимости коэффицентов"
      ],
      "metadata": {
        "id": "Ito899da9-r9"
      }
    },
    {
      "cell_type": "markdown",
      "source": [
        "Строим матрицу $(X^T*X)^{-1}$"
      ],
      "metadata": {
        "id": "aeYH87_WDFDc"
      }
    },
    {
      "cell_type": "code",
      "source": [
        "XTXi_wc=np.linalg.inv(XTX_wc)# Обратная матрица от произведения с константой"
      ],
      "metadata": {
        "id": "Us9ttqza0mrY"
      },
      "execution_count": null,
      "outputs": []
    },
    {
      "cell_type": "markdown",
      "source": [
        "Считаем RMSD"
      ],
      "metadata": {
        "id": "UNbScbd9F8eE"
      }
    },
    {
      "cell_type": "code",
      "source": [
        "X_std_wc=sm.add_constant(X_std)\n",
        "\n",
        "ESS=sum(((Y-model2.predict(X_std_wc))**2))\n",
        "\n",
        "RMSD=(ESS/(n-k))**0.5\n",
        "\n",
        "RMSD"
      ],
      "metadata": {
        "colab": {
          "base_uri": "https://localhost:8080/"
        },
        "id": "S7agH9atEdOX",
        "outputId": "eb35517c-ed1b-4930-d80c-63860185e290"
      },
      "execution_count": null,
      "outputs": [
        {
          "output_type": "execute_result",
          "data": {
            "text/plain": [
              "45400.71361965402"
            ]
          },
          "metadata": {},
          "execution_count": 30
        }
      ]
    },
    {
      "cell_type": "code",
      "source": [
        "mb_i=np.array([])\n",
        "for i in range(len(XTXi_wc)):\n",
        "  mb_i=np.append(mb_i,((XTXi_wc[i][i])**0.5))\n",
        "\n",
        "mb_i=RMSD/mb_i\n",
        "\n",
        "mb_i=np.array(model2.bse)\n",
        "\n",
        "mb_i"
      ],
      "metadata": {
        "colab": {
          "base_uri": "https://localhost:8080/"
        },
        "id": "IvmF5ycSEdKI",
        "outputId": "b7a37e3b-602e-4b7b-aea4-40939bea9d15"
      },
      "execution_count": null,
      "outputs": [
        {
          "output_type": "execute_result",
          "data": {
            "text/plain": [
              "array([6420.63049423, 7174.53978973, 8457.74590332, 7697.73681636,\n",
              "       6953.57713114, 3574.26991214, 6380.16464971, 3616.3632193 ])"
            ]
          },
          "metadata": {},
          "execution_count": 31
        }
      ]
    },
    {
      "cell_type": "markdown",
      "source": [
        "Посчитаем статистику для коэффицентов"
      ],
      "metadata": {
        "id": "ZpTCUPPOXrP8"
      }
    },
    {
      "cell_type": "code",
      "source": [
        "b_i=np.array(model2.params)\n",
        "\n",
        "#print(b_i)\n",
        "\n",
        "t=b_i/mb_i # t статистика всех коэффицентов\n",
        "\n",
        "t"
      ],
      "metadata": {
        "id": "gomAMUvOK1kO",
        "colab": {
          "base_uri": "https://localhost:8080/"
        },
        "outputId": "0131bb15-0b0a-48eb-8ce1-2cfc46cc2016"
      },
      "execution_count": null,
      "outputs": [
        {
          "output_type": "execute_result",
          "data": {
            "text/plain": [
              "array([27.97820559,  1.79451904,  1.19190621,  6.27007981,  2.14401639,\n",
              "        0.73258354, -0.1219765 , -0.65395224])"
            ]
          },
          "metadata": {},
          "execution_count": 32
        }
      ]
    },
    {
      "cell_type": "markdown",
      "source": [
        "Проверяем с $t$ student critic value, two tailed"
      ],
      "metadata": {
        "id": "H44271m-ZJCJ"
      }
    },
    {
      "cell_type": "code",
      "source": [
        "tc=scipy.stats.t.ppf(1-0.05/2,n-k) #two tailed\n",
        "tc"
      ],
      "metadata": {
        "colab": {
          "base_uri": "https://localhost:8080/"
        },
        "id": "VceNLBkMYJwi",
        "outputId": "da49082d-da7e-4a0e-c697-dacdd431d3cc"
      },
      "execution_count": null,
      "outputs": [
        {
          "output_type": "execute_result",
          "data": {
            "text/plain": [
              "2.0166921941428133"
            ]
          },
          "metadata": {},
          "execution_count": 33
        }
      ]
    },
    {
      "cell_type": "code",
      "source": [
        "\n",
        "print(t)\n",
        "print(t>tc)"
      ],
      "metadata": {
        "colab": {
          "base_uri": "https://localhost:8080/"
        },
        "id": "kKCiHCC4ZaXB",
        "outputId": "26c6df42-140c-4be1-c171-ca101238d187"
      },
      "execution_count": null,
      "outputs": [
        {
          "output_type": "stream",
          "name": "stdout",
          "text": [
            "[27.97820559  1.79451904  1.19190621  6.27007981  2.14401639  0.73258354\n",
            " -0.1219765  -0.65395224]\n",
            "[ True False False  True  True False False False]\n"
          ]
        }
      ]
    },
    {
      "cell_type": "markdown",
      "source": [
        "Значимые переменные те у которых статистика больше critic value"
      ],
      "metadata": {
        "id": "EbWJEX2wax_9"
      }
    },
    {
      "cell_type": "markdown",
      "source": [
        "По итогам теста остаются переменные"
      ],
      "metadata": {
        "id": "t8s3MSQMZ3v3"
      }
    },
    {
      "cell_type": "code",
      "source": [
        "col=pd.Series(x4_m.columns)\n",
        "col_n=col.mask(t<tc).dropna()\n",
        "\n",
        "display(col_n)"
      ],
      "metadata": {
        "colab": {
          "base_uri": "https://localhost:8080/",
          "height": 181
        },
        "id": "1yFFS0bOZ2rB",
        "outputId": "50b50b84-e970-4f10-b8ff-a4611ea5d9db"
      },
      "execution_count": null,
      "outputs": [
        {
          "output_type": "display_data",
          "data": {
            "text/plain": [
              "0           const\n",
              "3       YearBuilt\n",
              "4    BedroomAbvGr\n",
              "dtype: object"
            ]
          },
          "metadata": {}
        }
      ]
    },
    {
      "cell_type": "markdown",
      "source": [
        "# Четвертая модель (на основе значимости коэфицентов)"
      ],
      "metadata": {
        "id": "Sx07FhohkLz5"
      }
    },
    {
      "cell_type": "code",
      "source": [
        "Xn_wc=pd.DataFrame(x4_m,columns=col_n)#Строим новую таблицу на основе гипотезы\n",
        "\n",
        "model4=sm.OLS(Y, Xn_wc).fit()\n",
        "\n",
        "model4.summary()"
      ],
      "metadata": {
        "colab": {
          "base_uri": "https://localhost:8080/",
          "height": 499
        },
        "id": "N-DAykAGkLXY",
        "outputId": "1ff767e7-d657-4a54-860e-01e9f183d982"
      },
      "execution_count": null,
      "outputs": [
        {
          "output_type": "execute_result",
          "data": {
            "text/plain": [
              "<class 'statsmodels.iolib.summary.Summary'>\n",
              "\"\"\"\n",
              "                            OLS Regression Results                            \n",
              "==============================================================================\n",
              "Dep. Variable:              SalePrice   R-squared:                       0.620\n",
              "Model:                            OLS   Adj. R-squared:                  0.604\n",
              "Method:                 Least Squares   F-statistic:                     38.41\n",
              "Date:                Sun, 11 Dec 2022   Prob (F-statistic):           1.30e-10\n",
              "Time:                        11:28:57   Log-Likelihood:                -605.87\n",
              "No. Observations:                  50   AIC:                             1218.\n",
              "Df Residuals:                      47   BIC:                             1223.\n",
              "Df Model:                           2                                         \n",
              "Covariance Type:            nonrobust                                         \n",
              "================================================================================\n",
              "                   coef    std err          t      P>|t|      [0.025      0.975]\n",
              "--------------------------------------------------------------------------------\n",
              "const        -3.565e+06    4.7e+05     -7.585      0.000   -4.51e+06   -2.62e+06\n",
              "YearBuilt     1875.7937    241.381      7.771      0.000    1390.197    2361.391\n",
              "BedroomAbvGr  1.617e+04   9232.581      1.752      0.086   -2402.452    3.47e+04\n",
              "==============================================================================\n",
              "Omnibus:                        2.630   Durbin-Watson:                   1.694\n",
              "Prob(Omnibus):                  0.269   Jarque-Bera (JB):                1.533\n",
              "Skew:                           0.118   Prob(JB):                        0.465\n",
              "Kurtosis:                       2.175   Cond. No.                     1.44e+05\n",
              "==============================================================================\n",
              "\n",
              "Notes:\n",
              "[1] Standard Errors assume that the covariance matrix of the errors is correctly specified.\n",
              "[2] The condition number is large, 1.44e+05. This might indicate that there are\n",
              "strong multicollinearity or other numerical problems.\n",
              "\"\"\""
            ],
            "text/html": [
              "<table class=\"simpletable\">\n",
              "<caption>OLS Regression Results</caption>\n",
              "<tr>\n",
              "  <th>Dep. Variable:</th>        <td>SalePrice</td>    <th>  R-squared:         </th> <td>   0.620</td>\n",
              "</tr>\n",
              "<tr>\n",
              "  <th>Model:</th>                   <td>OLS</td>       <th>  Adj. R-squared:    </th> <td>   0.604</td>\n",
              "</tr>\n",
              "<tr>\n",
              "  <th>Method:</th>             <td>Least Squares</td>  <th>  F-statistic:       </th> <td>   38.41</td>\n",
              "</tr>\n",
              "<tr>\n",
              "  <th>Date:</th>             <td>Sun, 11 Dec 2022</td> <th>  Prob (F-statistic):</th> <td>1.30e-10</td>\n",
              "</tr>\n",
              "<tr>\n",
              "  <th>Time:</th>                 <td>11:28:57</td>     <th>  Log-Likelihood:    </th> <td> -605.87</td>\n",
              "</tr>\n",
              "<tr>\n",
              "  <th>No. Observations:</th>      <td>    50</td>      <th>  AIC:               </th> <td>   1218.</td>\n",
              "</tr>\n",
              "<tr>\n",
              "  <th>Df Residuals:</th>          <td>    47</td>      <th>  BIC:               </th> <td>   1223.</td>\n",
              "</tr>\n",
              "<tr>\n",
              "  <th>Df Model:</th>              <td>     2</td>      <th>                     </th>     <td> </td>   \n",
              "</tr>\n",
              "<tr>\n",
              "  <th>Covariance Type:</th>      <td>nonrobust</td>    <th>                     </th>     <td> </td>   \n",
              "</tr>\n",
              "</table>\n",
              "<table class=\"simpletable\">\n",
              "<tr>\n",
              "        <td></td>          <th>coef</th>     <th>std err</th>      <th>t</th>      <th>P>|t|</th>  <th>[0.025</th>    <th>0.975]</th>  \n",
              "</tr>\n",
              "<tr>\n",
              "  <th>const</th>        <td>-3.565e+06</td> <td>  4.7e+05</td> <td>   -7.585</td> <td> 0.000</td> <td>-4.51e+06</td> <td>-2.62e+06</td>\n",
              "</tr>\n",
              "<tr>\n",
              "  <th>YearBuilt</th>    <td> 1875.7937</td> <td>  241.381</td> <td>    7.771</td> <td> 0.000</td> <td> 1390.197</td> <td> 2361.391</td>\n",
              "</tr>\n",
              "<tr>\n",
              "  <th>BedroomAbvGr</th> <td> 1.617e+04</td> <td> 9232.581</td> <td>    1.752</td> <td> 0.086</td> <td>-2402.452</td> <td> 3.47e+04</td>\n",
              "</tr>\n",
              "</table>\n",
              "<table class=\"simpletable\">\n",
              "<tr>\n",
              "  <th>Omnibus:</th>       <td> 2.630</td> <th>  Durbin-Watson:     </th> <td>   1.694</td>\n",
              "</tr>\n",
              "<tr>\n",
              "  <th>Prob(Omnibus):</th> <td> 0.269</td> <th>  Jarque-Bera (JB):  </th> <td>   1.533</td>\n",
              "</tr>\n",
              "<tr>\n",
              "  <th>Skew:</th>          <td> 0.118</td> <th>  Prob(JB):          </th> <td>   0.465</td>\n",
              "</tr>\n",
              "<tr>\n",
              "  <th>Kurtosis:</th>      <td> 2.175</td> <th>  Cond. No.          </th> <td>1.44e+05</td>\n",
              "</tr>\n",
              "</table><br/><br/>Notes:<br/>[1] Standard Errors assume that the covariance matrix of the errors is correctly specified.<br/>[2] The condition number is large, 1.44e+05. This might indicate that there are<br/>strong multicollinearity or other numerical problems."
            ]
          },
          "metadata": {},
          "execution_count": 36
        }
      ]
    },
    {
      "cell_type": "markdown",
      "source": [
        "Видим, что коэффицент исправленный коэфицент детерминации уменьшился на 0.005. С другой стороны мы значительно уменьшили количество факторов с 6 до 2!\\\n",
        "Также аргумент в пользу этой модели коэффицент Акаике также уменьшился."
      ],
      "metadata": {
        "id": "iYFCMaD0mFKx"
      }
    },
    {
      "cell_type": "markdown",
      "source": [
        "# Пятая модель - Отбор факторов с помощью поэтапного включения переменных"
      ],
      "metadata": {
        "id": "A_9l08Sfmtlz"
      }
    },
    {
      "cell_type": "markdown",
      "source": [
        "Проводим отбор с помощью скорректироанного коэффицента дерминации с шагом 0.1, то есть если с новым фактором $R^{ '2}$ стал больше на 0.1 добавляем этот регрессор"
      ],
      "metadata": {
        "id": "vkpQXWiNnqo1"
      }
    },
    {
      "cell_type": "markdown",
      "source": [
        "Сначала найдем какой из факторов в одиночку даёт наилучший $R^2$:"
      ],
      "metadata": {
        "id": "_-ZLCr8JpGHA"
      }
    },
    {
      "cell_type": "code",
      "source": [
        "#for i in range(len(X.columns)):\n",
        "X_strt=sm.add_constant(X1)\n",
        "\n",
        "max_i=0\n",
        "maxi=0\n",
        "for i in range(1,len(X_strt.columns)):\n",
        "  tmp=sm.add_constant(X_strt.iloc[:,i])\n",
        "  model_st=sm.OLS(Y, tmp).fit()\n",
        "  if (maxi<model_st.rsquared):\n",
        "    maxi=model_st.rsquared\n",
        "    max_i=i\n",
        "\n",
        "X_strt.columns[max_i]"
      ],
      "metadata": {
        "colab": {
          "base_uri": "https://localhost:8080/",
          "height": 328
        },
        "id": "rwR-ySBAmAM6",
        "outputId": "7c404ea9-91d1-4048-c88c-18d7d2fb5ae7"
      },
      "execution_count": null,
      "outputs": [
        {
          "output_type": "stream",
          "name": "stderr",
          "text": [
            "/usr/local/lib/python3.8/dist-packages/statsmodels/tsa/tsatools.py:142: FutureWarning:\n",
            "\n",
            "In a future version of pandas all arguments of concat except for the argument 'objs' will be keyword-only\n",
            "\n"
          ]
        },
        {
          "output_type": "execute_result",
          "data": {
            "text/plain": [
              "'YearBuilt'"
            ],
            "application/vnd.google.colaboratory.intrinsic+json": {
              "type": "string"
            }
          },
          "metadata": {},
          "execution_count": 37
        }
      ]
    },
    {
      "cell_type": "markdown",
      "source": [
        "C этим фактором и начнем подбор. На самом деле предсказуемо, что именно этот коэффицент имеет наивысший $R^2$, т.к. у этого фактора корреляция гораздо больше, чем у любой другой переменной."
      ],
      "metadata": {
        "id": "MAdLVlPmyAbJ"
      }
    },
    {
      "cell_type": "markdown",
      "source": [
        "Сам процесс:"
      ],
      "metadata": {
        "id": "5rxYpLpjyzTD"
      }
    },
    {
      "cell_type": "code",
      "source": [
        "X_i=X_strt[X_strt.columns[max_i]]\n",
        "X_i=sm.add_constant(X_i)\n",
        "\n",
        "\n",
        "for i in range(1,len(X_strt.columns)):\n",
        "  if i==max_i:#пропускаем фактор который уже есть\n",
        "    continue\n",
        "  else:\n",
        "    tmp=X_i.copy()\n",
        "    tmp.insert(len(X_i.columns),i,X_strt.iloc[:,i])#добавляем в конец новый фактор и смотрим на скоректированный коэффицент детерминации\n",
        "\n",
        "    model_it=sm.OLS(Y, tmp).fit()\n",
        "    print(model_it.rsquared_adj)\n",
        "    if model_it.rsquared_adj-maxi>0.1:\n",
        "      X_i=tmp\n",
        "\n",
        "\n",
        "model5=sm.OLS(Y, X_i).fit()\n",
        "\n",
        "print(\"------------\")\n",
        "print(X_i.head(2))\n",
        "print(\"К. детерминации -\",model5.rsquared_adj)\n",
        "print()"
      ],
      "metadata": {
        "colab": {
          "base_uri": "https://localhost:8080/"
        },
        "id": "KTPXZBOttXcR",
        "outputId": "d735cad4-b8d8-45d1-ceca-dc7d7d06c8a4"
      },
      "execution_count": null,
      "outputs": [
        {
          "output_type": "stream",
          "name": "stdout",
          "text": [
            "0.5858936267317969\n",
            "0.5849572418782218\n",
            "0.6042611727556191\n",
            "0.5846900807669586\n",
            "0.579212066546039\n",
            "0.5833412657083912\n",
            "------------\n",
            "   const  YearBuilt\n",
            "0    1.0       2003\n",
            "1    1.0       1976\n",
            "К. детерминации - 0.5872127171300241\n",
            "\n"
          ]
        }
      ]
    },
    {
      "cell_type": "markdown",
      "source": [
        "Как видим, при шаге 0.1 факторы не добавились. А модель остается зависимой только от YearBuilt"
      ],
      "metadata": {
        "id": "Mlv613w38hnG"
      }
    },
    {
      "cell_type": "markdown",
      "source": [
        "# Выбираем итоговую модель"
      ],
      "metadata": {
        "id": "uzOUGeE6_CXF"
      }
    },
    {
      "cell_type": "markdown",
      "source": [
        "Рассмотрим модели - 1,4,5 (Чем какая отличается см. оглвление)\\\n",
        "\n",
        "1 - имеет самую лучшую точность - 0.609, однако грамоздкая - 7 факторов\\\n",
        "5 - имеет точность меньше - 0.58, однако зависит только от одного фактора\\\n",
        "4 - находится между 1 и 5. Точность немного меньше 1 - 0.604, фактора всего 2\\\n",
        "\n",
        "Я выберу модель 4, потому что она имеет второй по показателю $R^{'2}$, но по сравнению с первой имеет гораздо меньше регрессеров\n",
        "\n"
      ],
      "metadata": {
        "id": "AxuiYjnR_Vlg"
      }
    },
    {
      "cell_type": "markdown",
      "source": [
        "ANOVA TEST"
      ],
      "metadata": {
        "id": "BVB6seCq_3W5"
      }
    },
    {
      "cell_type": "code",
      "source": [
        "model4.summary()"
      ],
      "metadata": {
        "id": "szlioqh3_BDc",
        "colab": {
          "base_uri": "https://localhost:8080/",
          "height": 499
        },
        "outputId": "8d8f31bf-de2b-409a-b6c0-f5c3591ae4b0"
      },
      "execution_count": null,
      "outputs": [
        {
          "output_type": "execute_result",
          "data": {
            "text/plain": [
              "<class 'statsmodels.iolib.summary.Summary'>\n",
              "\"\"\"\n",
              "                            OLS Regression Results                            \n",
              "==============================================================================\n",
              "Dep. Variable:              SalePrice   R-squared:                       0.620\n",
              "Model:                            OLS   Adj. R-squared:                  0.604\n",
              "Method:                 Least Squares   F-statistic:                     38.41\n",
              "Date:                Sun, 11 Dec 2022   Prob (F-statistic):           1.30e-10\n",
              "Time:                        11:56:26   Log-Likelihood:                -605.87\n",
              "No. Observations:                  50   AIC:                             1218.\n",
              "Df Residuals:                      47   BIC:                             1223.\n",
              "Df Model:                           2                                         \n",
              "Covariance Type:            nonrobust                                         \n",
              "================================================================================\n",
              "                   coef    std err          t      P>|t|      [0.025      0.975]\n",
              "--------------------------------------------------------------------------------\n",
              "const        -3.565e+06    4.7e+05     -7.585      0.000   -4.51e+06   -2.62e+06\n",
              "YearBuilt     1875.7937    241.381      7.771      0.000    1390.197    2361.391\n",
              "BedroomAbvGr  1.617e+04   9232.581      1.752      0.086   -2402.452    3.47e+04\n",
              "==============================================================================\n",
              "Omnibus:                        2.630   Durbin-Watson:                   1.694\n",
              "Prob(Omnibus):                  0.269   Jarque-Bera (JB):                1.533\n",
              "Skew:                           0.118   Prob(JB):                        0.465\n",
              "Kurtosis:                       2.175   Cond. No.                     1.44e+05\n",
              "==============================================================================\n",
              "\n",
              "Notes:\n",
              "[1] Standard Errors assume that the covariance matrix of the errors is correctly specified.\n",
              "[2] The condition number is large, 1.44e+05. This might indicate that there are\n",
              "strong multicollinearity or other numerical problems.\n",
              "\"\"\""
            ],
            "text/html": [
              "<table class=\"simpletable\">\n",
              "<caption>OLS Regression Results</caption>\n",
              "<tr>\n",
              "  <th>Dep. Variable:</th>        <td>SalePrice</td>    <th>  R-squared:         </th> <td>   0.620</td>\n",
              "</tr>\n",
              "<tr>\n",
              "  <th>Model:</th>                   <td>OLS</td>       <th>  Adj. R-squared:    </th> <td>   0.604</td>\n",
              "</tr>\n",
              "<tr>\n",
              "  <th>Method:</th>             <td>Least Squares</td>  <th>  F-statistic:       </th> <td>   38.41</td>\n",
              "</tr>\n",
              "<tr>\n",
              "  <th>Date:</th>             <td>Sun, 11 Dec 2022</td> <th>  Prob (F-statistic):</th> <td>1.30e-10</td>\n",
              "</tr>\n",
              "<tr>\n",
              "  <th>Time:</th>                 <td>11:56:26</td>     <th>  Log-Likelihood:    </th> <td> -605.87</td>\n",
              "</tr>\n",
              "<tr>\n",
              "  <th>No. Observations:</th>      <td>    50</td>      <th>  AIC:               </th> <td>   1218.</td>\n",
              "</tr>\n",
              "<tr>\n",
              "  <th>Df Residuals:</th>          <td>    47</td>      <th>  BIC:               </th> <td>   1223.</td>\n",
              "</tr>\n",
              "<tr>\n",
              "  <th>Df Model:</th>              <td>     2</td>      <th>                     </th>     <td> </td>   \n",
              "</tr>\n",
              "<tr>\n",
              "  <th>Covariance Type:</th>      <td>nonrobust</td>    <th>                     </th>     <td> </td>   \n",
              "</tr>\n",
              "</table>\n",
              "<table class=\"simpletable\">\n",
              "<tr>\n",
              "        <td></td>          <th>coef</th>     <th>std err</th>      <th>t</th>      <th>P>|t|</th>  <th>[0.025</th>    <th>0.975]</th>  \n",
              "</tr>\n",
              "<tr>\n",
              "  <th>const</th>        <td>-3.565e+06</td> <td>  4.7e+05</td> <td>   -7.585</td> <td> 0.000</td> <td>-4.51e+06</td> <td>-2.62e+06</td>\n",
              "</tr>\n",
              "<tr>\n",
              "  <th>YearBuilt</th>    <td> 1875.7937</td> <td>  241.381</td> <td>    7.771</td> <td> 0.000</td> <td> 1390.197</td> <td> 2361.391</td>\n",
              "</tr>\n",
              "<tr>\n",
              "  <th>BedroomAbvGr</th> <td> 1.617e+04</td> <td> 9232.581</td> <td>    1.752</td> <td> 0.086</td> <td>-2402.452</td> <td> 3.47e+04</td>\n",
              "</tr>\n",
              "</table>\n",
              "<table class=\"simpletable\">\n",
              "<tr>\n",
              "  <th>Omnibus:</th>       <td> 2.630</td> <th>  Durbin-Watson:     </th> <td>   1.694</td>\n",
              "</tr>\n",
              "<tr>\n",
              "  <th>Prob(Omnibus):</th> <td> 0.269</td> <th>  Jarque-Bera (JB):  </th> <td>   1.533</td>\n",
              "</tr>\n",
              "<tr>\n",
              "  <th>Skew:</th>          <td> 0.118</td> <th>  Prob(JB):          </th> <td>   0.465</td>\n",
              "</tr>\n",
              "<tr>\n",
              "  <th>Kurtosis:</th>      <td> 2.175</td> <th>  Cond. No.          </th> <td>1.44e+05</td>\n",
              "</tr>\n",
              "</table><br/><br/>Notes:<br/>[1] Standard Errors assume that the covariance matrix of the errors is correctly specified.<br/>[2] The condition number is large, 1.44e+05. This might indicate that there are<br/>strong multicollinearity or other numerical problems."
            ]
          },
          "metadata": {},
          "execution_count": 76
        }
      ]
    },
    {
      "cell_type": "markdown",
      "source": [
        "# Анализ модели 4"
      ],
      "metadata": {
        "id": "5vOaVBedC3-E"
      }
    },
    {
      "cell_type": "markdown",
      "source": [
        "Выведем графики прогнозируемых значений"
      ],
      "metadata": {
        "id": "E1jbCSbu5vuc"
      }
    },
    {
      "cell_type": "code",
      "source": [
        "n=len(Xn_wc)\n",
        "k=len(Xn_wc.columns)-1\n",
        "\n",
        "y_p=model4.predict(Xn_wc)\n",
        "\n",
        "tmp=np.array(X1.iloc[:,1]).sort()\n",
        "\n",
        "sns.scatterplot(x=Xn_wc.iloc[:,1],y=np.array(Y),label=\"Цена в зависимости от года\")\n",
        "sns.scatterplot(x=Xn_wc.iloc[:,1],y=(np.array(y_p)),label=\"Прогнозируема цена в зависимости от года\")"
      ],
      "metadata": {
        "colab": {
          "base_uri": "https://localhost:8080/",
          "height": 297
        },
        "id": "sAiWEp4WC7_g",
        "outputId": "8da9039b-7ffe-42d5-f6c9-c9eecda2efdc"
      },
      "execution_count": null,
      "outputs": [
        {
          "output_type": "execute_result",
          "data": {
            "text/plain": [
              "<matplotlib.axes._subplots.AxesSubplot at 0x7f7ff395dd00>"
            ]
          },
          "metadata": {},
          "execution_count": 196
        },
        {
          "output_type": "display_data",
          "data": {
            "text/plain": [
              "<Figure size 1080x432 with 1 Axes>"
            ],
            "image/png": "[encoded data removed]"
          },
          "metadata": {}
        }
      ]
    },
    {
      "cell_type": "code",
      "source": [
        "sns.scatterplot(x=Xn_wc.iloc[:,2],y=np.array(Y),label=\"Цена в зависимости от числа спален\")\n",
        "sns.scatterplot(x=Xn_wc.iloc[:,2],y=np.array(y_p),label=\"Прогноз цены по числу спален\")"
      ],
      "metadata": {
        "colab": {
          "base_uri": "https://localhost:8080/",
          "height": 297
        },
        "id": "s4ggI0hNfGV-",
        "outputId": "71c64142-01c7-4d13-c82f-f4f5457c05ad"
      },
      "execution_count": null,
      "outputs": [
        {
          "output_type": "execute_result",
          "data": {
            "text/plain": [
              "<matplotlib.axes._subplots.AxesSubplot at 0x7f7ff3976340>"
            ]
          },
          "metadata": {},
          "execution_count": 195
        },
        {
          "output_type": "display_data",
          "data": {
            "text/plain": [
              "<Figure size 1080x432 with 1 Axes>"
            ],
            "image/png": "[encoded data removed]"
          },
          "metadata": {}
        }
      ]
    },
    {
      "cell_type": "markdown",
      "source": [
        "## Доверительные интервалы параметров"
      ],
      "metadata": {
        "id": "9W4Q9FIrJRti"
      }
    },
    {
      "cell_type": "code",
      "source": [
        "b_i=model4.params\n",
        "ESS=sum((Y-y_p)**2)\n",
        "\n",
        "\n",
        "sbj=1/(mb_i/RMSD)#вектор диагональных элементов матрицы (X^T*X)^-1\n",
        "\n",
        "s2=1/(n-k-1)*ESS# несмещенная оценка дисперсии\n",
        "\n",
        "sbj=(s2**0.5)*sbj\n",
        "\n",
        "for i in range(len(b_i)):\n",
        "  print(b_i[i]-(scipy.stats.t.ppf(1-0.05/2,n-k-1))*sbj[i],\"< \", end=\" \") # student citic value, two tails\n",
        "  print(\"b_{i} < \".format(i=i), end=\" \")\n",
        "  print(b_i[i]+(scipy.stats.t.ppf(1-0.05/2,n-k-1))*sbj[i]) # student citic value, two tails\n",
        "\n"
      ],
      "metadata": {
        "colab": {
          "base_uri": "https://localhost:8080/"
        },
        "id": "XKXpehzrKj2n",
        "outputId": "25ca9d42-96cb-4478-f509-3b64be5ce762"
      },
      "execution_count": null,
      "outputs": [
        {
          "output_type": "stream",
          "name": "stdout",
          "text": [
            "-4214764.697951465 <  b_0 <  -2915090.850629141\n",
            "-579675.4821193822 <  b_1 <  583427.0695755064\n",
            "-477147.4236338549 <  b_2 <  509489.6345214794\n"
          ]
        }
      ]
    },
    {
      "cell_type": "markdown",
      "source": [
        "## Стандартизириованные коэффиценты регрессии"
      ],
      "metadata": {
        "id": "dtomwxQOJZN0"
      }
    },
    {
      "cell_type": "code",
      "source": [
        "model4.summary()"
      ],
      "metadata": {
        "colab": {
          "base_uri": "https://localhost:8080/",
          "height": 499
        },
        "id": "hysbnrWhQNDD",
        "outputId": "241e6c9b-7b39-4636-9069-044953c06bf1"
      },
      "execution_count": null,
      "outputs": [
        {
          "output_type": "execute_result",
          "data": {
            "text/plain": [
              "<class 'statsmodels.iolib.summary.Summary'>\n",
              "\"\"\"\n",
              "                            OLS Regression Results                            \n",
              "==============================================================================\n",
              "Dep. Variable:              SalePrice   R-squared:                       0.620\n",
              "Model:                            OLS   Adj. R-squared:                  0.604\n",
              "Method:                 Least Squares   F-statistic:                     38.41\n",
              "Date:                Sun, 11 Dec 2022   Prob (F-statistic):           1.30e-10\n",
              "Time:                        11:29:23   Log-Likelihood:                -605.87\n",
              "No. Observations:                  50   AIC:                             1218.\n",
              "Df Residuals:                      47   BIC:                             1223.\n",
              "Df Model:                           2                                         \n",
              "Covariance Type:            nonrobust                                         \n",
              "================================================================================\n",
              "                   coef    std err          t      P>|t|      [0.025      0.975]\n",
              "--------------------------------------------------------------------------------\n",
              "const        -3.565e+06    4.7e+05     -7.585      0.000   -4.51e+06   -2.62e+06\n",
              "YearBuilt     1875.7937    241.381      7.771      0.000    1390.197    2361.391\n",
              "BedroomAbvGr  1.617e+04   9232.581      1.752      0.086   -2402.452    3.47e+04\n",
              "==============================================================================\n",
              "Omnibus:                        2.630   Durbin-Watson:                   1.694\n",
              "Prob(Omnibus):                  0.269   Jarque-Bera (JB):                1.533\n",
              "Skew:                           0.118   Prob(JB):                        0.465\n",
              "Kurtosis:                       2.175   Cond. No.                     1.44e+05\n",
              "==============================================================================\n",
              "\n",
              "Notes:\n",
              "[1] Standard Errors assume that the covariance matrix of the errors is correctly specified.\n",
              "[2] The condition number is large, 1.44e+05. This might indicate that there are\n",
              "strong multicollinearity or other numerical problems.\n",
              "\"\"\""
            ],
            "text/html": [
              "<table class=\"simpletable\">\n",
              "<caption>OLS Regression Results</caption>\n",
              "<tr>\n",
              "  <th>Dep. Variable:</th>        <td>SalePrice</td>    <th>  R-squared:         </th> <td>   0.620</td>\n",
              "</tr>\n",
              "<tr>\n",
              "  <th>Model:</th>                   <td>OLS</td>       <th>  Adj. R-squared:    </th> <td>   0.604</td>\n",
              "</tr>\n",
              "<tr>\n",
              "  <th>Method:</th>             <td>Least Squares</td>  <th>  F-statistic:       </th> <td>   38.41</td>\n",
              "</tr>\n",
              "<tr>\n",
              "  <th>Date:</th>             <td>Sun, 11 Dec 2022</td> <th>  Prob (F-statistic):</th> <td>1.30e-10</td>\n",
              "</tr>\n",
              "<tr>\n",
              "  <th>Time:</th>                 <td>11:29:23</td>     <th>  Log-Likelihood:    </th> <td> -605.87</td>\n",
              "</tr>\n",
              "<tr>\n",
              "  <th>No. Observations:</th>      <td>    50</td>      <th>  AIC:               </th> <td>   1218.</td>\n",
              "</tr>\n",
              "<tr>\n",
              "  <th>Df Residuals:</th>          <td>    47</td>      <th>  BIC:               </th> <td>   1223.</td>\n",
              "</tr>\n",
              "<tr>\n",
              "  <th>Df Model:</th>              <td>     2</td>      <th>                     </th>     <td> </td>   \n",
              "</tr>\n",
              "<tr>\n",
              "  <th>Covariance Type:</th>      <td>nonrobust</td>    <th>                     </th>     <td> </td>   \n",
              "</tr>\n",
              "</table>\n",
              "<table class=\"simpletable\">\n",
              "<tr>\n",
              "        <td></td>          <th>coef</th>     <th>std err</th>      <th>t</th>      <th>P>|t|</th>  <th>[0.025</th>    <th>0.975]</th>  \n",
              "</tr>\n",
              "<tr>\n",
              "  <th>const</th>        <td>-3.565e+06</td> <td>  4.7e+05</td> <td>   -7.585</td> <td> 0.000</td> <td>-4.51e+06</td> <td>-2.62e+06</td>\n",
              "</tr>\n",
              "<tr>\n",
              "  <th>YearBuilt</th>    <td> 1875.7937</td> <td>  241.381</td> <td>    7.771</td> <td> 0.000</td> <td> 1390.197</td> <td> 2361.391</td>\n",
              "</tr>\n",
              "<tr>\n",
              "  <th>BedroomAbvGr</th> <td> 1.617e+04</td> <td> 9232.581</td> <td>    1.752</td> <td> 0.086</td> <td>-2402.452</td> <td> 3.47e+04</td>\n",
              "</tr>\n",
              "</table>\n",
              "<table class=\"simpletable\">\n",
              "<tr>\n",
              "  <th>Omnibus:</th>       <td> 2.630</td> <th>  Durbin-Watson:     </th> <td>   1.694</td>\n",
              "</tr>\n",
              "<tr>\n",
              "  <th>Prob(Omnibus):</th> <td> 0.269</td> <th>  Jarque-Bera (JB):  </th> <td>   1.533</td>\n",
              "</tr>\n",
              "<tr>\n",
              "  <th>Skew:</th>          <td> 0.118</td> <th>  Prob(JB):          </th> <td>   0.465</td>\n",
              "</tr>\n",
              "<tr>\n",
              "  <th>Kurtosis:</th>      <td> 2.175</td> <th>  Cond. No.          </th> <td>1.44e+05</td>\n",
              "</tr>\n",
              "</table><br/><br/>Notes:<br/>[1] Standard Errors assume that the covariance matrix of the errors is correctly specified.<br/>[2] The condition number is large, 1.44e+05. This might indicate that there are<br/>strong multicollinearity or other numerical problems."
            ]
          },
          "metadata": {},
          "execution_count": 41
        }
      ]
    },
    {
      "cell_type": "code",
      "source": [
        "sig_Y=np.std(Y, ddof=1) # STDEV, стандотклон.в \n",
        "\n",
        "stdb_i=np.zeros([len(Xn_wc.columns)])\n",
        "\n",
        "for i in range(0,len(Xn_wc.columns)):\n",
        "  stdb_i[i]=np.std(Xn_wc.iloc[:,i], ddof=1) # STDEV, стандотклон.в\n",
        "\n",
        "\n",
        "\n",
        "\n",
        "print(\"Коэффицент был, Стандартизированный\")\n",
        "\n",
        "for i in range(len(stdb_i)):\n",
        "  print(b_i[i],stdb_i[i])"
      ],
      "metadata": {
        "colab": {
          "base_uri": "https://localhost:8080/"
        },
        "id": "R6e2cTwrUh9n",
        "outputId": "ce3a46fc-5267-4fed-9d23-ef6dcd25f40c"
      },
      "execution_count": null,
      "outputs": [
        {
          "output_type": "stream",
          "name": "stdout",
          "text": [
            "Коэффицент был, Стандартизированный\n",
            "-3564927.7742903032 0.0\n",
            "1875.7937280621247 28.12834288523566\n",
            "16171.105443812286 0.7354021529276429\n"
          ]
        }
      ]
    },
    {
      "cell_type": "markdown",
      "source": [
        "Про анализируем станд. коэффиценты. Можем сделат вывод, что второй коэффицент - 'YearBuild' вносит гораздо больше влияния. чем второй (28.12>0.7)"
      ],
      "metadata": {
        "id": "iU5rE0LmIdLu"
      }
    },
    {
      "cell_type": "markdown",
      "source": [
        "## Проверка влияния факторов на целевую переменную для модели 4 - постройка матрицы коррелляции."
      ],
      "metadata": {
        "id": "u-N22mvYKry3"
      }
    },
    {
      "cell_type": "code",
      "source": [
        "rgsrs_4=Xn_wc.iloc[:,1:]\n",
        "rgsrs_4.insert(0,\"SalePrice\",Y)\n",
        "corr_matrix4=rgsrs_4.corr()\n",
        "\n",
        "sns.set(rc={\"figure.figsize\":(15, 6)})#Задаем размер окна\n",
        "cmap = sns.diverging_palette(230, 20, as_cmap=True)#Задаем палитру\n",
        "sns.heatmap(corr_matrix4, annot=True, cmap=cmap)"
      ],
      "metadata": {
        "id": "M-5pY0MbIpu_",
        "colab": {
          "base_uri": "https://localhost:8080/",
          "height": 325
        },
        "outputId": "c497b929-264d-4bb5-b996-6b06d5201be6"
      },
      "execution_count": null,
      "outputs": [
        {
          "output_type": "execute_result",
          "data": {
            "text/plain": [
              "<matplotlib.axes._subplots.AxesSubplot at 0x7f7ff4b76d30>"
            ]
          },
          "metadata": {},
          "execution_count": 43
        },
        {
          "output_type": "display_data",
          "data": {
            "text/plain": [
              "<Figure size 1080x432 with 2 Axes>"
            ],
            "image/png": "[encoded data removed]"
          },
          "metadata": {}
        }
      ]
    },
    {
      "cell_type": "markdown",
      "source": [
        "Подтверждение предыдущего вывода - YearBuilt вносит достаточно много влияние на целевю переменную"
      ],
      "metadata": {
        "id": "6zAXvo1DUjAE"
      }
    },
    {
      "cell_type": "markdown",
      "source": [
        "## Вычисление метрик"
      ],
      "metadata": {
        "id": "_xzguc4QXCua"
      }
    },
    {
      "cell_type": "code",
      "source": [
        "TSS=sum((Y-Y.mean())**2)\n",
        "\n"
      ],
      "metadata": {
        "id": "1S2nitTzVNzY"
      },
      "execution_count": null,
      "outputs": []
    },
    {
      "cell_type": "markdown",
      "source": [
        "Коэффицент дериминации"
      ],
      "metadata": {
        "id": "np-6ThmhXrF5"
      }
    },
    {
      "cell_type": "code",
      "source": [
        "R=1-ESS/TSS\n",
        "\n",
        "R #Показывает долю обьсненности модели\n",
        "#Какая доля дисперсии результативного признака объясняется влиянием независимых переменных.\n",
        "#Показатели R в разных моделях с разным числом  переменных несравнимы"
      ],
      "metadata": {
        "colab": {
          "base_uri": "https://localhost:8080/"
        },
        "id": "OmkNT8u2XwNr",
        "outputId": "7cde39bd-9711-4036-86e4-2b254da92ef3"
      },
      "execution_count": null,
      "outputs": [
        {
          "output_type": "execute_result",
          "data": {
            "text/plain": [
              "0.6204137779492674"
            ]
          },
          "metadata": {},
          "execution_count": 45
        }
      ]
    },
    {
      "cell_type": "markdown",
      "source": [
        "Исправленный коэф детерминации"
      ],
      "metadata": {
        "id": "8ZQ-NSdVX3-B"
      }
    },
    {
      "cell_type": "code",
      "source": [
        "n=len(Xn_wc)\n",
        "k=len(Xn_wc.columns)-1\n",
        "\n",
        "R_adj=1-(n-1)*(1-R)/(n-k-1)\n",
        "\n",
        "R_adj#Показывает насколько точно считает модель, но это уже истинный коэффицент при числе факторов k>1"
      ],
      "metadata": {
        "colab": {
          "base_uri": "https://localhost:8080/"
        },
        "id": "mfSUoCvdX8BK",
        "outputId": "9dd5da89-c898-4879-923d-45928bd0d0b9"
      },
      "execution_count": null,
      "outputs": [
        {
          "output_type": "execute_result",
          "data": {
            "text/plain": [
              "0.6042611727556193"
            ]
          },
          "metadata": {},
          "execution_count": 77
        }
      ]
    },
    {
      "cell_type": "markdown",
      "source": [
        "Средняя ошибка аппроксимации"
      ],
      "metadata": {
        "id": "dKN6MkQ0XrLN"
      }
    },
    {
      "cell_type": "code",
      "source": [
        "AA=abs((e)/Y)#среднее отклонение расчетных значений от фактических относительное значение\n",
        "AA=(AA.sum())/n*100\n",
        "AA"
      ],
      "metadata": {
        "colab": {
          "base_uri": "https://localhost:8080/"
        },
        "id": "NzIUdopOcMPN",
        "outputId": "38c05a0d-f799-4cc5-bc16-38d9670ebb18"
      },
      "execution_count": null,
      "outputs": [
        {
          "output_type": "execute_result",
          "data": {
            "text/plain": [
              "24.00398812619253"
            ]
          },
          "metadata": {},
          "execution_count": 84
        }
      ]
    },
    {
      "cell_type": "markdown",
      "source": [
        "24% - не самый лучший показатель, и говорит, что ошибка, вообще говоря, существенная."
      ],
      "metadata": {
        "id": "1qciZAR6fBI6"
      }
    },
    {
      "cell_type": "markdown",
      "source": [
        "Среднее абсолютное отклонение"
      ],
      "metadata": {
        "id": "va4tmRBwf6fz"
      }
    },
    {
      "cell_type": "code",
      "source": [
        "MAD=sum(abs(Y-y_p))/n#среднее отклонение расчетных значений от фактических\n",
        "\n",
        "MAD"
      ],
      "metadata": {
        "colab": {
          "base_uri": "https://localhost:8080/"
        },
        "id": "zOw05piJf5m2",
        "outputId": "21f3bbce-6396-4200-b12b-913abe1b8498"
      },
      "execution_count": null,
      "outputs": [
        {
          "output_type": "execute_result",
          "data": {
            "text/plain": [
              "36532.32904586604"
            ]
          },
          "metadata": {},
          "execution_count": 85
        }
      ]
    },
    {
      "cell_type": "markdown",
      "source": [
        "Весьма неплохое значние - согласуется c A, так как данные порядка $10^5$, то $36,000$ Как раз примерно будут около 24% от исходных данных"
      ],
      "metadata": {
        "id": "345enSjggQeS"
      }
    },
    {
      "cell_type": "markdown",
      "source": [
        "## Тест на остатки (Теорема Гаусса-Маркова)"
      ],
      "metadata": {
        "id": "eVYXMNMLgvBd"
      }
    },
    {
      "cell_type": "code",
      "source": [
        "xx=[i+1 for i in range(len(Y))]\n",
        "\n",
        "fig = sns.scatterplot(x=xx, y=(Y-y_p))\n",
        "fig = sns.lineplot(x=xx, y=0,color='black',linestyle='--')"
      ],
      "metadata": {
        "colab": {
          "base_uri": "https://localhost:8080/",
          "height": 269
        },
        "id": "bFhYRERAcAt7",
        "outputId": "76e6b42f-63c9-4160-a122-87825b85e13c"
      },
      "execution_count": null,
      "outputs": [
        {
          "output_type": "display_data",
          "data": {
            "text/plain": [
              "<Figure size 1080x432 with 1 Axes>"
            ],
            "image/png": "[encoded data removed]"
          },
          "metadata": {}
        }
      ]
    },
    {
      "cell_type": "markdown",
      "source": [
        "**Анализ графика:**\n",
        "* Точки находятся в трубке и никуда \"не разабредаются\" - гомоскедантичность\n",
        "* Симметрично относительно 0 - матожидание 0\n",
        "* Автокорреляции на первый взгляд нет - никакой зависимотси у точек не наблюдается\n",
        "* Нормальное распраделение - вот здесь как раз подозрительно, т.к. нельзя сказать, что точек больше вблизи 0, чем в остальной плоскости. \n",
        "\n",
        "В первую очередь я проверирил бы тест на нормальное распределене"
      ],
      "metadata": {
        "id": "jMAUKQsShQTn"
      }
    },
    {
      "cell_type": "markdown",
      "source": [
        "## Теорема Гаусса-Марков"
      ],
      "metadata": {
        "id": "n7TyyxcbrWR6"
      }
    },
    {
      "cell_type": "markdown",
      "source": [
        "### Тест Стьюдента на мат ожидание"
      ],
      "metadata": {
        "id": "UStdmyo_jzc3"
      }
    },
    {
      "cell_type": "code",
      "source": [
        "e=Y-y_p\n",
        "\n",
        "t=e.mean()*(n**0.5)/(np.std(e, ddof=1))#t статистика\n",
        "\n",
        "print(abs(t))\n",
        "\n",
        "scipy.stats.t.ppf(1-0.05/2,n-1) # student citic value, two tails"
      ],
      "metadata": {
        "colab": {
          "base_uri": "https://localhost:8080/"
        },
        "id": "ZC4TsjM6b6Xm",
        "outputId": "8c00620e-ac6f-4350-c851-ca77206572ba"
      },
      "execution_count": null,
      "outputs": [
        {
          "output_type": "stream",
          "name": "stdout",
          "text": [
            "1.250219581316487e-13\n"
          ]
        },
        {
          "output_type": "execute_result",
          "data": {
            "text/plain": [
              "2.009575234489209"
            ]
          },
          "metadata": {},
          "execution_count": 50
        }
      ]
    },
    {
      "cell_type": "markdown",
      "source": [
        "$|t^{~}| < t_{стьюд}$\n",
        "\n",
        "Принимаем нулевую гипотезу - мат.ожидание 0"
      ],
      "metadata": {
        "id": "R-q-vRhHl2bT"
      }
    },
    {
      "cell_type": "markdown",
      "source": [
        "### Тест Колмогорова-Смирнова на нормальное распределение\n",
        "\n",
        "Используя p-value\n"
      ],
      "metadata": {
        "id": "CX1MWlmV0c9-"
      }
    },
    {
      "cell_type": "code",
      "source": [
        "Xn_wc.head()"
      ],
      "metadata": {
        "id": "vndBSty5Eb2k",
        "colab": {
          "base_uri": "https://localhost:8080/",
          "height": 204
        },
        "outputId": "a68bfa93-04ec-4ba0-e289-7b573c7a5e5b"
      },
      "execution_count": null,
      "outputs": [
        {
          "output_type": "execute_result",
          "data": {
            "text/plain": [
              "   const  YearBuilt  BedroomAbvGr\n",
              "0    1.0       2003             3\n",
              "1    1.0       1976             3\n",
              "2    1.0       2001             3\n",
              "3    1.0       1915             3\n",
              "4    1.0       2000             4"
            ],
            "text/html": [
              "\n",
              "  <div id=\"df-c1c3e280-7dce-44c9-8022-2d1b2eb97d0b\">\n",
              "    <div class=\"colab-df-container\">\n",
              "      <div>\n",
              "<style scoped>\n",
              "    .dataframe tbody tr th:only-of-type {\n",
              "        vertical-align: middle;\n",
              "    }\n",
              "\n",
              "    .dataframe tbody tr th {\n",
              "        vertical-align: top;\n",
              "    }\n",
              "\n",
              "    .dataframe thead th {\n",
              "        text-align: right;\n",
              "    }\n",
              "</style>\n",
              "<table border=\"1\" class=\"dataframe\">\n",
              "  <thead>\n",
              "    <tr style=\"text-align: right;\">\n",
              "      <th></th>\n",
              "      <th>const</th>\n",
              "      <th>YearBuilt</th>\n",
              "      <th>BedroomAbvGr</th>\n",
              "    </tr>\n",
              "  </thead>\n",
              "  <tbody>\n",
              "    <tr>\n",
              "      <th>0</th>\n",
              "      <td>1.0</td>\n",
              "      <td>2003</td>\n",
              "      <td>3</td>\n",
              "    </tr>\n",
              "    <tr>\n",
              "      <th>1</th>\n",
              "      <td>1.0</td>\n",
              "      <td>1976</td>\n",
              "      <td>3</td>\n",
              "    </tr>\n",
              "    <tr>\n",
              "      <th>2</th>\n",
              "      <td>1.0</td>\n",
              "      <td>2001</td>\n",
              "      <td>3</td>\n",
              "    </tr>\n",
              "    <tr>\n",
              "      <th>3</th>\n",
              "      <td>1.0</td>\n",
              "      <td>1915</td>\n",
              "      <td>3</td>\n",
              "    </tr>\n",
              "    <tr>\n",
              "      <th>4</th>\n",
              "      <td>1.0</td>\n",
              "      <td>2000</td>\n",
              "      <td>4</td>\n",
              "    </tr>\n",
              "  </tbody>\n",
              "</table>\n",
              "</div>\n",
              "      <button class=\"colab-df-convert\" onclick=\"convertToInteractive('df-c1c3e280-7dce-44c9-8022-2d1b2eb97d0b')\"\n",
              "              title=\"Convert this dataframe to an interactive table.\"\n",
              "              style=\"display:none;\">\n",
              "        \n",
              "  <svg xmlns=\"http://www.w3.org/2000/svg\" height=\"24px\"viewBox=\"0 0 24 24\"\n",
              "       width=\"24px\">\n",
              "    <path d=\"M0 0h24v24H0V0z\" fill=\"none\"/>\n",
              "    <path d=\"M18.56 5.44l.94 2.06.94-2.06 2.06-.94-2.06-.94-.94-2.06-.94 2.06-2.06.94zm-11 1L8.5 8.5l.94-2.06 2.06-.94-2.06-.94L8.5 2.5l-.94 2.06-2.06.94zm10 10l.94 2.06.94-2.06 2.06-.94-2.06-.94-.94-2.06-.94 2.06-2.06.94z\"/><path d=\"M17.41 7.96l-1.37-1.37c-.4-.4-.92-.59-1.43-.59-.52 0-1.04.2-1.43.59L10.3 9.45l-7.72 7.72c-.78.78-.78 2.05 0 2.83L4 21.41c.39.39.9.59 1.41.59.51 0 1.02-.2 1.41-.59l7.78-7.78 2.81-2.81c.8-.78.8-2.07 0-2.86zM5.41 20L4 18.59l7.72-7.72 1.47 1.35L5.41 20z\"/>\n",
              "  </svg>\n",
              "      </button>\n",
              "      \n",
              "  <style>\n",
              "    .colab-df-container {\n",
              "      display:flex;\n",
              "      flex-wrap:wrap;\n",
              "      gap: 12px;\n",
              "    }\n",
              "\n",
              "    .colab-df-convert {\n",
              "      background-color: #E8F0FE;\n",
              "      border: none;\n",
              "      border-radius: 50%;\n",
              "      cursor: pointer;\n",
              "      display: none;\n",
              "      fill: #1967D2;\n",
              "      height: 32px;\n",
              "      padding: 0 0 0 0;\n",
              "      width: 32px;\n",
              "    }\n",
              "\n",
              "    .colab-df-convert:hover {\n",
              "      background-color: #E2EBFA;\n",
              "      box-shadow: 0px 1px 2px rgba(60, 64, 67, 0.3), 0px 1px 3px 1px rgba(60, 64, 67, 0.15);\n",
              "      fill: #174EA6;\n",
              "    }\n",
              "\n",
              "    [theme=dark] .colab-df-convert {\n",
              "      background-color: #3B4455;\n",
              "      fill: #D2E3FC;\n",
              "    }\n",
              "\n",
              "    [theme=dark] .colab-df-convert:hover {\n",
              "      background-color: #434B5C;\n",
              "      box-shadow: 0px 1px 3px 1px rgba(0, 0, 0, 0.15);\n",
              "      filter: drop-shadow(0px 1px 2px rgba(0, 0, 0, 0.3));\n",
              "      fill: #FFFFFF;\n",
              "    }\n",
              "  </style>\n",
              "\n",
              "      <script>\n",
              "        const buttonEl =\n",
              "          document.querySelector('#df-c1c3e280-7dce-44c9-8022-2d1b2eb97d0b button.colab-df-convert');\n",
              "        buttonEl.style.display =\n",
              "          google.colab.kernel.accessAllowed ? 'block' : 'none';\n",
              "\n",
              "        async function convertToInteractive(key) {\n",
              "          const element = document.querySelector('#df-c1c3e280-7dce-44c9-8022-2d1b2eb97d0b');\n",
              "          const dataTable =\n",
              "            await google.colab.kernel.invokeFunction('convertToInteractive',\n",
              "                                                     [key], {});\n",
              "          if (!dataTable) return;\n",
              "\n",
              "          const docLinkHtml = 'Like what you see? Visit the ' +\n",
              "            '<a target=\"_blank\" href=https://colab.research.google.com/notebooks/data_table.ipynb>data table notebook</a>'\n",
              "            + ' to learn more about interactive tables.';\n",
              "          element.innerHTML = '';\n",
              "          dataTable['output_type'] = 'display_data';\n",
              "          await google.colab.output.renderOutput(dataTable, element);\n",
              "          const docLink = document.createElement('div');\n",
              "          docLink.innerHTML = docLinkHtml;\n",
              "          element.appendChild(docLink);\n",
              "        }\n",
              "      </script>\n",
              "    </div>\n",
              "  </div>\n",
              "  "
            ]
          },
          "metadata": {},
          "execution_count": 51
        }
      ]
    },
    {
      "cell_type": "code",
      "source": [
        "from scipy.stats import kstest\n",
        "\n",
        "kstest(e, 'norm')"
      ],
      "metadata": {
        "id": "DASO0yv4GCx-",
        "colab": {
          "base_uri": "https://localhost:8080/"
        },
        "outputId": "4a6b59b9-e519-41f7-e905-f149d4ff09f1"
      },
      "execution_count": null,
      "outputs": [
        {
          "output_type": "execute_result",
          "data": {
            "text/plain": [
              "KstestResult(statistic=0.54, pvalue=3.561199696487989e-14)"
            ]
          },
          "metadata": {},
          "execution_count": 52
        }
      ]
    },
    {
      "cell_type": "markdown",
      "source": [
        "p_valu гораздо меньше уровня значимости - 0.05. Из чего есть основания полагать, что **остатки не распределены нормально**"
      ],
      "metadata": {
        "id": "7AVwmI2PtxP0"
      }
    },
    {
      "cell_type": "markdown",
      "source": [
        "### Тест Гольдфильда на гомоскедантичность"
      ],
      "metadata": {
        "id": "lDwWpKDNyJrG"
      }
    },
    {
      "cell_type": "code",
      "source": [
        "rgsrs_4_sortY=rgsrs_4.sort_values(by=['SalePrice'], ignore_index=True) #Сортируем по целевой переменной\n",
        "rgsrs_4_sortY.head(5)"
      ],
      "metadata": {
        "id": "FzYhQrsFzfnf",
        "colab": {
          "base_uri": "https://localhost:8080/",
          "height": 204
        },
        "outputId": "9c5fd1e1-f016-481f-b4d8-8d2076dd8f5d"
      },
      "execution_count": null,
      "outputs": [
        {
          "output_type": "execute_result",
          "data": {
            "text/plain": [
              "   SalePrice  YearBuilt  BedroomAbvGr\n",
              "0      40000       1920             3\n",
              "1      68500       1927             1\n",
              "2      82000       1955             2\n",
              "3      90000       1967             2\n",
              "4     109000       1953             3"
            ],
            "text/html": [
              "\n",
              "  <div id=\"df-fb781b7d-1ac2-485b-86df-6c3b838ea7bd\">\n",
              "    <div class=\"colab-df-container\">\n",
              "      <div>\n",
              "<style scoped>\n",
              "    .dataframe tbody tr th:only-of-type {\n",
              "        vertical-align: middle;\n",
              "    }\n",
              "\n",
              "    .dataframe tbody tr th {\n",
              "        vertical-align: top;\n",
              "    }\n",
              "\n",
              "    .dataframe thead th {\n",
              "        text-align: right;\n",
              "    }\n",
              "</style>\n",
              "<table border=\"1\" class=\"dataframe\">\n",
              "  <thead>\n",
              "    <tr style=\"text-align: right;\">\n",
              "      <th></th>\n",
              "      <th>SalePrice</th>\n",
              "      <th>YearBuilt</th>\n",
              "      <th>BedroomAbvGr</th>\n",
              "    </tr>\n",
              "  </thead>\n",
              "  <tbody>\n",
              "    <tr>\n",
              "      <th>0</th>\n",
              "      <td>40000</td>\n",
              "      <td>1920</td>\n",
              "      <td>3</td>\n",
              "    </tr>\n",
              "    <tr>\n",
              "      <th>1</th>\n",
              "      <td>68500</td>\n",
              "      <td>1927</td>\n",
              "      <td>1</td>\n",
              "    </tr>\n",
              "    <tr>\n",
              "      <th>2</th>\n",
              "      <td>82000</td>\n",
              "      <td>1955</td>\n",
              "      <td>2</td>\n",
              "    </tr>\n",
              "    <tr>\n",
              "      <th>3</th>\n",
              "      <td>90000</td>\n",
              "      <td>1967</td>\n",
              "      <td>2</td>\n",
              "    </tr>\n",
              "    <tr>\n",
              "      <th>4</th>\n",
              "      <td>109000</td>\n",
              "      <td>1953</td>\n",
              "      <td>3</td>\n",
              "    </tr>\n",
              "  </tbody>\n",
              "</table>\n",
              "</div>\n",
              "      <button class=\"colab-df-convert\" onclick=\"convertToInteractive('df-fb781b7d-1ac2-485b-86df-6c3b838ea7bd')\"\n",
              "              title=\"Convert this dataframe to an interactive table.\"\n",
              "              style=\"display:none;\">\n",
              "        \n",
              "  <svg xmlns=\"http://www.w3.org/2000/svg\" height=\"24px\"viewBox=\"0 0 24 24\"\n",
              "       width=\"24px\">\n",
              "    <path d=\"M0 0h24v24H0V0z\" fill=\"none\"/>\n",
              "    <path d=\"M18.56 5.44l.94 2.06.94-2.06 2.06-.94-2.06-.94-.94-2.06-.94 2.06-2.06.94zm-11 1L8.5 8.5l.94-2.06 2.06-.94-2.06-.94L8.5 2.5l-.94 2.06-2.06.94zm10 10l.94 2.06.94-2.06 2.06-.94-2.06-.94-.94-2.06-.94 2.06-2.06.94z\"/><path d=\"M17.41 7.96l-1.37-1.37c-.4-.4-.92-.59-1.43-.59-.52 0-1.04.2-1.43.59L10.3 9.45l-7.72 7.72c-.78.78-.78 2.05 0 2.83L4 21.41c.39.39.9.59 1.41.59.51 0 1.02-.2 1.41-.59l7.78-7.78 2.81-2.81c.8-.78.8-2.07 0-2.86zM5.41 20L4 18.59l7.72-7.72 1.47 1.35L5.41 20z\"/>\n",
              "  </svg>\n",
              "      </button>\n",
              "      \n",
              "  <style>\n",
              "    .colab-df-container {\n",
              "      display:flex;\n",
              "      flex-wrap:wrap;\n",
              "      gap: 12px;\n",
              "    }\n",
              "\n",
              "    .colab-df-convert {\n",
              "      background-color: #E8F0FE;\n",
              "      border: none;\n",
              "      border-radius: 50%;\n",
              "      cursor: pointer;\n",
              "      display: none;\n",
              "      fill: #1967D2;\n",
              "      height: 32px;\n",
              "      padding: 0 0 0 0;\n",
              "      width: 32px;\n",
              "    }\n",
              "\n",
              "    .colab-df-convert:hover {\n",
              "      background-color: #E2EBFA;\n",
              "      box-shadow: 0px 1px 2px rgba(60, 64, 67, 0.3), 0px 1px 3px 1px rgba(60, 64, 67, 0.15);\n",
              "      fill: #174EA6;\n",
              "    }\n",
              "\n",
              "    [theme=dark] .colab-df-convert {\n",
              "      background-color: #3B4455;\n",
              "      fill: #D2E3FC;\n",
              "    }\n",
              "\n",
              "    [theme=dark] .colab-df-convert:hover {\n",
              "      background-color: #434B5C;\n",
              "      box-shadow: 0px 1px 3px 1px rgba(0, 0, 0, 0.15);\n",
              "      filter: drop-shadow(0px 1px 2px rgba(0, 0, 0, 0.3));\n",
              "      fill: #FFFFFF;\n",
              "    }\n",
              "  </style>\n",
              "\n",
              "      <script>\n",
              "        const buttonEl =\n",
              "          document.querySelector('#df-fb781b7d-1ac2-485b-86df-6c3b838ea7bd button.colab-df-convert');\n",
              "        buttonEl.style.display =\n",
              "          google.colab.kernel.accessAllowed ? 'block' : 'none';\n",
              "\n",
              "        async function convertToInteractive(key) {\n",
              "          const element = document.querySelector('#df-fb781b7d-1ac2-485b-86df-6c3b838ea7bd');\n",
              "          const dataTable =\n",
              "            await google.colab.kernel.invokeFunction('convertToInteractive',\n",
              "                                                     [key], {});\n",
              "          if (!dataTable) return;\n",
              "\n",
              "          const docLinkHtml = 'Like what you see? Visit the ' +\n",
              "            '<a target=\"_blank\" href=https://colab.research.google.com/notebooks/data_table.ipynb>data table notebook</a>'\n",
              "            + ' to learn more about interactive tables.';\n",
              "          element.innerHTML = '';\n",
              "          dataTable['output_type'] = 'display_data';\n",
              "          await google.colab.output.renderOutput(dataTable, element);\n",
              "          const docLink = document.createElement('div');\n",
              "          docLink.innerHTML = docLinkHtml;\n",
              "          element.appendChild(docLink);\n",
              "        }\n",
              "      </script>\n",
              "    </div>\n",
              "  </div>\n",
              "  "
            ]
          },
          "metadata": {},
          "execution_count": 172
        }
      ]
    },
    {
      "cell_type": "code",
      "source": [
        "n_gold=int(len(rgsrs_4_sortY)/3) #размер крайних выборок\n",
        "n_gold2=len(rgsrs_4_sortY)-2*n_gold #размер средней выборки"
      ],
      "metadata": {
        "id": "gn4g5OkjKQ9b"
      },
      "execution_count": null,
      "outputs": []
    },
    {
      "cell_type": "code",
      "source": [
        "rgsrs_4_sortY.head(3)"
      ],
      "metadata": {
        "colab": {
          "base_uri": "https://localhost:8080/",
          "height": 142
        },
        "id": "8KBAFjAg1WPG",
        "outputId": "595cae5b-0119-4c6c-932a-23440c5ed93b"
      },
      "execution_count": null,
      "outputs": [
        {
          "output_type": "execute_result",
          "data": {
            "text/plain": [
              "   SalePrice  YearBuilt  BedroomAbvGr\n",
              "0      40000       1920             3\n",
              "1      68500       1927             1\n",
              "2      82000       1955             2"
            ],
            "text/html": [
              "\n",
              "  <div id=\"df-8d60a434-0f5f-4ff3-aaee-46b5c112c445\">\n",
              "    <div class=\"colab-df-container\">\n",
              "      <div>\n",
              "<style scoped>\n",
              "    .dataframe tbody tr th:only-of-type {\n",
              "        vertical-align: middle;\n",
              "    }\n",
              "\n",
              "    .dataframe tbody tr th {\n",
              "        vertical-align: top;\n",
              "    }\n",
              "\n",
              "    .dataframe thead th {\n",
              "        text-align: right;\n",
              "    }\n",
              "</style>\n",
              "<table border=\"1\" class=\"dataframe\">\n",
              "  <thead>\n",
              "    <tr style=\"text-align: right;\">\n",
              "      <th></th>\n",
              "      <th>SalePrice</th>\n",
              "      <th>YearBuilt</th>\n",
              "      <th>BedroomAbvGr</th>\n",
              "    </tr>\n",
              "  </thead>\n",
              "  <tbody>\n",
              "    <tr>\n",
              "      <th>0</th>\n",
              "      <td>40000</td>\n",
              "      <td>1920</td>\n",
              "      <td>3</td>\n",
              "    </tr>\n",
              "    <tr>\n",
              "      <th>1</th>\n",
              "      <td>68500</td>\n",
              "      <td>1927</td>\n",
              "      <td>1</td>\n",
              "    </tr>\n",
              "    <tr>\n",
              "      <th>2</th>\n",
              "      <td>82000</td>\n",
              "      <td>1955</td>\n",
              "      <td>2</td>\n",
              "    </tr>\n",
              "  </tbody>\n",
              "</table>\n",
              "</div>\n",
              "      <button class=\"colab-df-convert\" onclick=\"convertToInteractive('df-8d60a434-0f5f-4ff3-aaee-46b5c112c445')\"\n",
              "              title=\"Convert this dataframe to an interactive table.\"\n",
              "              style=\"display:none;\">\n",
              "        \n",
              "  <svg xmlns=\"http://www.w3.org/2000/svg\" height=\"24px\"viewBox=\"0 0 24 24\"\n",
              "       width=\"24px\">\n",
              "    <path d=\"M0 0h24v24H0V0z\" fill=\"none\"/>\n",
              "    <path d=\"M18.56 5.44l.94 2.06.94-2.06 2.06-.94-2.06-.94-.94-2.06-.94 2.06-2.06.94zm-11 1L8.5 8.5l.94-2.06 2.06-.94-2.06-.94L8.5 2.5l-.94 2.06-2.06.94zm10 10l.94 2.06.94-2.06 2.06-.94-2.06-.94-.94-2.06-.94 2.06-2.06.94z\"/><path d=\"M17.41 7.96l-1.37-1.37c-.4-.4-.92-.59-1.43-.59-.52 0-1.04.2-1.43.59L10.3 9.45l-7.72 7.72c-.78.78-.78 2.05 0 2.83L4 21.41c.39.39.9.59 1.41.59.51 0 1.02-.2 1.41-.59l7.78-7.78 2.81-2.81c.8-.78.8-2.07 0-2.86zM5.41 20L4 18.59l7.72-7.72 1.47 1.35L5.41 20z\"/>\n",
              "  </svg>\n",
              "      </button>\n",
              "      \n",
              "  <style>\n",
              "    .colab-df-container {\n",
              "      display:flex;\n",
              "      flex-wrap:wrap;\n",
              "      gap: 12px;\n",
              "    }\n",
              "\n",
              "    .colab-df-convert {\n",
              "      background-color: #E8F0FE;\n",
              "      border: none;\n",
              "      border-radius: 50%;\n",
              "      cursor: pointer;\n",
              "      display: none;\n",
              "      fill: #1967D2;\n",
              "      height: 32px;\n",
              "      padding: 0 0 0 0;\n",
              "      width: 32px;\n",
              "    }\n",
              "\n",
              "    .colab-df-convert:hover {\n",
              "      background-color: #E2EBFA;\n",
              "      box-shadow: 0px 1px 2px rgba(60, 64, 67, 0.3), 0px 1px 3px 1px rgba(60, 64, 67, 0.15);\n",
              "      fill: #174EA6;\n",
              "    }\n",
              "\n",
              "    [theme=dark] .colab-df-convert {\n",
              "      background-color: #3B4455;\n",
              "      fill: #D2E3FC;\n",
              "    }\n",
              "\n",
              "    [theme=dark] .colab-df-convert:hover {\n",
              "      background-color: #434B5C;\n",
              "      box-shadow: 0px 1px 3px 1px rgba(0, 0, 0, 0.15);\n",
              "      filter: drop-shadow(0px 1px 2px rgba(0, 0, 0, 0.3));\n",
              "      fill: #FFFFFF;\n",
              "    }\n",
              "  </style>\n",
              "\n",
              "      <script>\n",
              "        const buttonEl =\n",
              "          document.querySelector('#df-8d60a434-0f5f-4ff3-aaee-46b5c112c445 button.colab-df-convert');\n",
              "        buttonEl.style.display =\n",
              "          google.colab.kernel.accessAllowed ? 'block' : 'none';\n",
              "\n",
              "        async function convertToInteractive(key) {\n",
              "          const element = document.querySelector('#df-8d60a434-0f5f-4ff3-aaee-46b5c112c445');\n",
              "          const dataTable =\n",
              "            await google.colab.kernel.invokeFunction('convertToInteractive',\n",
              "                                                     [key], {});\n",
              "          if (!dataTable) return;\n",
              "\n",
              "          const docLinkHtml = 'Like what you see? Visit the ' +\n",
              "            '<a target=\"_blank\" href=https://colab.research.google.com/notebooks/data_table.ipynb>data table notebook</a>'\n",
              "            + ' to learn more about interactive tables.';\n",
              "          element.innerHTML = '';\n",
              "          dataTable['output_type'] = 'display_data';\n",
              "          await google.colab.output.renderOutput(dataTable, element);\n",
              "          const docLink = document.createElement('div');\n",
              "          docLink.innerHTML = docLinkHtml;\n",
              "          element.appendChild(docLink);\n",
              "        }\n",
              "      </script>\n",
              "    </div>\n",
              "  </div>\n",
              "  "
            ]
          },
          "metadata": {},
          "execution_count": 74
        }
      ]
    },
    {
      "cell_type": "code",
      "source": [
        "gold1=rgsrs_4_sortY.iloc[:n_gold,1:]\n",
        "gold2=rgsrs_4_sortY.iloc[n_gold+n_gold2:,1:]\n",
        "Ygold1=rgsrs_4_sortY.loc[:n_gold-1,'SalePrice']\n",
        "Ygold2=rgsrs_4_sortY.loc[n_gold+n_gold2:,'SalePrice']\n",
        "\n",
        "gold_k=len(gold1.columns)\n",
        "gold_k"
      ],
      "metadata": {
        "colab": {
          "base_uri": "https://localhost:8080/"
        },
        "id": "G6QYzeEU0-2L",
        "outputId": "3e00cbec-a2d4-4c80-d134-742a31e770a1"
      },
      "execution_count": null,
      "outputs": [
        {
          "output_type": "execute_result",
          "data": {
            "text/plain": [
              "2"
            ]
          },
          "metadata": {},
          "execution_count": 56
        }
      ]
    },
    {
      "cell_type": "code",
      "source": [
        "gold1 = sm.add_constant(gold1)\n",
        "\n",
        "modelgold1=sm.OLS(Ygold1, gold1).fit()\n",
        "\n",
        "\n",
        "gold2 = sm.add_constant(gold2)\n",
        "\n",
        "modelgold2=sm.OLS(Ygold2, gold2).fit()\n",
        "\n",
        "\n",
        "modelgold2.ssr/modelgold1.ssr#Статистика"
      ],
      "metadata": {
        "colab": {
          "base_uri": "https://localhost:8080/"
        },
        "id": "OdoZLc161Pju",
        "outputId": "e3493204-5a5c-42c5-b863-6deccc23994e"
      },
      "execution_count": null,
      "outputs": [
        {
          "output_type": "stream",
          "name": "stderr",
          "text": [
            "/usr/local/lib/python3.8/dist-packages/statsmodels/tsa/tsatools.py:142: FutureWarning:\n",
            "\n",
            "In a future version of pandas all arguments of concat except for the argument 'objs' will be keyword-only\n",
            "\n"
          ]
        },
        {
          "output_type": "execute_result",
          "data": {
            "text/plain": [
              "2.0509953565589933"
            ]
          },
          "metadata": {},
          "execution_count": 57
        }
      ]
    },
    {
      "cell_type": "code",
      "source": [
        "F=scipy.stats.f.ppf(1-0.05,gold_k,n_gold2-gold_k-1)#крит точка распред Фишера\n",
        "F"
      ],
      "metadata": {
        "colab": {
          "base_uri": "https://localhost:8080/"
        },
        "id": "E1zpGhi848Sz",
        "outputId": "58fcafdf-d8f4-41a2-8fd6-8f2ae134ab8b"
      },
      "execution_count": null,
      "outputs": [
        {
          "output_type": "execute_result",
          "data": {
            "text/plain": [
              "3.6823203436732412"
            ]
          },
          "metadata": {},
          "execution_count": 58
        }
      ]
    },
    {
      "cell_type": "markdown",
      "source": [
        "\n",
        "$\\frac{ESS_2}{ESS_1}<F$ **- есть гомоскедантичность**"
      ],
      "metadata": {
        "id": "ygjIvEEL-hPo"
      }
    },
    {
      "cell_type": "markdown",
      "source": [
        "### Тест на автокорелляцию Дарбина-Уотсона"
      ],
      "metadata": {
        "id": "0zYLSnYi_eFy"
      }
    },
    {
      "cell_type": "markdown",
      "source": [
        "Первого порядка"
      ],
      "metadata": {
        "id": "vTAK6FeBNQ5P"
      }
    },
    {
      "cell_type": "code",
      "source": [
        "dl=1.46\n",
        "du=1.63\n",
        "\n",
        "\n",
        "print(\"dl\",dl)\n",
        "print(\"du\",du)\n",
        "print(\"4-du\",4-du)\n",
        "print(\"4-dl\",4-dl)\n",
        "\n"
      ],
      "metadata": {
        "colab": {
          "base_uri": "https://localhost:8080/"
        },
        "id": "g3DiM8v5M9e1",
        "outputId": "a76cac18-6fbf-4130-8485-6d2038f6f2a4"
      },
      "execution_count": null,
      "outputs": [
        {
          "output_type": "stream",
          "name": "stdout",
          "text": [
            "dl 1.46\n",
            "du 1.63\n",
            "4-du 2.37\n",
            "4-dl 2.54\n"
          ]
        }
      ]
    },
    {
      "cell_type": "code",
      "source": [
        "durbin_watson(model4.resid)#статистика"
      ],
      "metadata": {
        "colab": {
          "base_uri": "https://localhost:8080/"
        },
        "id": "GgK0QQZwOBwA",
        "outputId": "2bab29e7-2a39-4fe8-827c-8d4c40a69637"
      },
      "execution_count": null,
      "outputs": [
        {
          "output_type": "execute_result",
          "data": {
            "text/plain": [
              "1.6940224398186219"
            ]
          },
          "metadata": {},
          "execution_count": 60
        }
      ]
    },
    {
      "cell_type": "markdown",
      "source": [
        "Статистика по критерию Дарбина-Уотсона находится между $d_u$ и $4-d_u$ - что говорит о том, что **корелляции первого порядка нет**."
      ],
      "metadata": {
        "id": "vOHPTA1jOD0Z"
      }
    },
    {
      "cell_type": "markdown",
      "source": [
        "Высших порядков до 12 порядка (продажный год)"
      ],
      "metadata": {
        "id": "UVPsIdQCOxym"
      }
    },
    {
      "cell_type": "code",
      "source": [
        "corr_vect=np.array([])\n",
        "n=len(e)\n",
        "\n",
        "for i in range(1,13):\n",
        "  a=e[:n-i]\n",
        "  b=e[i:]\n",
        "  corr_vect=np.append(corr_vect,np.corrcoef(a,b)[0][1])\n",
        "  "
      ],
      "metadata": {
        "id": "qthTXC_kO14W"
      },
      "execution_count": null,
      "outputs": []
    },
    {
      "cell_type": "code",
      "source": [
        "xx=[i for i in range(1,len(corr_vect)+1)]\n",
        "\n",
        "sns.scatterplot(x=xx,y=abs(corr_vect))"
      ],
      "metadata": {
        "colab": {
          "base_uri": "https://localhost:8080/",
          "height": 290
        },
        "id": "SG9haR6LQ9Df",
        "outputId": "bd54ec3a-9f59-4e94-cbc6-98b0e67b7943"
      },
      "execution_count": null,
      "outputs": [
        {
          "output_type": "execute_result",
          "data": {
            "text/plain": [
              "<matplotlib.axes._subplots.AxesSubplot at 0x7f7ff49dcdc0>"
            ]
          },
          "metadata": {},
          "execution_count": 62
        },
        {
          "output_type": "display_data",
          "data": {
            "text/plain": [
              "<Figure size 1080x432 with 1 Axes>"
            ],
            "image/png": "[encoded data removed]"
          },
          "metadata": {}
        }
      ]
    },
    {
      "cell_type": "markdown",
      "source": [
        "Проверим максимальный элемент среди различных порядков - в нашем случае - 7"
      ],
      "metadata": {
        "id": "eRSUeJZfVuOH"
      }
    },
    {
      "cell_type": "code",
      "source": [
        "ts=(corr_vect[6]*((n-k)**0.5))/((1-corr_vect[6]**2)**0.5)\n",
        "ts#Статистика"
      ],
      "metadata": {
        "colab": {
          "base_uri": "https://localhost:8080/"
        },
        "id": "Lut1rbP8VtIU",
        "outputId": "6d800845-6b54-4f8c-c0b7-c5119a1c985b"
      },
      "execution_count": null,
      "outputs": [
        {
          "output_type": "execute_result",
          "data": {
            "text/plain": [
              "1.801795061935136"
            ]
          },
          "metadata": {},
          "execution_count": 63
        }
      ]
    },
    {
      "cell_type": "code",
      "source": [
        "t=scipy.stats.t.ppf(1-0.05/2,n-k)#two tailed\n",
        "t"
      ],
      "metadata": {
        "colab": {
          "base_uri": "https://localhost:8080/"
        },
        "id": "RSvXGgpAWibf",
        "outputId": "8f531b81-a054-40ec-ab1f-2b55a5821291"
      },
      "execution_count": null,
      "outputs": [
        {
          "output_type": "execute_result",
          "data": {
            "text/plain": [
              "2.0106347546964454"
            ]
          },
          "metadata": {},
          "execution_count": 64
        }
      ]
    },
    {
      "cell_type": "markdown",
      "source": [
        "Статистика меньше крит. точки стьюдента -** нет автокорреляции 7 порядка**\n",
        "\n",
        "А следовательно **НЕТ АВТОКОРЕЛЛЯЦИИ ДО 12 ПОРЯДКА**"
      ],
      "metadata": {
        "id": "dOaM5gp3XFdw"
      }
    },
    {
      "cell_type": "markdown",
      "source": [
        "### Вывод\n",
        "\n",
        "Все пункты теоремы Гаусса-Маркова выполнены, кроме, как и предполагалось, нормальности остатков./\n",
        "\n",
        "Как можно это исправить? Может помочь переход к логарифмической или полулогарифмический модели:\n",
        "\n",
        "$ln(y)=b_1*ln(x_1)+b_2*ln(x_2)+...$\n",
        "\n",
        "$ln(y)=b_1*x_1+b_2*x_2+...$\n",
        "\n",
        "\n",
        "\n"
      ],
      "metadata": {
        "id": "ahkm0Xd1EWYl"
      }
    },
    {
      "cell_type": "markdown",
      "source": [
        "# Прогноз значений для X, превышающее среднее на 45%"
      ],
      "metadata": {
        "id": "ajmMyJvCFMYe"
      }
    },
    {
      "cell_type": "code",
      "source": [
        "x4mean=rgsrs_4.iloc[:,1:].mean()#Среднее\n",
        "\n",
        "x4mean"
      ],
      "metadata": {
        "colab": {
          "base_uri": "https://localhost:8080/"
        },
        "id": "L_2FpdxfFgy4",
        "outputId": "deb009a4-818b-4e9a-a30c-ed0ffca7ad99"
      },
      "execution_count": null,
      "outputs": [
        {
          "output_type": "execute_result",
          "data": {
            "text/plain": [
              "YearBuilt       1972.98\n",
              "BedroomAbvGr       2.70\n",
              "dtype: float64"
            ]
          },
          "metadata": {},
          "execution_count": 143
        }
      ]
    },
    {
      "cell_type": "code",
      "source": [
        "x4mean1=np.array([1.0,1972.98,2.70])\n",
        "x4mean1=x4mean1.reshape(1,3)\n",
        "\n",
        "x4mean2=pd.DataFrame(data=x4mean1,columns=['a1','a2','a3'])"
      ],
      "metadata": {
        "id": "99BmbY2tJZsQ"
      },
      "execution_count": null,
      "outputs": []
    },
    {
      "cell_type": "code",
      "source": [
        "x_topred=x4mean2.copy()\n",
        "\n",
        "x_topred.iloc[:,2:]*=1.45"
      ],
      "metadata": {
        "id": "ZzxKuWHIGEP7"
      },
      "execution_count": null,
      "outputs": []
    },
    {
      "cell_type": "code",
      "source": [
        "pred=model4.predict(x_topred)[0]\n",
        "\n",
        "pred"
      ],
      "metadata": {
        "colab": {
          "base_uri": "https://localhost:8080/"
        },
        "id": "Ew0jA-2OG2qH",
        "outputId": "2b7a3819-3d5e-4062-ea4c-6f18da6c653b"
      },
      "execution_count": null,
      "outputs": [
        {
          "output_type": "execute_result",
          "data": {
            "text/plain": [
              "199285.61311423298"
            ]
          },
          "metadata": {},
          "execution_count": 203
        }
      ]
    },
    {
      "cell_type": "markdown",
      "source": [
        "Учитывая факторы и их повышение их на 45% Очень логичная оценка стоимости дома в размере 200,000"
      ],
      "metadata": {
        "id": "TdK9rHu2PLJ5"
      }
    },
    {
      "cell_type": "markdown",
      "source": [
        "# Доверительный интервал для прогноза и для его матожидания"
      ],
      "metadata": {
        "id": "wYMV3_PXUUdu"
      }
    },
    {
      "cell_type": "code",
      "source": [
        "interv=model4.get_prediction(x_topred)\n",
        "\n",
        "imp=interv.summary_frame(alpha=0.05)\n",
        "\n",
        "print(\"Доверительный интервал мат. ожидания\")\n",
        "\n",
        "print(imp['mean_ci_lower'][0],\" < m < \", imp['mean_ci_upper'][0])\n",
        "\n",
        "print(\"Доверительный интервал прогноза\")\n",
        "\n",
        "print(imp['obs_ci_lower'][0],\" < y_p < \", imp['obs_ci_upper'][0])"
      ],
      "metadata": {
        "colab": {
          "base_uri": "https://localhost:8080/"
        },
        "id": "R4WB0Ax8UjGr",
        "outputId": "f878ccfa-bab6-4bae-df7d-47d898d9c406"
      },
      "execution_count": null,
      "outputs": [
        {
          "output_type": "stream",
          "name": "stdout",
          "text": [
            "Доверительный интервал мат. ожидания\n",
            "173243.74453114008  < m <  225327.4816973259\n",
            "Доверительный интервал прогноза\n",
            "103766.29848956065  < y_p <  294804.9277389053\n"
          ]
        }
      ]
    }
  ]
}