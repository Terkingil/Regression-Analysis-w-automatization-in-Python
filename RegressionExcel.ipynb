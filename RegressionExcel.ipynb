{
  "nbformat": 4,
  "nbformat_minor": 0,
  "metadata": {
    "colab": {
      "provenance": [],
      "toc_visible": true
    },
    "kernelspec": {
      "name": "python3",
      "display_name": "Python 3"
    },
    "language_info": {
      "name": "python"
    }
  },
  "cells": [
    {
      "cell_type": "markdown",
      "source": [
        "Вопросы:\n",
        "\n",
        "* Корреляционную матрицу строить до или после one hot encoding - После лучше \n",
        "всего, но если корреляция между столбцами одной фиктивной переменной то она не считается(?)\\\n",
        "* Что лучше станд или норм - в зависимости от данных\\\n",
        "* Критерий Акаике - информационный критрий не имеет физической подоплеки как R^2, основан на функции правдоподобия чем меньше тем лучше\\\n",
        "* Когда добавлять константы? (?) когда хочешь чтобы в модели был свободный член\\\n",
        "* p value при большом количестве даннх и числах - да такое может быть, в зависимости от критери кажется Колмогорова при каком -то n начинает искажатся но программа может считать и с четом этого\\\n",
        "* Корреляция 0.7 между y и х\\\n",
        "* Зачем смотреть на коэф при усложнеи зависимости фиктивных перем они же не показывают рельной картины\n",
        "* Роль F статистики в модели как оценивать модель согласно ей?\n",
        "* Частные коэффиценты корреляци когда считать?\n",
        "* Как считать значимость коэффицнтов для мульт регресии\n",
        "* Значимост коэффицентов one hot encoding\n",
        "* Почему степеней свободы 7 но факторов 11"
      ],
      "metadata": {
        "id": "CO5-dQEWgkwM"
      }
    },
    {
      "cell_type": "markdown",
      "source": [
        "Dict: ANOVA,SSM,SSR,SSE"
      ],
      "metadata": {
        "id": "cTVvUq0dxnPx"
      }
    },
    {
      "cell_type": "code",
      "execution_count": 1,
      "metadata": {
        "id": "m7cKWYu3a8Zu"
      },
      "outputs": [],
      "source": [
        "import numpy as np\n",
        "import pandas as pd\n",
        "import seaborn as sns\n",
        "import matplotlib.pyplot as plt\n",
        "\n",
        "import statsmodels.api as sm\n",
        "import scipy.stats\n",
        "\n",
        "from sklearn.linear_model import LinearRegression\n",
        "from sklearn.preprocessing import MinMaxScaler\n",
        "from sklearn.preprocessing import StandardScaler"
      ]
    },
    {
      "cell_type": "code",
      "source": [
        "from google.colab import files\n",
        " \n",
        " \n",
        "uploaded = files.upload()"
      ],
      "metadata": {
        "colab": {
          "base_uri": "https://localhost:8080/",
          "height": 74
        },
        "id": "xQzWSmvTWYst",
        "outputId": "dde907ea-ef2c-4462-ff90-3e4aba48c58f"
      },
      "execution_count": 2,
      "outputs": [
        {
          "output_type": "display_data",
          "data": {
            "text/plain": [
              "<IPython.core.display.HTML object>"
            ],
            "text/html": [
              "\n",
              "     <input type=\"file\" id=\"files-40305db1-164e-402d-8308-c8f55ca019dd\" name=\"files[]\" multiple disabled\n",
              "        style=\"border:none\" />\n",
              "     <output id=\"result-40305db1-164e-402d-8308-c8f55ca019dd\">\n",
              "      Upload widget is only available when the cell has been executed in the\n",
              "      current browser session. Please rerun this cell to enable.\n",
              "      </output>\n",
              "      <script>// Copyright 2017 Google LLC\n",
              "//\n",
              "// Licensed under the Apache License, Version 2.0 (the \"License\");\n",
              "// you may not use this file except in compliance with the License.\n",
              "// You may obtain a copy of the License at\n",
              "//\n",
              "//      http://www.apache.org/licenses/LICENSE-2.0\n",
              "//\n",
              "// Unless required by applicable law or agreed to in writing, software\n",
              "// distributed under the License is distributed on an \"AS IS\" BASIS,\n",
              "// WITHOUT WARRANTIES OR CONDITIONS OF ANY KIND, either express or implied.\n",
              "// See the License for the specific language governing permissions and\n",
              "// limitations under the License.\n",
              "\n",
              "/**\n",
              " * @fileoverview Helpers for google.colab Python module.\n",
              " */\n",
              "(function(scope) {\n",
              "function span(text, styleAttributes = {}) {\n",
              "  const element = document.createElement('span');\n",
              "  element.textContent = text;\n",
              "  for (const key of Object.keys(styleAttributes)) {\n",
              "    element.style[key] = styleAttributes[key];\n",
              "  }\n",
              "  return element;\n",
              "}\n",
              "\n",
              "// Max number of bytes which will be uploaded at a time.\n",
              "const MAX_PAYLOAD_SIZE = 100 * 1024;\n",
              "\n",
              "function _uploadFiles(inputId, outputId) {\n",
              "  const steps = uploadFilesStep(inputId, outputId);\n",
              "  const outputElement = document.getElementById(outputId);\n",
              "  // Cache steps on the outputElement to make it available for the next call\n",
              "  // to uploadFilesContinue from Python.\n",
              "  outputElement.steps = steps;\n",
              "\n",
              "  return _uploadFilesContinue(outputId);\n",
              "}\n",
              "\n",
              "// This is roughly an async generator (not supported in the browser yet),\n",
              "// where there are multiple asynchronous steps and the Python side is going\n",
              "// to poll for completion of each step.\n",
              "// This uses a Promise to block the python side on completion of each step,\n",
              "// then passes the result of the previous step as the input to the next step.\n",
              "function _uploadFilesContinue(outputId) {\n",
              "  const outputElement = document.getElementById(outputId);\n",
              "  const steps = outputElement.steps;\n",
              "\n",
              "  const next = steps.next(outputElement.lastPromiseValue);\n",
              "  return Promise.resolve(next.value.promise).then((value) => {\n",
              "    // Cache the last promise value to make it available to the next\n",
              "    // step of the generator.\n",
              "    outputElement.lastPromiseValue = value;\n",
              "    return next.value.response;\n",
              "  });\n",
              "}\n",
              "\n",
              "/**\n",
              " * Generator function which is called between each async step of the upload\n",
              " * process.\n",
              " * @param {string} inputId Element ID of the input file picker element.\n",
              " * @param {string} outputId Element ID of the output display.\n",
              " * @return {!Iterable<!Object>} Iterable of next steps.\n",
              " */\n",
              "function* uploadFilesStep(inputId, outputId) {\n",
              "  const inputElement = document.getElementById(inputId);\n",
              "  inputElement.disabled = false;\n",
              "\n",
              "  const outputElement = document.getElementById(outputId);\n",
              "  outputElement.innerHTML = '';\n",
              "\n",
              "  const pickedPromise = new Promise((resolve) => {\n",
              "    inputElement.addEventListener('change', (e) => {\n",
              "      resolve(e.target.files);\n",
              "    });\n",
              "  });\n",
              "\n",
              "  const cancel = document.createElement('button');\n",
              "  inputElement.parentElement.appendChild(cancel);\n",
              "  cancel.textContent = 'Cancel upload';\n",
              "  const cancelPromise = new Promise((resolve) => {\n",
              "    cancel.onclick = () => {\n",
              "      resolve(null);\n",
              "    };\n",
              "  });\n",
              "\n",
              "  // Wait for the user to pick the files.\n",
              "  const files = yield {\n",
              "    promise: Promise.race([pickedPromise, cancelPromise]),\n",
              "    response: {\n",
              "      action: 'starting',\n",
              "    }\n",
              "  };\n",
              "\n",
              "  cancel.remove();\n",
              "\n",
              "  // Disable the input element since further picks are not allowed.\n",
              "  inputElement.disabled = true;\n",
              "\n",
              "  if (!files) {\n",
              "    return {\n",
              "      response: {\n",
              "        action: 'complete',\n",
              "      }\n",
              "    };\n",
              "  }\n",
              "\n",
              "  for (const file of files) {\n",
              "    const li = document.createElement('li');\n",
              "    li.append(span(file.name, {fontWeight: 'bold'}));\n",
              "    li.append(span(\n",
              "        `(${file.type || 'n/a'}) - ${file.size} bytes, ` +\n",
              "        `last modified: ${\n",
              "            file.lastModifiedDate ? file.lastModifiedDate.toLocaleDateString() :\n",
              "                                    'n/a'} - `));\n",
              "    const percent = span('0% done');\n",
              "    li.appendChild(percent);\n",
              "\n",
              "    outputElement.appendChild(li);\n",
              "\n",
              "    const fileDataPromise = new Promise((resolve) => {\n",
              "      const reader = new FileReader();\n",
              "      reader.onload = (e) => {\n",
              "        resolve(e.target.result);\n",
              "      };\n",
              "      reader.readAsArrayBuffer(file);\n",
              "    });\n",
              "    // Wait for the data to be ready.\n",
              "    let fileData = yield {\n",
              "      promise: fileDataPromise,\n",
              "      response: {\n",
              "        action: 'continue',\n",
              "      }\n",
              "    };\n",
              "\n",
              "    // Use a chunked sending to avoid message size limits. See b/62115660.\n",
              "    let position = 0;\n",
              "    do {\n",
              "      const length = Math.min(fileData.byteLength - position, MAX_PAYLOAD_SIZE);\n",
              "      const chunk = new Uint8Array(fileData, position, length);\n",
              "      position += length;\n",
              "\n",
              "      const base64 = btoa(String.fromCharCode.apply(null, chunk));\n",
              "      yield {\n",
              "        response: {\n",
              "          action: 'append',\n",
              "          file: file.name,\n",
              "          data: base64,\n",
              "        },\n",
              "      };\n",
              "\n",
              "      let percentDone = fileData.byteLength === 0 ?\n",
              "          100 :\n",
              "          Math.round((position / fileData.byteLength) * 100);\n",
              "      percent.textContent = `${percentDone}% done`;\n",
              "\n",
              "    } while (position < fileData.byteLength);\n",
              "  }\n",
              "\n",
              "  // All done.\n",
              "  yield {\n",
              "    response: {\n",
              "      action: 'complete',\n",
              "    }\n",
              "  };\n",
              "}\n",
              "\n",
              "scope.google = scope.google || {};\n",
              "scope.google.colab = scope.google.colab || {};\n",
              "scope.google.colab._files = {\n",
              "  _uploadFiles,\n",
              "  _uploadFilesContinue,\n",
              "};\n",
              "})(self);\n",
              "</script> "
            ]
          },
          "metadata": {}
        },
        {
          "output_type": "stream",
          "name": "stdout",
          "text": [
            "Saving train.csv to train.csv\n"
          ]
        }
      ]
    },
    {
      "cell_type": "code",
      "source": [
        "data=pd.read_csv(\"train.csv\")\n",
        "\n",
        "\n",
        "#data\n",
        "data.head(5)"
      ],
      "metadata": {
        "colab": {
          "base_uri": "https://localhost:8080/",
          "height": 206
        },
        "id": "IfCbbw9SWfv0",
        "outputId": "2f82bba0-6ed7-4a9e-b7f1-144907374af6"
      },
      "execution_count": 41,
      "outputs": [
        {
          "output_type": "execute_result",
          "data": {
            "text/plain": [
              "   SalePrice  MSSubClass  LotArea LotShape  YearBuilt  BedroomAbvGr\n",
              "0     208500          60     8450      Reg       2003             3\n",
              "1     181500          20     9600      Reg       1976             3\n",
              "2     223500          60    11250      IR1       2001             3\n",
              "3     140000          70     9550      IR1       1915             3\n",
              "4     250000          60    14260      IR1       2000             4"
            ],
            "text/html": [
              "\n",
              "  <div id=\"df-8ad6121f-6108-4230-acc1-974e43eda0dc\">\n",
              "    <div class=\"colab-df-container\">\n",
              "      <div>\n",
              "<style scoped>\n",
              "    .dataframe tbody tr th:only-of-type {\n",
              "        vertical-align: middle;\n",
              "    }\n",
              "\n",
              "    .dataframe tbody tr th {\n",
              "        vertical-align: top;\n",
              "    }\n",
              "\n",
              "    .dataframe thead th {\n",
              "        text-align: right;\n",
              "    }\n",
              "</style>\n",
              "<table border=\"1\" class=\"dataframe\">\n",
              "  <thead>\n",
              "    <tr style=\"text-align: right;\">\n",
              "      <th></th>\n",
              "      <th>SalePrice</th>\n",
              "      <th>MSSubClass</th>\n",
              "      <th>LotArea</th>\n",
              "      <th>LotShape</th>\n",
              "      <th>YearBuilt</th>\n",
              "      <th>BedroomAbvGr</th>\n",
              "    </tr>\n",
              "  </thead>\n",
              "  <tbody>\n",
              "    <tr>\n",
              "      <th>0</th>\n",
              "      <td>208500</td>\n",
              "      <td>60</td>\n",
              "      <td>8450</td>\n",
              "      <td>Reg</td>\n",
              "      <td>2003</td>\n",
              "      <td>3</td>\n",
              "    </tr>\n",
              "    <tr>\n",
              "      <th>1</th>\n",
              "      <td>181500</td>\n",
              "      <td>20</td>\n",
              "      <td>9600</td>\n",
              "      <td>Reg</td>\n",
              "      <td>1976</td>\n",
              "      <td>3</td>\n",
              "    </tr>\n",
              "    <tr>\n",
              "      <th>2</th>\n",
              "      <td>223500</td>\n",
              "      <td>60</td>\n",
              "      <td>11250</td>\n",
              "      <td>IR1</td>\n",
              "      <td>2001</td>\n",
              "      <td>3</td>\n",
              "    </tr>\n",
              "    <tr>\n",
              "      <th>3</th>\n",
              "      <td>140000</td>\n",
              "      <td>70</td>\n",
              "      <td>9550</td>\n",
              "      <td>IR1</td>\n",
              "      <td>1915</td>\n",
              "      <td>3</td>\n",
              "    </tr>\n",
              "    <tr>\n",
              "      <th>4</th>\n",
              "      <td>250000</td>\n",
              "      <td>60</td>\n",
              "      <td>14260</td>\n",
              "      <td>IR1</td>\n",
              "      <td>2000</td>\n",
              "      <td>4</td>\n",
              "    </tr>\n",
              "  </tbody>\n",
              "</table>\n",
              "</div>\n",
              "      <button class=\"colab-df-convert\" onclick=\"convertToInteractive('df-8ad6121f-6108-4230-acc1-974e43eda0dc')\"\n",
              "              title=\"Convert this dataframe to an interactive table.\"\n",
              "              style=\"display:none;\">\n",
              "        \n",
              "  <svg xmlns=\"http://www.w3.org/2000/svg\" height=\"24px\"viewBox=\"0 0 24 24\"\n",
              "       width=\"24px\">\n",
              "    <path d=\"M0 0h24v24H0V0z\" fill=\"none\"/>\n",
              "    <path d=\"M18.56 5.44l.94 2.06.94-2.06 2.06-.94-2.06-.94-.94-2.06-.94 2.06-2.06.94zm-11 1L8.5 8.5l.94-2.06 2.06-.94-2.06-.94L8.5 2.5l-.94 2.06-2.06.94zm10 10l.94 2.06.94-2.06 2.06-.94-2.06-.94-.94-2.06-.94 2.06-2.06.94z\"/><path d=\"M17.41 7.96l-1.37-1.37c-.4-.4-.92-.59-1.43-.59-.52 0-1.04.2-1.43.59L10.3 9.45l-7.72 7.72c-.78.78-.78 2.05 0 2.83L4 21.41c.39.39.9.59 1.41.59.51 0 1.02-.2 1.41-.59l7.78-7.78 2.81-2.81c.8-.78.8-2.07 0-2.86zM5.41 20L4 18.59l7.72-7.72 1.47 1.35L5.41 20z\"/>\n",
              "  </svg>\n",
              "      </button>\n",
              "      \n",
              "  <style>\n",
              "    .colab-df-container {\n",
              "      display:flex;\n",
              "      flex-wrap:wrap;\n",
              "      gap: 12px;\n",
              "    }\n",
              "\n",
              "    .colab-df-convert {\n",
              "      background-color: #E8F0FE;\n",
              "      border: none;\n",
              "      border-radius: 50%;\n",
              "      cursor: pointer;\n",
              "      display: none;\n",
              "      fill: #1967D2;\n",
              "      height: 32px;\n",
              "      padding: 0 0 0 0;\n",
              "      width: 32px;\n",
              "    }\n",
              "\n",
              "    .colab-df-convert:hover {\n",
              "      background-color: #E2EBFA;\n",
              "      box-shadow: 0px 1px 2px rgba(60, 64, 67, 0.3), 0px 1px 3px 1px rgba(60, 64, 67, 0.15);\n",
              "      fill: #174EA6;\n",
              "    }\n",
              "\n",
              "    [theme=dark] .colab-df-convert {\n",
              "      background-color: #3B4455;\n",
              "      fill: #D2E3FC;\n",
              "    }\n",
              "\n",
              "    [theme=dark] .colab-df-convert:hover {\n",
              "      background-color: #434B5C;\n",
              "      box-shadow: 0px 1px 3px 1px rgba(0, 0, 0, 0.15);\n",
              "      filter: drop-shadow(0px 1px 2px rgba(0, 0, 0, 0.3));\n",
              "      fill: #FFFFFF;\n",
              "    }\n",
              "  </style>\n",
              "\n",
              "      <script>\n",
              "        const buttonEl =\n",
              "          document.querySelector('#df-8ad6121f-6108-4230-acc1-974e43eda0dc button.colab-df-convert');\n",
              "        buttonEl.style.display =\n",
              "          google.colab.kernel.accessAllowed ? 'block' : 'none';\n",
              "\n",
              "        async function convertToInteractive(key) {\n",
              "          const element = document.querySelector('#df-8ad6121f-6108-4230-acc1-974e43eda0dc');\n",
              "          const dataTable =\n",
              "            await google.colab.kernel.invokeFunction('convertToInteractive',\n",
              "                                                     [key], {});\n",
              "          if (!dataTable) return;\n",
              "\n",
              "          const docLinkHtml = 'Like what you see? Visit the ' +\n",
              "            '<a target=\"_blank\" href=https://colab.research.google.com/notebooks/data_table.ipynb>data table notebook</a>'\n",
              "            + ' to learn more about interactive tables.';\n",
              "          element.innerHTML = '';\n",
              "          dataTable['output_type'] = 'display_data';\n",
              "          await google.colab.output.renderOutput(dataTable, element);\n",
              "          const docLink = document.createElement('div');\n",
              "          docLink.innerHTML = docLinkHtml;\n",
              "          element.appendChild(docLink);\n",
              "        }\n",
              "      </script>\n",
              "    </div>\n",
              "  </div>\n",
              "  "
            ]
          },
          "metadata": {},
          "execution_count": 41
        }
      ]
    },
    {
      "cell_type": "markdown",
      "source": [
        "# One hot encoding категориальных переменных в конец таблицы\n",
        "\n",
        "**Все полностью автоматизиривано: неважно сколько столбцов в таблице и сколько разных значений фиктивной переменной**"
      ],
      "metadata": {
        "id": "4XRj1JIWWG-M"
      }
    },
    {
      "cell_type": "code",
      "source": [
        "tmp=pd.get_dummies(data.loc[:,\"LotShape\"])\n",
        "unq=data.loc[:,\"LotShape\"].unique()# Создаем список всевозможных значенй переменной чтобы потом назвать столбцы\n",
        "cnt=0\n",
        "\n",
        "for i in tmp.columns:\n",
        "  #display(tmp[i])\n",
        "  print(i)\n",
        "  data.insert(len(data.columns),unq[cnt],tmp[i]) #добавление столбцов в конец таблицы\n",
        "  cnt+=1\n",
        "\n",
        "del data[\"LotShape\"]\n",
        "\n",
        "data.head(5)"
      ],
      "metadata": {
        "id": "nTfUfnPrVXW8",
        "colab": {
          "base_uri": "https://localhost:8080/",
          "height": 260
        },
        "outputId": "f44159d3-f090-4de0-c2ac-9ee587c1728c"
      },
      "execution_count": 42,
      "outputs": [
        {
          "output_type": "stream",
          "name": "stdout",
          "text": [
            "IR1\n",
            "IR2\n",
            "Reg\n"
          ]
        },
        {
          "output_type": "execute_result",
          "data": {
            "text/plain": [
              "   SalePrice  MSSubClass  LotArea  YearBuilt  BedroomAbvGr  Reg  IR1  IR2\n",
              "0     208500          60     8450       2003             3    0    0    1\n",
              "1     181500          20     9600       1976             3    0    0    1\n",
              "2     223500          60    11250       2001             3    1    0    0\n",
              "3     140000          70     9550       1915             3    1    0    0\n",
              "4     250000          60    14260       2000             4    1    0    0"
            ],
            "text/html": [
              "\n",
              "  <div id=\"df-bad0a47c-b0fc-437d-8aad-9dce950f355a\">\n",
              "    <div class=\"colab-df-container\">\n",
              "      <div>\n",
              "<style scoped>\n",
              "    .dataframe tbody tr th:only-of-type {\n",
              "        vertical-align: middle;\n",
              "    }\n",
              "\n",
              "    .dataframe tbody tr th {\n",
              "        vertical-align: top;\n",
              "    }\n",
              "\n",
              "    .dataframe thead th {\n",
              "        text-align: right;\n",
              "    }\n",
              "</style>\n",
              "<table border=\"1\" class=\"dataframe\">\n",
              "  <thead>\n",
              "    <tr style=\"text-align: right;\">\n",
              "      <th></th>\n",
              "      <th>SalePrice</th>\n",
              "      <th>MSSubClass</th>\n",
              "      <th>LotArea</th>\n",
              "      <th>YearBuilt</th>\n",
              "      <th>BedroomAbvGr</th>\n",
              "      <th>Reg</th>\n",
              "      <th>IR1</th>\n",
              "      <th>IR2</th>\n",
              "    </tr>\n",
              "  </thead>\n",
              "  <tbody>\n",
              "    <tr>\n",
              "      <th>0</th>\n",
              "      <td>208500</td>\n",
              "      <td>60</td>\n",
              "      <td>8450</td>\n",
              "      <td>2003</td>\n",
              "      <td>3</td>\n",
              "      <td>0</td>\n",
              "      <td>0</td>\n",
              "      <td>1</td>\n",
              "    </tr>\n",
              "    <tr>\n",
              "      <th>1</th>\n",
              "      <td>181500</td>\n",
              "      <td>20</td>\n",
              "      <td>9600</td>\n",
              "      <td>1976</td>\n",
              "      <td>3</td>\n",
              "      <td>0</td>\n",
              "      <td>0</td>\n",
              "      <td>1</td>\n",
              "    </tr>\n",
              "    <tr>\n",
              "      <th>2</th>\n",
              "      <td>223500</td>\n",
              "      <td>60</td>\n",
              "      <td>11250</td>\n",
              "      <td>2001</td>\n",
              "      <td>3</td>\n",
              "      <td>1</td>\n",
              "      <td>0</td>\n",
              "      <td>0</td>\n",
              "    </tr>\n",
              "    <tr>\n",
              "      <th>3</th>\n",
              "      <td>140000</td>\n",
              "      <td>70</td>\n",
              "      <td>9550</td>\n",
              "      <td>1915</td>\n",
              "      <td>3</td>\n",
              "      <td>1</td>\n",
              "      <td>0</td>\n",
              "      <td>0</td>\n",
              "    </tr>\n",
              "    <tr>\n",
              "      <th>4</th>\n",
              "      <td>250000</td>\n",
              "      <td>60</td>\n",
              "      <td>14260</td>\n",
              "      <td>2000</td>\n",
              "      <td>4</td>\n",
              "      <td>1</td>\n",
              "      <td>0</td>\n",
              "      <td>0</td>\n",
              "    </tr>\n",
              "  </tbody>\n",
              "</table>\n",
              "</div>\n",
              "      <button class=\"colab-df-convert\" onclick=\"convertToInteractive('df-bad0a47c-b0fc-437d-8aad-9dce950f355a')\"\n",
              "              title=\"Convert this dataframe to an interactive table.\"\n",
              "              style=\"display:none;\">\n",
              "        \n",
              "  <svg xmlns=\"http://www.w3.org/2000/svg\" height=\"24px\"viewBox=\"0 0 24 24\"\n",
              "       width=\"24px\">\n",
              "    <path d=\"M0 0h24v24H0V0z\" fill=\"none\"/>\n",
              "    <path d=\"M18.56 5.44l.94 2.06.94-2.06 2.06-.94-2.06-.94-.94-2.06-.94 2.06-2.06.94zm-11 1L8.5 8.5l.94-2.06 2.06-.94-2.06-.94L8.5 2.5l-.94 2.06-2.06.94zm10 10l.94 2.06.94-2.06 2.06-.94-2.06-.94-.94-2.06-.94 2.06-2.06.94z\"/><path d=\"M17.41 7.96l-1.37-1.37c-.4-.4-.92-.59-1.43-.59-.52 0-1.04.2-1.43.59L10.3 9.45l-7.72 7.72c-.78.78-.78 2.05 0 2.83L4 21.41c.39.39.9.59 1.41.59.51 0 1.02-.2 1.41-.59l7.78-7.78 2.81-2.81c.8-.78.8-2.07 0-2.86zM5.41 20L4 18.59l7.72-7.72 1.47 1.35L5.41 20z\"/>\n",
              "  </svg>\n",
              "      </button>\n",
              "      \n",
              "  <style>\n",
              "    .colab-df-container {\n",
              "      display:flex;\n",
              "      flex-wrap:wrap;\n",
              "      gap: 12px;\n",
              "    }\n",
              "\n",
              "    .colab-df-convert {\n",
              "      background-color: #E8F0FE;\n",
              "      border: none;\n",
              "      border-radius: 50%;\n",
              "      cursor: pointer;\n",
              "      display: none;\n",
              "      fill: #1967D2;\n",
              "      height: 32px;\n",
              "      padding: 0 0 0 0;\n",
              "      width: 32px;\n",
              "    }\n",
              "\n",
              "    .colab-df-convert:hover {\n",
              "      background-color: #E2EBFA;\n",
              "      box-shadow: 0px 1px 2px rgba(60, 64, 67, 0.3), 0px 1px 3px 1px rgba(60, 64, 67, 0.15);\n",
              "      fill: #174EA6;\n",
              "    }\n",
              "\n",
              "    [theme=dark] .colab-df-convert {\n",
              "      background-color: #3B4455;\n",
              "      fill: #D2E3FC;\n",
              "    }\n",
              "\n",
              "    [theme=dark] .colab-df-convert:hover {\n",
              "      background-color: #434B5C;\n",
              "      box-shadow: 0px 1px 3px 1px rgba(0, 0, 0, 0.15);\n",
              "      filter: drop-shadow(0px 1px 2px rgba(0, 0, 0, 0.3));\n",
              "      fill: #FFFFFF;\n",
              "    }\n",
              "  </style>\n",
              "\n",
              "      <script>\n",
              "        const buttonEl =\n",
              "          document.querySelector('#df-bad0a47c-b0fc-437d-8aad-9dce950f355a button.colab-df-convert');\n",
              "        buttonEl.style.display =\n",
              "          google.colab.kernel.accessAllowed ? 'block' : 'none';\n",
              "\n",
              "        async function convertToInteractive(key) {\n",
              "          const element = document.querySelector('#df-bad0a47c-b0fc-437d-8aad-9dce950f355a');\n",
              "          const dataTable =\n",
              "            await google.colab.kernel.invokeFunction('convertToInteractive',\n",
              "                                                     [key], {});\n",
              "          if (!dataTable) return;\n",
              "\n",
              "          const docLinkHtml = 'Like what you see? Visit the ' +\n",
              "            '<a target=\"_blank\" href=https://colab.research.google.com/notebooks/data_table.ipynb>data table notebook</a>'\n",
              "            + ' to learn more about interactive tables.';\n",
              "          element.innerHTML = '';\n",
              "          dataTable['output_type'] = 'display_data';\n",
              "          await google.colab.output.renderOutput(dataTable, element);\n",
              "          const docLink = document.createElement('div');\n",
              "          docLink.innerHTML = docLinkHtml;\n",
              "          element.appendChild(docLink);\n",
              "        }\n",
              "      </script>\n",
              "    </div>\n",
              "  </div>\n",
              "  "
            ]
          },
          "metadata": {},
          "execution_count": 42
        }
      ]
    },
    {
      "cell_type": "code",
      "source": [
        "data.info()"
      ],
      "metadata": {
        "id": "xGkJKyIKXL0I",
        "colab": {
          "base_uri": "https://localhost:8080/"
        },
        "outputId": "ef989fca-ee51-429e-bddd-ae4968d76855"
      },
      "execution_count": 43,
      "outputs": [
        {
          "output_type": "stream",
          "name": "stdout",
          "text": [
            "<class 'pandas.core.frame.DataFrame'>\n",
            "RangeIndex: 50 entries, 0 to 49\n",
            "Data columns (total 8 columns):\n",
            " #   Column        Non-Null Count  Dtype\n",
            "---  ------        --------------  -----\n",
            " 0   SalePrice     50 non-null     int64\n",
            " 1   MSSubClass    50 non-null     int64\n",
            " 2   LotArea       50 non-null     int64\n",
            " 3   YearBuilt     50 non-null     int64\n",
            " 4   BedroomAbvGr  50 non-null     int64\n",
            " 5   Reg           50 non-null     uint8\n",
            " 6   IR1           50 non-null     uint8\n",
            " 7   IR2           50 non-null     uint8\n",
            "dtypes: int64(5), uint8(3)\n",
            "memory usage: 2.2 KB\n"
          ]
        }
      ]
    },
    {
      "cell_type": "code",
      "source": [
        "import plotly.express as px\n",
        "\n",
        "Y=data.iloc[:,0]\n",
        "X=data.iloc[:,2]\n",
        "\n",
        "fig = px.scatter(x=X, y=Y)\n",
        "fig.show()"
      ],
      "metadata": {
        "id": "zm1oe5zEWryK",
        "colab": {
          "base_uri": "https://localhost:8080/",
          "height": 542
        },
        "outputId": "6142b9e8-a1ee-41ff-b0cb-abe7ce012978"
      },
      "execution_count": 44,
      "outputs": [
        {
          "output_type": "display_data",
          "data": {
            "text/html": [
              "<html>\n",
              "<head><meta charset=\"utf-8\" /></head>\n",
              "<body>\n",
              "    <div>            <script src=\"https://cdnjs.cloudflare.com/ajax/libs/mathjax/2.7.5/MathJax.js?config=TeX-AMS-MML_SVG\"></script><script type=\"text/javascript\">if (window.MathJax) {MathJax.Hub.Config({SVG: {font: \"STIX-Web\"}});}</script>                <script type=\"text/javascript\">window.PlotlyConfig = {MathJaxConfig: 'local'};</script>\n",
              "        <script src=\"https://cdn.plot.ly/plotly-2.8.3.min.js\"></script>                <div id=\"de88c7ec-128d-46fd-8ab6-fe3bc945c53a\" class=\"plotly-graph-div\" style=\"height:525px; width:100%;\"></div>            <script type=\"text/javascript\">                                    window.PLOTLYENV=window.PLOTLYENV || {};                                    if (document.getElementById(\"de88c7ec-128d-46fd-8ab6-fe3bc945c53a\")) {                    Plotly.newPlot(                        \"de88c7ec-128d-46fd-8ab6-fe3bc945c53a\",                        [{\"hovertemplate\":\"x=%{x}<br>y=%{y}<extra></extra>\",\"legendgroup\":\"\",\"marker\":{\"color\":\"#636efa\",\"symbol\":\"circle\"},\"mode\":\"markers\",\"name\":\"\",\"orientation\":\"v\",\"showlegend\":false,\"x\":[8450,9600,11250,9550,14260,14115,10084,10382,6120,7420,11200,11924,12968,10652,10920,6120,11241,10791,13695,7560,14215,7449,9742,4224,8246,14230,7200,11478,16321,6324,8500,8544,11049,10552,7313,13418,10859,8532,7922,6040,8658,16905,9180,9200,7945,7658,12822,11096,4456,7742],\"xaxis\":\"x\",\"y\":[208500,181500,223500,140000,250000,143000,307000,200000,129900,118000,129500,345000,144000,279500,157000,132000,149000,90000,159000,139000,325300,139400,230000,129900,154000,256300,134800,306000,207500,68500,40000,149350,179900,165500,277500,309000,145000,153000,109000,82000,160000,170000,144000,130250,141000,319900,239686,249700,113000,127000],\"yaxis\":\"y\",\"type\":\"scatter\"}],                        {\"template\":{\"data\":{\"bar\":[{\"error_x\":{\"color\":\"#2a3f5f\"},\"error_y\":{\"color\":\"#2a3f5f\"},\"marker\":{\"line\":{\"color\":\"#E5ECF6\",\"width\":0.5},\"pattern\":{\"fillmode\":\"overlay\",\"size\":10,\"solidity\":0.2}},\"type\":\"bar\"}],\"barpolar\":[{\"marker\":{\"line\":{\"color\":\"#E5ECF6\",\"width\":0.5},\"pattern\":{\"fillmode\":\"overlay\",\"size\":10,\"solidity\":0.2}},\"type\":\"barpolar\"}],\"carpet\":[{\"aaxis\":{\"endlinecolor\":\"#2a3f5f\",\"gridcolor\":\"white\",\"linecolor\":\"white\",\"minorgridcolor\":\"white\",\"startlinecolor\":\"#2a3f5f\"},\"baxis\":{\"endlinecolor\":\"#2a3f5f\",\"gridcolor\":\"white\",\"linecolor\":\"white\",\"minorgridcolor\":\"white\",\"startlinecolor\":\"#2a3f5f\"},\"type\":\"carpet\"}],\"choropleth\":[{\"colorbar\":{\"outlinewidth\":0,\"ticks\":\"\"},\"type\":\"choropleth\"}],\"contour\":[{\"colorbar\":{\"outlinewidth\":0,\"ticks\":\"\"},\"colorscale\":[[0.0,\"#0d0887\"],[0.1111111111111111,\"#46039f\"],[0.2222222222222222,\"#7201a8\"],[0.3333333333333333,\"#9c179e\"],[0.4444444444444444,\"#bd3786\"],[0.5555555555555556,\"#d8576b\"],[0.6666666666666666,\"#ed7953\"],[0.7777777777777778,\"#fb9f3a\"],[0.8888888888888888,\"#fdca26\"],[1.0,\"#f0f921\"]],\"type\":\"contour\"}],\"contourcarpet\":[{\"colorbar\":{\"outlinewidth\":0,\"ticks\":\"\"},\"type\":\"contourcarpet\"}],\"heatmap\":[{\"colorbar\":{\"outlinewidth\":0,\"ticks\":\"\"},\"colorscale\":[[0.0,\"#0d0887\"],[0.1111111111111111,\"#46039f\"],[0.2222222222222222,\"#7201a8\"],[0.3333333333333333,\"#9c179e\"],[0.4444444444444444,\"#bd3786\"],[0.5555555555555556,\"#d8576b\"],[0.6666666666666666,\"#ed7953\"],[0.7777777777777778,\"#fb9f3a\"],[0.8888888888888888,\"#fdca26\"],[1.0,\"#f0f921\"]],\"type\":\"heatmap\"}],\"heatmapgl\":[{\"colorbar\":{\"outlinewidth\":0,\"ticks\":\"\"},\"colorscale\":[[0.0,\"#0d0887\"],[0.1111111111111111,\"#46039f\"],[0.2222222222222222,\"#7201a8\"],[0.3333333333333333,\"#9c179e\"],[0.4444444444444444,\"#bd3786\"],[0.5555555555555556,\"#d8576b\"],[0.6666666666666666,\"#ed7953\"],[0.7777777777777778,\"#fb9f3a\"],[0.8888888888888888,\"#fdca26\"],[1.0,\"#f0f921\"]],\"type\":\"heatmapgl\"}],\"histogram\":[{\"marker\":{\"pattern\":{\"fillmode\":\"overlay\",\"size\":10,\"solidity\":0.2}},\"type\":\"histogram\"}],\"histogram2d\":[{\"colorbar\":{\"outlinewidth\":0,\"ticks\":\"\"},\"colorscale\":[[0.0,\"#0d0887\"],[0.1111111111111111,\"#46039f\"],[0.2222222222222222,\"#7201a8\"],[0.3333333333333333,\"#9c179e\"],[0.4444444444444444,\"#bd3786\"],[0.5555555555555556,\"#d8576b\"],[0.6666666666666666,\"#ed7953\"],[0.7777777777777778,\"#fb9f3a\"],[0.8888888888888888,\"#fdca26\"],[1.0,\"#f0f921\"]],\"type\":\"histogram2d\"}],\"histogram2dcontour\":[{\"colorbar\":{\"outlinewidth\":0,\"ticks\":\"\"},\"colorscale\":[[0.0,\"#0d0887\"],[0.1111111111111111,\"#46039f\"],[0.2222222222222222,\"#7201a8\"],[0.3333333333333333,\"#9c179e\"],[0.4444444444444444,\"#bd3786\"],[0.5555555555555556,\"#d8576b\"],[0.6666666666666666,\"#ed7953\"],[0.7777777777777778,\"#fb9f3a\"],[0.8888888888888888,\"#fdca26\"],[1.0,\"#f0f921\"]],\"type\":\"histogram2dcontour\"}],\"mesh3d\":[{\"colorbar\":{\"outlinewidth\":0,\"ticks\":\"\"},\"type\":\"mesh3d\"}],\"parcoords\":[{\"line\":{\"colorbar\":{\"outlinewidth\":0,\"ticks\":\"\"}},\"type\":\"parcoords\"}],\"pie\":[{\"automargin\":true,\"type\":\"pie\"}],\"scatter\":[{\"marker\":{\"colorbar\":{\"outlinewidth\":0,\"ticks\":\"\"}},\"type\":\"scatter\"}],\"scatter3d\":[{\"line\":{\"colorbar\":{\"outlinewidth\":0,\"ticks\":\"\"}},\"marker\":{\"colorbar\":{\"outlinewidth\":0,\"ticks\":\"\"}},\"type\":\"scatter3d\"}],\"scattercarpet\":[{\"marker\":{\"colorbar\":{\"outlinewidth\":0,\"ticks\":\"\"}},\"type\":\"scattercarpet\"}],\"scattergeo\":[{\"marker\":{\"colorbar\":{\"outlinewidth\":0,\"ticks\":\"\"}},\"type\":\"scattergeo\"}],\"scattergl\":[{\"marker\":{\"colorbar\":{\"outlinewidth\":0,\"ticks\":\"\"}},\"type\":\"scattergl\"}],\"scattermapbox\":[{\"marker\":{\"colorbar\":{\"outlinewidth\":0,\"ticks\":\"\"}},\"type\":\"scattermapbox\"}],\"scatterpolar\":[{\"marker\":{\"colorbar\":{\"outlinewidth\":0,\"ticks\":\"\"}},\"type\":\"scatterpolar\"}],\"scatterpolargl\":[{\"marker\":{\"colorbar\":{\"outlinewidth\":0,\"ticks\":\"\"}},\"type\":\"scatterpolargl\"}],\"scatterternary\":[{\"marker\":{\"colorbar\":{\"outlinewidth\":0,\"ticks\":\"\"}},\"type\":\"scatterternary\"}],\"surface\":[{\"colorbar\":{\"outlinewidth\":0,\"ticks\":\"\"},\"colorscale\":[[0.0,\"#0d0887\"],[0.1111111111111111,\"#46039f\"],[0.2222222222222222,\"#7201a8\"],[0.3333333333333333,\"#9c179e\"],[0.4444444444444444,\"#bd3786\"],[0.5555555555555556,\"#d8576b\"],[0.6666666666666666,\"#ed7953\"],[0.7777777777777778,\"#fb9f3a\"],[0.8888888888888888,\"#fdca26\"],[1.0,\"#f0f921\"]],\"type\":\"surface\"}],\"table\":[{\"cells\":{\"fill\":{\"color\":\"#EBF0F8\"},\"line\":{\"color\":\"white\"}},\"header\":{\"fill\":{\"color\":\"#C8D4E3\"},\"line\":{\"color\":\"white\"}},\"type\":\"table\"}]},\"layout\":{\"annotationdefaults\":{\"arrowcolor\":\"#2a3f5f\",\"arrowhead\":0,\"arrowwidth\":1},\"autotypenumbers\":\"strict\",\"coloraxis\":{\"colorbar\":{\"outlinewidth\":0,\"ticks\":\"\"}},\"colorscale\":{\"diverging\":[[0,\"#8e0152\"],[0.1,\"#c51b7d\"],[0.2,\"#de77ae\"],[0.3,\"#f1b6da\"],[0.4,\"#fde0ef\"],[0.5,\"#f7f7f7\"],[0.6,\"#e6f5d0\"],[0.7,\"#b8e186\"],[0.8,\"#7fbc41\"],[0.9,\"#4d9221\"],[1,\"#276419\"]],\"sequential\":[[0.0,\"#0d0887\"],[0.1111111111111111,\"#46039f\"],[0.2222222222222222,\"#7201a8\"],[0.3333333333333333,\"#9c179e\"],[0.4444444444444444,\"#bd3786\"],[0.5555555555555556,\"#d8576b\"],[0.6666666666666666,\"#ed7953\"],[0.7777777777777778,\"#fb9f3a\"],[0.8888888888888888,\"#fdca26\"],[1.0,\"#f0f921\"]],\"sequentialminus\":[[0.0,\"#0d0887\"],[0.1111111111111111,\"#46039f\"],[0.2222222222222222,\"#7201a8\"],[0.3333333333333333,\"#9c179e\"],[0.4444444444444444,\"#bd3786\"],[0.5555555555555556,\"#d8576b\"],[0.6666666666666666,\"#ed7953\"],[0.7777777777777778,\"#fb9f3a\"],[0.8888888888888888,\"#fdca26\"],[1.0,\"#f0f921\"]]},\"colorway\":[\"#636efa\",\"#EF553B\",\"#00cc96\",\"#ab63fa\",\"#FFA15A\",\"#19d3f3\",\"#FF6692\",\"#B6E880\",\"#FF97FF\",\"#FECB52\"],\"font\":{\"color\":\"#2a3f5f\"},\"geo\":{\"bgcolor\":\"white\",\"lakecolor\":\"white\",\"landcolor\":\"#E5ECF6\",\"showlakes\":true,\"showland\":true,\"subunitcolor\":\"white\"},\"hoverlabel\":{\"align\":\"left\"},\"hovermode\":\"closest\",\"mapbox\":{\"style\":\"light\"},\"paper_bgcolor\":\"white\",\"plot_bgcolor\":\"#E5ECF6\",\"polar\":{\"angularaxis\":{\"gridcolor\":\"white\",\"linecolor\":\"white\",\"ticks\":\"\"},\"bgcolor\":\"#E5ECF6\",\"radialaxis\":{\"gridcolor\":\"white\",\"linecolor\":\"white\",\"ticks\":\"\"}},\"scene\":{\"xaxis\":{\"backgroundcolor\":\"#E5ECF6\",\"gridcolor\":\"white\",\"gridwidth\":2,\"linecolor\":\"white\",\"showbackground\":true,\"ticks\":\"\",\"zerolinecolor\":\"white\"},\"yaxis\":{\"backgroundcolor\":\"#E5ECF6\",\"gridcolor\":\"white\",\"gridwidth\":2,\"linecolor\":\"white\",\"showbackground\":true,\"ticks\":\"\",\"zerolinecolor\":\"white\"},\"zaxis\":{\"backgroundcolor\":\"#E5ECF6\",\"gridcolor\":\"white\",\"gridwidth\":2,\"linecolor\":\"white\",\"showbackground\":true,\"ticks\":\"\",\"zerolinecolor\":\"white\"}},\"shapedefaults\":{\"line\":{\"color\":\"#2a3f5f\"}},\"ternary\":{\"aaxis\":{\"gridcolor\":\"white\",\"linecolor\":\"white\",\"ticks\":\"\"},\"baxis\":{\"gridcolor\":\"white\",\"linecolor\":\"white\",\"ticks\":\"\"},\"bgcolor\":\"#E5ECF6\",\"caxis\":{\"gridcolor\":\"white\",\"linecolor\":\"white\",\"ticks\":\"\"}},\"title\":{\"x\":0.05},\"xaxis\":{\"automargin\":true,\"gridcolor\":\"white\",\"linecolor\":\"white\",\"ticks\":\"\",\"title\":{\"standoff\":15},\"zerolinecolor\":\"white\",\"zerolinewidth\":2},\"yaxis\":{\"automargin\":true,\"gridcolor\":\"white\",\"linecolor\":\"white\",\"ticks\":\"\",\"title\":{\"standoff\":15},\"zerolinecolor\":\"white\",\"zerolinewidth\":2}}},\"xaxis\":{\"anchor\":\"y\",\"domain\":[0.0,1.0],\"title\":{\"text\":\"x\"}},\"yaxis\":{\"anchor\":\"x\",\"domain\":[0.0,1.0],\"title\":{\"text\":\"y\"}},\"legend\":{\"tracegroupgap\":0},\"margin\":{\"t\":60}},                        {\"responsive\": true}                    ).then(function(){\n",
              "                            \n",
              "var gd = document.getElementById('de88c7ec-128d-46fd-8ab6-fe3bc945c53a');\n",
              "var x = new MutationObserver(function (mutations, observer) {{\n",
              "        var display = window.getComputedStyle(gd).display;\n",
              "        if (!display || display === 'none') {{\n",
              "            console.log([gd, 'removed!']);\n",
              "            Plotly.purge(gd);\n",
              "            observer.disconnect();\n",
              "        }}\n",
              "}});\n",
              "\n",
              "// Listen for the removal of the full notebook cells\n",
              "var notebookContainer = gd.closest('#notebook-container');\n",
              "if (notebookContainer) {{\n",
              "    x.observe(notebookContainer, {childList: true});\n",
              "}}\n",
              "\n",
              "// Listen for the clearing of the current output cell\n",
              "var outputEl = gd.closest('.output');\n",
              "if (outputEl) {{\n",
              "    x.observe(outputEl, {childList: true});\n",
              "}}\n",
              "\n",
              "                        })                };                            </script>        </div>\n",
              "</body>\n",
              "</html>"
            ]
          },
          "metadata": {}
        }
      ]
    },
    {
      "cell_type": "markdown",
      "source": [
        "# Корреляционная матрица"
      ],
      "metadata": {
        "id": "jZ6todglfee1"
      }
    },
    {
      "cell_type": "code",
      "source": [
        "rgsrs=data\n",
        "corr_matrix=rgsrs.corr()\n",
        "\n",
        "sns.set(rc={\"figure.figsize\":(15, 6)})#Задаем размер окна\n",
        "cmap = sns.diverging_palette(230, 20, as_cmap=True)#Задаем палитру\n",
        "sns.heatmap(corr_matrix, annot=True, cmap=cmap)"
      ],
      "metadata": {
        "id": "I6Or2-T1fdfP",
        "colab": {
          "base_uri": "https://localhost:8080/",
          "height": 399
        },
        "outputId": "cbdb9486-59e1-40cf-ddf6-c43d2efcb832"
      },
      "execution_count": 8,
      "outputs": [
        {
          "output_type": "execute_result",
          "data": {
            "text/plain": [
              "<matplotlib.axes._subplots.AxesSubplot at 0x7f0a9a65ad90>"
            ]
          },
          "metadata": {},
          "execution_count": 8
        },
        {
          "output_type": "display_data",
          "data": {
            "text/plain": [
              "<Figure size 1080x432 with 2 Axes>"
            ],
            "image/png": "[encoded data removed]"
          },
          "metadata": {}
        }
      ]
    },
    {
      "cell_type": "markdown",
      "source": [
        "Хоть здесь присутствует сильная корреляция между Reg и IR2, однако она между двумя столбцами одной и той же категориалной переменной. Поэтому её не считаем.\n",
        "\n",
        "также заметим, что оцениваемое значение имеет сильный коэф. коррел. с YearBuilt\n",
        "\n",
        "**В целом мультколлинерности между факторами нет**\n",
        "\n",
        "На всякий случай проверим другим способом - определитель матрицы $det(X^T*X)$"
      ],
      "metadata": {
        "id": "bU2axr_9loN7"
      }
    },
    {
      "cell_type": "code",
      "source": [
        "tmp=np.array(data.iloc[:,1:])\n",
        "tmp=sm.add_constant(tmp)\n",
        "\n",
        "XTX_wc=np.matmul(tmp.transpose(),tmp)\n",
        "np.linalg.det(XTX_wc)"
      ],
      "metadata": {
        "colab": {
          "base_uri": "https://localhost:8080/"
        },
        "id": "KbJRt8s2878K",
        "outputId": "5739507c-715a-4883-98c8-d29874055cdb"
      },
      "execution_count": 70,
      "outputs": [
        {
          "output_type": "execute_result",
          "data": {
            "text/plain": [
              "82942471.42703168"
            ]
          },
          "metadata": {},
          "execution_count": 70
        }
      ]
    },
    {
      "cell_type": "code",
      "source": [
        "a=np.float128(XTX_wc)\n",
        "\n",
        "from scipy import linalg\n",
        "\n",
        "\n",
        "linalg.inv(a)"
      ],
      "metadata": {
        "colab": {
          "base_uri": "https://localhost:8080/"
        },
        "id": "7IjenQs6PK37",
        "outputId": "7a7a1dea-f9b6-4a6b-9e32-e83be7433048"
      },
      "execution_count": 122,
      "outputs": [
        {
          "output_type": "execute_result",
          "data": {
            "text/plain": [
              "array([[ 1.09843893e+14,  1.98364258e-03,  2.88486481e-04,\n",
              "        -5.83648682e-02,  4.99454091e-01, -1.09843893e+14,\n",
              "        -1.09843893e+14, -1.09843893e+14],\n",
              "       [ 1.16759646e-03,  1.48183007e-05,  8.10516520e-08,\n",
              "        -1.61911989e-06,  1.90188074e-04,  1.19092988e-05,\n",
              "         2.81296780e-04, -7.46099664e-06],\n",
              "       [ 2.87469255e-04,  8.10516520e-08,  4.25032753e-09,\n",
              "        -1.91275994e-07,  4.71167563e-07,  3.87052210e-05,\n",
              "         3.01326295e-05,  4.52938670e-05],\n",
              "       [-5.50436763e-02, -1.61911989e-06, -1.91275994e-07,\n",
              "         3.70754463e-05, -2.92608942e-04, -1.52439024e-02,\n",
              "        -1.46002820e-02, -1.54205651e-02],\n",
              "       [ 4.10450698e-01,  1.90188074e-04,  4.71167563e-07,\n",
              "        -2.92608942e-04,  4.42603990e-02,  3.65853659e-02,\n",
              "         6.52133861e-02,  3.09254041e-02],\n",
              "       [-1.09843893e+14, -8.10623169e-04,  4.00543213e-05,\n",
              "        -1.19247437e-02, -5.46875000e-02,  1.09843893e+14,\n",
              "         1.09843893e+14,  1.09843893e+14],\n",
              "       [-1.09843893e+14, -5.62667847e-04,  3.19480896e-05,\n",
              "        -1.12762451e-02, -3.12500000e-02,  1.09843893e+14,\n",
              "         1.09843893e+14,  1.09843893e+14],\n",
              "       [-1.09843893e+14, -8.41140747e-04,  4.48226929e-05,\n",
              "        -1.20849609e-02, -6.25000000e-02,  1.09843893e+14,\n",
              "         1.09843893e+14,  1.09843893e+14]])"
            ]
          },
          "metadata": {},
          "execution_count": 122
        }
      ]
    },
    {
      "cell_type": "markdown",
      "source": [
        "Совсем не около нуля"
      ],
      "metadata": {
        "id": "A4iMaQwF_Qji"
      }
    },
    {
      "cell_type": "markdown",
      "source": [
        "#Первая модель со всеми факторами"
      ],
      "metadata": {
        "id": "JChq8RI_liXl"
      }
    },
    {
      "cell_type": "code",
      "source": [
        "from sklearn.linear_model import LinearRegression\n",
        "\n",
        "model = LinearRegression()\n",
        "\n",
        "X1=data.iloc[:,1:]\n",
        "model.fit(X1, Y)\n",
        "\n",
        "a=model.intercept_\n",
        "\n",
        "\n",
        "b=model.coef_\n",
        "\n",
        "model.score(X1,Y)"
      ],
      "metadata": {
        "id": "PsydDD_0XfPF",
        "colab": {
          "base_uri": "https://localhost:8080/"
        },
        "outputId": "dcf3f66e-be10-4de9-b971-40a2048858fd"
      },
      "execution_count": 46,
      "outputs": [
        {
          "output_type": "execute_result",
          "data": {
            "text/plain": [
              "0.6569862297537896"
            ]
          },
          "metadata": {},
          "execution_count": 46
        }
      ]
    },
    {
      "cell_type": "code",
      "source": [
        "a,b"
      ],
      "metadata": {
        "id": "TpeEIYfH6PAa",
        "colab": {
          "base_uri": "https://localhost:8080/"
        },
        "outputId": "bd421500-2e54-4b3f-c819-a26b36037841"
      },
      "execution_count": 11,
      "outputs": [
        {
          "output_type": "execute_result",
          "data": {
            "text/plain": [
              "(-3345854.513282853,\n",
              " array([ 3.13624477e+02,  3.52789751e+00,  1.73332078e+03,  2.04785142e+04,\n",
              "         7.11375339e+03, -3.90014016e+03, -3.21361322e+03]))"
            ]
          },
          "metadata": {},
          "execution_count": 11
        }
      ]
    },
    {
      "cell_type": "code",
      "source": [
        "\n",
        "#print(X1)\n",
        "x4_m=sm.add_constant(X1)\n",
        "\n",
        "model=sm.OLS(Y, x4_m).fit()\n",
        "\n",
        "model.summary()"
      ],
      "metadata": {
        "id": "IEQO9D94478x",
        "colab": {
          "base_uri": "https://localhost:8080/",
          "height": 686
        },
        "outputId": "6a07f6b0-64dd-4c79-aab0-7f25c5d996f0"
      },
      "execution_count": 47,
      "outputs": [
        {
          "output_type": "stream",
          "name": "stderr",
          "text": [
            "/usr/local/lib/python3.8/dist-packages/statsmodels/tsa/tsatools.py:142: FutureWarning:\n",
            "\n",
            "In a future version of pandas all arguments of concat except for the argument 'objs' will be keyword-only\n",
            "\n"
          ]
        },
        {
          "output_type": "execute_result",
          "data": {
            "text/plain": [
              "<class 'statsmodels.iolib.summary.Summary'>\n",
              "\"\"\"\n",
              "                            OLS Regression Results                            \n",
              "==============================================================================\n",
              "Dep. Variable:              SalePrice   R-squared:                       0.657\n",
              "Model:                            OLS   Adj. R-squared:                  0.609\n",
              "Method:                 Least Squares   F-statistic:                     13.73\n",
              "Date:                Sat, 03 Dec 2022   Prob (F-statistic):           1.22e-08\n",
              "Time:                        13:21:17   Log-Likelihood:                -603.34\n",
              "No. Observations:                  50   AIC:                             1221.\n",
              "Df Residuals:                      43   BIC:                             1234.\n",
              "Df Model:                           6                                         \n",
              "Covariance Type:            nonrobust                                         \n",
              "================================================================================\n",
              "                   coef    std err          t      P>|t|      [0.025      0.975]\n",
              "--------------------------------------------------------------------------------\n",
              "const        -2.509e+06   3.93e+05     -6.378      0.000    -3.3e+06   -1.72e+06\n",
              "MSSubClass     313.6245    174.768      1.795      0.080     -38.829     666.078\n",
              "LotArea          3.5279      2.960      1.192      0.240      -2.441       9.497\n",
              "YearBuilt     1733.3208    276.443      6.270      0.000    1175.820    2290.822\n",
              "BedroomAbvGr  2.048e+04   9551.473      2.144      0.038    1216.134    3.97e+04\n",
              "Reg          -8.293e+05   1.33e+05     -6.231      0.000    -1.1e+06   -5.61e+05\n",
              "IR1          -8.404e+05   1.32e+05     -6.360      0.000   -1.11e+06   -5.74e+05\n",
              "IR2          -8.397e+05   1.34e+05     -6.254      0.000   -1.11e+06   -5.69e+05\n",
              "==============================================================================\n",
              "Omnibus:                        1.578   Durbin-Watson:                   1.733\n",
              "Prob(Omnibus):                  0.454   Jarque-Bera (JB):                1.116\n",
              "Skew:                           0.017   Prob(JB):                        0.572\n",
              "Kurtosis:                       2.269   Cond. No.                     1.97e+20\n",
              "==============================================================================\n",
              "\n",
              "Notes:\n",
              "[1] Standard Errors assume that the covariance matrix of the errors is correctly specified.\n",
              "[2] The smallest eigenvalue is 1.42e-31. This might indicate that there are\n",
              "strong multicollinearity problems or that the design matrix is singular.\n",
              "\"\"\""
            ],
            "text/html": [
              "<table class=\"simpletable\">\n",
              "<caption>OLS Regression Results</caption>\n",
              "<tr>\n",
              "  <th>Dep. Variable:</th>        <td>SalePrice</td>    <th>  R-squared:         </th> <td>   0.657</td>\n",
              "</tr>\n",
              "<tr>\n",
              "  <th>Model:</th>                   <td>OLS</td>       <th>  Adj. R-squared:    </th> <td>   0.609</td>\n",
              "</tr>\n",
              "<tr>\n",
              "  <th>Method:</th>             <td>Least Squares</td>  <th>  F-statistic:       </th> <td>   13.73</td>\n",
              "</tr>\n",
              "<tr>\n",
              "  <th>Date:</th>             <td>Sat, 03 Dec 2022</td> <th>  Prob (F-statistic):</th> <td>1.22e-08</td>\n",
              "</tr>\n",
              "<tr>\n",
              "  <th>Time:</th>                 <td>13:21:17</td>     <th>  Log-Likelihood:    </th> <td> -603.34</td>\n",
              "</tr>\n",
              "<tr>\n",
              "  <th>No. Observations:</th>      <td>    50</td>      <th>  AIC:               </th> <td>   1221.</td>\n",
              "</tr>\n",
              "<tr>\n",
              "  <th>Df Residuals:</th>          <td>    43</td>      <th>  BIC:               </th> <td>   1234.</td>\n",
              "</tr>\n",
              "<tr>\n",
              "  <th>Df Model:</th>              <td>     6</td>      <th>                     </th>     <td> </td>   \n",
              "</tr>\n",
              "<tr>\n",
              "  <th>Covariance Type:</th>      <td>nonrobust</td>    <th>                     </th>     <td> </td>   \n",
              "</tr>\n",
              "</table>\n",
              "<table class=\"simpletable\">\n",
              "<tr>\n",
              "        <td></td>          <th>coef</th>     <th>std err</th>      <th>t</th>      <th>P>|t|</th>  <th>[0.025</th>    <th>0.975]</th>  \n",
              "</tr>\n",
              "<tr>\n",
              "  <th>const</th>        <td>-2.509e+06</td> <td> 3.93e+05</td> <td>   -6.378</td> <td> 0.000</td> <td> -3.3e+06</td> <td>-1.72e+06</td>\n",
              "</tr>\n",
              "<tr>\n",
              "  <th>MSSubClass</th>   <td>  313.6245</td> <td>  174.768</td> <td>    1.795</td> <td> 0.080</td> <td>  -38.829</td> <td>  666.078</td>\n",
              "</tr>\n",
              "<tr>\n",
              "  <th>LotArea</th>      <td>    3.5279</td> <td>    2.960</td> <td>    1.192</td> <td> 0.240</td> <td>   -2.441</td> <td>    9.497</td>\n",
              "</tr>\n",
              "<tr>\n",
              "  <th>YearBuilt</th>    <td> 1733.3208</td> <td>  276.443</td> <td>    6.270</td> <td> 0.000</td> <td> 1175.820</td> <td> 2290.822</td>\n",
              "</tr>\n",
              "<tr>\n",
              "  <th>BedroomAbvGr</th> <td> 2.048e+04</td> <td> 9551.473</td> <td>    2.144</td> <td> 0.038</td> <td> 1216.134</td> <td> 3.97e+04</td>\n",
              "</tr>\n",
              "<tr>\n",
              "  <th>Reg</th>          <td>-8.293e+05</td> <td> 1.33e+05</td> <td>   -6.231</td> <td> 0.000</td> <td> -1.1e+06</td> <td>-5.61e+05</td>\n",
              "</tr>\n",
              "<tr>\n",
              "  <th>IR1</th>          <td>-8.404e+05</td> <td> 1.32e+05</td> <td>   -6.360</td> <td> 0.000</td> <td>-1.11e+06</td> <td>-5.74e+05</td>\n",
              "</tr>\n",
              "<tr>\n",
              "  <th>IR2</th>          <td>-8.397e+05</td> <td> 1.34e+05</td> <td>   -6.254</td> <td> 0.000</td> <td>-1.11e+06</td> <td>-5.69e+05</td>\n",
              "</tr>\n",
              "</table>\n",
              "<table class=\"simpletable\">\n",
              "<tr>\n",
              "  <th>Omnibus:</th>       <td> 1.578</td> <th>  Durbin-Watson:     </th> <td>   1.733</td>\n",
              "</tr>\n",
              "<tr>\n",
              "  <th>Prob(Omnibus):</th> <td> 0.454</td> <th>  Jarque-Bera (JB):  </th> <td>   1.116</td>\n",
              "</tr>\n",
              "<tr>\n",
              "  <th>Skew:</th>          <td> 0.017</td> <th>  Prob(JB):          </th> <td>   0.572</td>\n",
              "</tr>\n",
              "<tr>\n",
              "  <th>Kurtosis:</th>      <td> 2.269</td> <th>  Cond. No.          </th> <td>1.97e+20</td>\n",
              "</tr>\n",
              "</table><br/><br/>Notes:<br/>[1] Standard Errors assume that the covariance matrix of the errors is correctly specified.<br/>[2] The smallest eigenvalue is 1.42e-31. This might indicate that there are<br/>strong multicollinearity problems or that the design matrix is singular."
            ]
          },
          "metadata": {},
          "execution_count": 47
        }
      ]
    },
    {
      "cell_type": "code",
      "source": [
        "np.array(model.params)"
      ],
      "metadata": {
        "id": "7TBKl-t76ZBh",
        "colab": {
          "base_uri": "https://localhost:8080/"
        },
        "outputId": "d363db5d-d8d3-4bcf-b266-302d276faccf"
      },
      "execution_count": 35,
      "outputs": [
        {
          "output_type": "execute_result",
          "data": {
            "text/plain": [
              "array([-2.50939088e+06,  3.13624477e+02,  3.52789751e+00,  1.73332078e+03,\n",
              "        2.04785142e+04, -8.29349875e+05, -8.40363768e+05, -8.39677242e+05])"
            ]
          },
          "metadata": {},
          "execution_count": 35
        }
      ]
    },
    {
      "cell_type": "markdown",
      "source": [
        "Видим что почти все коэффиценты почти нулевые кроме свободного и второго. Что пошло не так?/\n",
        "\n",
        "Заметим что как раз второй признак гораздо больше численно чем другие.\n",
        "\n",
        "Поэтому сделаем все данные чтобы было примерно одного порядка"
      ],
      "metadata": {
        "id": "BzBRdVRaeJY2"
      }
    },
    {
      "cell_type": "markdown",
      "source": [
        "#Вторая модель (первая, но со станд. данными)"
      ],
      "metadata": {
        "id": "q8j83E6glt8q"
      }
    },
    {
      "cell_type": "markdown",
      "source": [
        "В данной модели попробуем преобразовать данные: стандартизировать регресоры"
      ],
      "metadata": {
        "id": "mZn0sveypnAM"
      }
    },
    {
      "cell_type": "markdown",
      "source": [
        "BoxPlot данных смотрим что не так"
      ],
      "metadata": {
        "id": "lPfXke-Ot5O5"
      }
    },
    {
      "cell_type": "code",
      "source": [
        "#X1.boxplot()\n",
        "\n",
        "sns.boxplot(x=\"variable\", y=\"value\", data=pd.melt(X1))"
      ],
      "metadata": {
        "id": "k5jyuX5Aq1lR",
        "colab": {
          "base_uri": "https://localhost:8080/",
          "height": 412
        },
        "outputId": "9894f055-d65c-451b-bbbb-340e121ada0b"
      },
      "execution_count": 48,
      "outputs": [
        {
          "output_type": "execute_result",
          "data": {
            "text/plain": [
              "<matplotlib.axes._subplots.AxesSubplot at 0x7f0a92e09d00>"
            ]
          },
          "metadata": {},
          "execution_count": 48
        },
        {
          "output_type": "display_data",
          "data": {
            "text/plain": [
              "<Figure size 1080x432 with 1 Axes>"
            ],
            "image/png": "[encoded data removed]"
          },
          "metadata": {}
        }
      ]
    },
    {
      "cell_type": "markdown",
      "source": [
        "Видим что второй сильно перевешивает Посмотрим как выглядит картина без второго и третьего признака."
      ],
      "metadata": {
        "id": "EyLUdWDLt-m4"
      }
    },
    {
      "cell_type": "code",
      "source": [
        "X1_exceptLA=X1.loc[:, ~X1.columns.isin(['const','LotArea','YearBuilt'])]\n",
        "\n",
        "sns.boxplot(x=\"variable\", y=\"value\", data=pd.melt(X1_exceptLA))"
      ],
      "metadata": {
        "id": "yxRxWMYFuFkk",
        "colab": {
          "base_uri": "https://localhost:8080/",
          "height": 412
        },
        "outputId": "558250c1-b7b7-4c46-d635-fa4228470a73"
      },
      "execution_count": 49,
      "outputs": [
        {
          "output_type": "execute_result",
          "data": {
            "text/plain": [
              "<matplotlib.axes._subplots.AxesSubplot at 0x7f0a92e56730>"
            ]
          },
          "metadata": {},
          "execution_count": 49
        },
        {
          "output_type": "display_data",
          "data": {
            "text/plain": [
              "<Figure size 1080x432 with 1 Axes>"
            ],
            "image/png": "[encoded data removed]"
          },
          "metadata": {}
        }
      ]
    },
    {
      "cell_type": "markdown",
      "source": [
        "Выглядит все равно очень плохо. Преобразуем данные к одному виду, а именно с помощью стандартизации"
      ],
      "metadata": {
        "id": "zguOFbWMwUDB"
      }
    },
    {
      "cell_type": "code",
      "source": [
        "scaler = StandardScaler().fit(X1)\n",
        "X_std = scaler.transform(X1)\n",
        "\n",
        "dX_std=pd.DataFrame(X_std)\n",
        "dX_std=dX_std.set_axis(X1.columns,axis=1)\n",
        "\n",
        "data.head(3)"
      ],
      "metadata": {
        "id": "29FVQagblsWZ",
        "colab": {
          "base_uri": "https://localhost:8080/",
          "height": 143
        },
        "outputId": "4d2d1661-7ec1-4d14-d66e-d18b40b8ae01"
      },
      "execution_count": 51,
      "outputs": [
        {
          "output_type": "execute_result",
          "data": {
            "text/plain": [
              "   SalePrice  MSSubClass  LotArea  YearBuilt  BedroomAbvGr  Reg  IR1  IR2\n",
              "0     208500          60     8450       2003             3    0    0    1\n",
              "1     181500          20     9600       1976             3    0    0    1\n",
              "2     223500          60    11250       2001             3    1    0    0"
            ],
            "text/html": [
              "\n",
              "  <div id=\"df-ed26f7b6-c722-40f6-ab37-f4c5eebed005\">\n",
              "    <div class=\"colab-df-container\">\n",
              "      <div>\n",
              "<style scoped>\n",
              "    .dataframe tbody tr th:only-of-type {\n",
              "        vertical-align: middle;\n",
              "    }\n",
              "\n",
              "    .dataframe tbody tr th {\n",
              "        vertical-align: top;\n",
              "    }\n",
              "\n",
              "    .dataframe thead th {\n",
              "        text-align: right;\n",
              "    }\n",
              "</style>\n",
              "<table border=\"1\" class=\"dataframe\">\n",
              "  <thead>\n",
              "    <tr style=\"text-align: right;\">\n",
              "      <th></th>\n",
              "      <th>SalePrice</th>\n",
              "      <th>MSSubClass</th>\n",
              "      <th>LotArea</th>\n",
              "      <th>YearBuilt</th>\n",
              "      <th>BedroomAbvGr</th>\n",
              "      <th>Reg</th>\n",
              "      <th>IR1</th>\n",
              "      <th>IR2</th>\n",
              "    </tr>\n",
              "  </thead>\n",
              "  <tbody>\n",
              "    <tr>\n",
              "      <th>0</th>\n",
              "      <td>208500</td>\n",
              "      <td>60</td>\n",
              "      <td>8450</td>\n",
              "      <td>2003</td>\n",
              "      <td>3</td>\n",
              "      <td>0</td>\n",
              "      <td>0</td>\n",
              "      <td>1</td>\n",
              "    </tr>\n",
              "    <tr>\n",
              "      <th>1</th>\n",
              "      <td>181500</td>\n",
              "      <td>20</td>\n",
              "      <td>9600</td>\n",
              "      <td>1976</td>\n",
              "      <td>3</td>\n",
              "      <td>0</td>\n",
              "      <td>0</td>\n",
              "      <td>1</td>\n",
              "    </tr>\n",
              "    <tr>\n",
              "      <th>2</th>\n",
              "      <td>223500</td>\n",
              "      <td>60</td>\n",
              "      <td>11250</td>\n",
              "      <td>2001</td>\n",
              "      <td>3</td>\n",
              "      <td>1</td>\n",
              "      <td>0</td>\n",
              "      <td>0</td>\n",
              "    </tr>\n",
              "  </tbody>\n",
              "</table>\n",
              "</div>\n",
              "      <button class=\"colab-df-convert\" onclick=\"convertToInteractive('df-ed26f7b6-c722-40f6-ab37-f4c5eebed005')\"\n",
              "              title=\"Convert this dataframe to an interactive table.\"\n",
              "              style=\"display:none;\">\n",
              "        \n",
              "  <svg xmlns=\"http://www.w3.org/2000/svg\" height=\"24px\"viewBox=\"0 0 24 24\"\n",
              "       width=\"24px\">\n",
              "    <path d=\"M0 0h24v24H0V0z\" fill=\"none\"/>\n",
              "    <path d=\"M18.56 5.44l.94 2.06.94-2.06 2.06-.94-2.06-.94-.94-2.06-.94 2.06-2.06.94zm-11 1L8.5 8.5l.94-2.06 2.06-.94-2.06-.94L8.5 2.5l-.94 2.06-2.06.94zm10 10l.94 2.06.94-2.06 2.06-.94-2.06-.94-.94-2.06-.94 2.06-2.06.94z\"/><path d=\"M17.41 7.96l-1.37-1.37c-.4-.4-.92-.59-1.43-.59-.52 0-1.04.2-1.43.59L10.3 9.45l-7.72 7.72c-.78.78-.78 2.05 0 2.83L4 21.41c.39.39.9.59 1.41.59.51 0 1.02-.2 1.41-.59l7.78-7.78 2.81-2.81c.8-.78.8-2.07 0-2.86zM5.41 20L4 18.59l7.72-7.72 1.47 1.35L5.41 20z\"/>\n",
              "  </svg>\n",
              "      </button>\n",
              "      \n",
              "  <style>\n",
              "    .colab-df-container {\n",
              "      display:flex;\n",
              "      flex-wrap:wrap;\n",
              "      gap: 12px;\n",
              "    }\n",
              "\n",
              "    .colab-df-convert {\n",
              "      background-color: #E8F0FE;\n",
              "      border: none;\n",
              "      border-radius: 50%;\n",
              "      cursor: pointer;\n",
              "      display: none;\n",
              "      fill: #1967D2;\n",
              "      height: 32px;\n",
              "      padding: 0 0 0 0;\n",
              "      width: 32px;\n",
              "    }\n",
              "\n",
              "    .colab-df-convert:hover {\n",
              "      background-color: #E2EBFA;\n",
              "      box-shadow: 0px 1px 2px rgba(60, 64, 67, 0.3), 0px 1px 3px 1px rgba(60, 64, 67, 0.15);\n",
              "      fill: #174EA6;\n",
              "    }\n",
              "\n",
              "    [theme=dark] .colab-df-convert {\n",
              "      background-color: #3B4455;\n",
              "      fill: #D2E3FC;\n",
              "    }\n",
              "\n",
              "    [theme=dark] .colab-df-convert:hover {\n",
              "      background-color: #434B5C;\n",
              "      box-shadow: 0px 1px 3px 1px rgba(0, 0, 0, 0.15);\n",
              "      filter: drop-shadow(0px 1px 2px rgba(0, 0, 0, 0.3));\n",
              "      fill: #FFFFFF;\n",
              "    }\n",
              "  </style>\n",
              "\n",
              "      <script>\n",
              "        const buttonEl =\n",
              "          document.querySelector('#df-ed26f7b6-c722-40f6-ab37-f4c5eebed005 button.colab-df-convert');\n",
              "        buttonEl.style.display =\n",
              "          google.colab.kernel.accessAllowed ? 'block' : 'none';\n",
              "\n",
              "        async function convertToInteractive(key) {\n",
              "          const element = document.querySelector('#df-ed26f7b6-c722-40f6-ab37-f4c5eebed005');\n",
              "          const dataTable =\n",
              "            await google.colab.kernel.invokeFunction('convertToInteractive',\n",
              "                                                     [key], {});\n",
              "          if (!dataTable) return;\n",
              "\n",
              "          const docLinkHtml = 'Like what you see? Visit the ' +\n",
              "            '<a target=\"_blank\" href=https://colab.research.google.com/notebooks/data_table.ipynb>data table notebook</a>'\n",
              "            + ' to learn more about interactive tables.';\n",
              "          element.innerHTML = '';\n",
              "          dataTable['output_type'] = 'display_data';\n",
              "          await google.colab.output.renderOutput(dataTable, element);\n",
              "          const docLink = document.createElement('div');\n",
              "          docLink.innerHTML = docLinkHtml;\n",
              "          element.appendChild(docLink);\n",
              "        }\n",
              "      </script>\n",
              "    </div>\n",
              "  </div>\n",
              "  "
            ]
          },
          "metadata": {},
          "execution_count": 51
        }
      ]
    },
    {
      "cell_type": "markdown",
      "source": [
        "Получаем"
      ],
      "metadata": {
        "id": "l20ftSLaw2ml"
      }
    },
    {
      "cell_type": "code",
      "source": [
        "sns.boxplot(x=\"variable\", y=\"value\", data=pd.melt(dX_std))"
      ],
      "metadata": {
        "id": "SLvB3jwDw4qm",
        "colab": {
          "base_uri": "https://localhost:8080/",
          "height": 412
        },
        "outputId": "fbedb14d-2103-4683-ac7c-bdbe4f2a4c48"
      },
      "execution_count": 52,
      "outputs": [
        {
          "output_type": "execute_result",
          "data": {
            "text/plain": [
              "<matplotlib.axes._subplots.AxesSubplot at 0x7f0a92b02190>"
            ]
          },
          "metadata": {},
          "execution_count": 52
        },
        {
          "output_type": "display_data",
          "data": {
            "text/plain": [
              "<Figure size 1080x432 with 1 Axes>"
            ],
            "image/png": "[encoded data removed]"
          },
          "metadata": {}
        }
      ]
    },
    {
      "cell_type": "markdown",
      "source": [
        "Корреляционная матрица будет такая же Поэтому сразу перейдем к модели"
      ],
      "metadata": {
        "id": "A6eGFwU3yYL0"
      }
    },
    {
      "cell_type": "code",
      "source": [
        "x_4m = sm.add_constant(X_std)\n",
        "\n",
        "model2=sm.OLS(Y, x_4m).fit()\n",
        "\n",
        "\n",
        "model2.summary()"
      ],
      "metadata": {
        "id": "o6wJXHza7I58",
        "colab": {
          "base_uri": "https://localhost:8080/",
          "height": 615
        },
        "outputId": "de000f82-a4e7-498e-9749-c0ac036f49cc"
      },
      "execution_count": 53,
      "outputs": [
        {
          "output_type": "execute_result",
          "data": {
            "text/plain": [
              "<class 'statsmodels.iolib.summary.Summary'>\n",
              "\"\"\"\n",
              "                            OLS Regression Results                            \n",
              "==============================================================================\n",
              "Dep. Variable:              SalePrice   R-squared:                       0.657\n",
              "Model:                            OLS   Adj. R-squared:                  0.609\n",
              "Method:                 Least Squares   F-statistic:                     13.73\n",
              "Date:                Sat, 03 Dec 2022   Prob (F-statistic):           1.22e-08\n",
              "Time:                        13:22:39   Log-Likelihood:                -603.34\n",
              "No. Observations:                  50   AIC:                             1221.\n",
              "Df Residuals:                      43   BIC:                             1234.\n",
              "Df Model:                           6                                         \n",
              "Covariance Type:            nonrobust                                         \n",
              "==============================================================================\n",
              "                 coef    std err          t      P>|t|      [0.025      0.975]\n",
              "------------------------------------------------------------------------------\n",
              "const       1.796e+05   6420.630     27.978      0.000    1.67e+05    1.93e+05\n",
              "x1          1.287e+04   7174.540      1.795      0.080   -1593.990    2.73e+04\n",
              "x2          1.008e+04   8457.746      1.192      0.240   -6975.830    2.71e+04\n",
              "x3          4.827e+04   7697.737      6.270      0.000    3.27e+04    6.38e+04\n",
              "x4          1.491e+04   6953.577      2.144      0.038     885.359    2.89e+04\n",
              "x5          2618.4513   3574.270      0.733      0.468   -4589.751    9826.654\n",
              "x6          -778.2301   6380.165     -0.122      0.903   -1.36e+04    1.21e+04\n",
              "x7         -2364.9288   3616.363     -0.654      0.517   -9658.020    4928.163\n",
              "==============================================================================\n",
              "Omnibus:                        1.578   Durbin-Watson:                   1.733\n",
              "Prob(Omnibus):                  0.454   Jarque-Bera (JB):                1.116\n",
              "Skew:                           0.017   Prob(JB):                        0.572\n",
              "Kurtosis:                       2.269   Cond. No.                     8.76e+15\n",
              "==============================================================================\n",
              "\n",
              "Notes:\n",
              "[1] Standard Errors assume that the covariance matrix of the errors is correctly specified.\n",
              "[2] The smallest eigenvalue is 1.53e-30. This might indicate that there are\n",
              "strong multicollinearity problems or that the design matrix is singular.\n",
              "\"\"\""
            ],
            "text/html": [
              "<table class=\"simpletable\">\n",
              "<caption>OLS Regression Results</caption>\n",
              "<tr>\n",
              "  <th>Dep. Variable:</th>        <td>SalePrice</td>    <th>  R-squared:         </th> <td>   0.657</td>\n",
              "</tr>\n",
              "<tr>\n",
              "  <th>Model:</th>                   <td>OLS</td>       <th>  Adj. R-squared:    </th> <td>   0.609</td>\n",
              "</tr>\n",
              "<tr>\n",
              "  <th>Method:</th>             <td>Least Squares</td>  <th>  F-statistic:       </th> <td>   13.73</td>\n",
              "</tr>\n",
              "<tr>\n",
              "  <th>Date:</th>             <td>Sat, 03 Dec 2022</td> <th>  Prob (F-statistic):</th> <td>1.22e-08</td>\n",
              "</tr>\n",
              "<tr>\n",
              "  <th>Time:</th>                 <td>13:22:39</td>     <th>  Log-Likelihood:    </th> <td> -603.34</td>\n",
              "</tr>\n",
              "<tr>\n",
              "  <th>No. Observations:</th>      <td>    50</td>      <th>  AIC:               </th> <td>   1221.</td>\n",
              "</tr>\n",
              "<tr>\n",
              "  <th>Df Residuals:</th>          <td>    43</td>      <th>  BIC:               </th> <td>   1234.</td>\n",
              "</tr>\n",
              "<tr>\n",
              "  <th>Df Model:</th>              <td>     6</td>      <th>                     </th>     <td> </td>   \n",
              "</tr>\n",
              "<tr>\n",
              "  <th>Covariance Type:</th>      <td>nonrobust</td>    <th>                     </th>     <td> </td>   \n",
              "</tr>\n",
              "</table>\n",
              "<table class=\"simpletable\">\n",
              "<tr>\n",
              "    <td></td>       <th>coef</th>     <th>std err</th>      <th>t</th>      <th>P>|t|</th>  <th>[0.025</th>    <th>0.975]</th>  \n",
              "</tr>\n",
              "<tr>\n",
              "  <th>const</th> <td> 1.796e+05</td> <td> 6420.630</td> <td>   27.978</td> <td> 0.000</td> <td> 1.67e+05</td> <td> 1.93e+05</td>\n",
              "</tr>\n",
              "<tr>\n",
              "  <th>x1</th>    <td> 1.287e+04</td> <td> 7174.540</td> <td>    1.795</td> <td> 0.080</td> <td>-1593.990</td> <td> 2.73e+04</td>\n",
              "</tr>\n",
              "<tr>\n",
              "  <th>x2</th>    <td> 1.008e+04</td> <td> 8457.746</td> <td>    1.192</td> <td> 0.240</td> <td>-6975.830</td> <td> 2.71e+04</td>\n",
              "</tr>\n",
              "<tr>\n",
              "  <th>x3</th>    <td> 4.827e+04</td> <td> 7697.737</td> <td>    6.270</td> <td> 0.000</td> <td> 3.27e+04</td> <td> 6.38e+04</td>\n",
              "</tr>\n",
              "<tr>\n",
              "  <th>x4</th>    <td> 1.491e+04</td> <td> 6953.577</td> <td>    2.144</td> <td> 0.038</td> <td>  885.359</td> <td> 2.89e+04</td>\n",
              "</tr>\n",
              "<tr>\n",
              "  <th>x5</th>    <td> 2618.4513</td> <td> 3574.270</td> <td>    0.733</td> <td> 0.468</td> <td>-4589.751</td> <td> 9826.654</td>\n",
              "</tr>\n",
              "<tr>\n",
              "  <th>x6</th>    <td> -778.2301</td> <td> 6380.165</td> <td>   -0.122</td> <td> 0.903</td> <td>-1.36e+04</td> <td> 1.21e+04</td>\n",
              "</tr>\n",
              "<tr>\n",
              "  <th>x7</th>    <td>-2364.9288</td> <td> 3616.363</td> <td>   -0.654</td> <td> 0.517</td> <td>-9658.020</td> <td> 4928.163</td>\n",
              "</tr>\n",
              "</table>\n",
              "<table class=\"simpletable\">\n",
              "<tr>\n",
              "  <th>Omnibus:</th>       <td> 1.578</td> <th>  Durbin-Watson:     </th> <td>   1.733</td>\n",
              "</tr>\n",
              "<tr>\n",
              "  <th>Prob(Omnibus):</th> <td> 0.454</td> <th>  Jarque-Bera (JB):  </th> <td>   1.116</td>\n",
              "</tr>\n",
              "<tr>\n",
              "  <th>Skew:</th>          <td> 0.017</td> <th>  Prob(JB):          </th> <td>   0.572</td>\n",
              "</tr>\n",
              "<tr>\n",
              "  <th>Kurtosis:</th>      <td> 2.269</td> <th>  Cond. No.          </th> <td>8.76e+15</td>\n",
              "</tr>\n",
              "</table><br/><br/>Notes:<br/>[1] Standard Errors assume that the covariance matrix of the errors is correctly specified.<br/>[2] The smallest eigenvalue is 1.53e-30. This might indicate that there are<br/>strong multicollinearity problems or that the design matrix is singular."
            ]
          },
          "metadata": {},
          "execution_count": 53
        }
      ]
    },
    {
      "cell_type": "markdown",
      "source": [
        "В любом случае коэффицент детерминации оказался тот же. Нормализация не дала каких-либо улучшений. Надо было изначально посмотреть на $R'~^2$, а не на коэффиценты модели."
      ],
      "metadata": {
        "id": "A37cp-D9ihL1"
      }
    },
    {
      "cell_type": "markdown",
      "source": [
        "# Третья модель (усложнение модели)"
      ],
      "metadata": {
        "id": "hxx_n8qVlWCw"
      }
    },
    {
      "cell_type": "markdown",
      "source": [
        "Попробуем усложнить модель добавив еще одну зависимость для фиктивных переменных вида $y=b_0+b_1*x+b_2*d_1+b_3*d_1*x,$\\\n",
        "где $x$ - численная переменная, $d_1$ - фиктивная переменная в формате one-hot encodding, $b_i$ - коэффиценты модели"
      ],
      "metadata": {
        "id": "TEZAORQ8jYvS"
      }
    },
    {
      "cell_type": "code",
      "source": [
        "dX_std.head(5)"
      ],
      "metadata": {
        "id": "nQ8o9vzYzDCN",
        "colab": {
          "base_uri": "https://localhost:8080/",
          "height": 206
        },
        "outputId": "5c02a198-423a-4f7e-e7c4-69ce0ab00b4a"
      },
      "execution_count": 191,
      "outputs": [
        {
          "output_type": "execute_result",
          "data": {
            "text/plain": [
              "   MSSubClass   LotArea  YearBuilt  BedroomAbvGr       Reg       IR1       IR2\n",
              "0    0.304493 -0.515296   1.078086      0.412082 -0.750000 -0.142857  0.782881\n",
              "1   -0.669885 -0.112841   0.108455      0.412082 -0.750000 -0.142857  0.782881\n",
              "2    0.304493  0.464594   1.006262      0.412082  1.333333 -0.142857 -1.277333\n",
              "3    0.548088 -0.130339  -2.082193      0.412082  1.333333 -0.142857 -1.277333\n",
              "4    0.304493  1.517975   0.970349      1.785687  1.333333 -0.142857 -1.277333"
            ],
            "text/html": [
              "\n",
              "  <div id=\"df-634bfe15-fe98-4196-83a5-e967c60f99ee\">\n",
              "    <div class=\"colab-df-container\">\n",
              "      <div>\n",
              "<style scoped>\n",
              "    .dataframe tbody tr th:only-of-type {\n",
              "        vertical-align: middle;\n",
              "    }\n",
              "\n",
              "    .dataframe tbody tr th {\n",
              "        vertical-align: top;\n",
              "    }\n",
              "\n",
              "    .dataframe thead th {\n",
              "        text-align: right;\n",
              "    }\n",
              "</style>\n",
              "<table border=\"1\" class=\"dataframe\">\n",
              "  <thead>\n",
              "    <tr style=\"text-align: right;\">\n",
              "      <th></th>\n",
              "      <th>MSSubClass</th>\n",
              "      <th>LotArea</th>\n",
              "      <th>YearBuilt</th>\n",
              "      <th>BedroomAbvGr</th>\n",
              "      <th>Reg</th>\n",
              "      <th>IR1</th>\n",
              "      <th>IR2</th>\n",
              "    </tr>\n",
              "  </thead>\n",
              "  <tbody>\n",
              "    <tr>\n",
              "      <th>0</th>\n",
              "      <td>0.304493</td>\n",
              "      <td>-0.515296</td>\n",
              "      <td>1.078086</td>\n",
              "      <td>0.412082</td>\n",
              "      <td>-0.750000</td>\n",
              "      <td>-0.142857</td>\n",
              "      <td>0.782881</td>\n",
              "    </tr>\n",
              "    <tr>\n",
              "      <th>1</th>\n",
              "      <td>-0.669885</td>\n",
              "      <td>-0.112841</td>\n",
              "      <td>0.108455</td>\n",
              "      <td>0.412082</td>\n",
              "      <td>-0.750000</td>\n",
              "      <td>-0.142857</td>\n",
              "      <td>0.782881</td>\n",
              "    </tr>\n",
              "    <tr>\n",
              "      <th>2</th>\n",
              "      <td>0.304493</td>\n",
              "      <td>0.464594</td>\n",
              "      <td>1.006262</td>\n",
              "      <td>0.412082</td>\n",
              "      <td>1.333333</td>\n",
              "      <td>-0.142857</td>\n",
              "      <td>-1.277333</td>\n",
              "    </tr>\n",
              "    <tr>\n",
              "      <th>3</th>\n",
              "      <td>0.548088</td>\n",
              "      <td>-0.130339</td>\n",
              "      <td>-2.082193</td>\n",
              "      <td>0.412082</td>\n",
              "      <td>1.333333</td>\n",
              "      <td>-0.142857</td>\n",
              "      <td>-1.277333</td>\n",
              "    </tr>\n",
              "    <tr>\n",
              "      <th>4</th>\n",
              "      <td>0.304493</td>\n",
              "      <td>1.517975</td>\n",
              "      <td>0.970349</td>\n",
              "      <td>1.785687</td>\n",
              "      <td>1.333333</td>\n",
              "      <td>-0.142857</td>\n",
              "      <td>-1.277333</td>\n",
              "    </tr>\n",
              "  </tbody>\n",
              "</table>\n",
              "</div>\n",
              "      <button class=\"colab-df-convert\" onclick=\"convertToInteractive('df-634bfe15-fe98-4196-83a5-e967c60f99ee')\"\n",
              "              title=\"Convert this dataframe to an interactive table.\"\n",
              "              style=\"display:none;\">\n",
              "        \n",
              "  <svg xmlns=\"http://www.w3.org/2000/svg\" height=\"24px\"viewBox=\"0 0 24 24\"\n",
              "       width=\"24px\">\n",
              "    <path d=\"M0 0h24v24H0V0z\" fill=\"none\"/>\n",
              "    <path d=\"M18.56 5.44l.94 2.06.94-2.06 2.06-.94-2.06-.94-.94-2.06-.94 2.06-2.06.94zm-11 1L8.5 8.5l.94-2.06 2.06-.94-2.06-.94L8.5 2.5l-.94 2.06-2.06.94zm10 10l.94 2.06.94-2.06 2.06-.94-2.06-.94-.94-2.06-.94 2.06-2.06.94z\"/><path d=\"M17.41 7.96l-1.37-1.37c-.4-.4-.92-.59-1.43-.59-.52 0-1.04.2-1.43.59L10.3 9.45l-7.72 7.72c-.78.78-.78 2.05 0 2.83L4 21.41c.39.39.9.59 1.41.59.51 0 1.02-.2 1.41-.59l7.78-7.78 2.81-2.81c.8-.78.8-2.07 0-2.86zM5.41 20L4 18.59l7.72-7.72 1.47 1.35L5.41 20z\"/>\n",
              "  </svg>\n",
              "      </button>\n",
              "      \n",
              "  <style>\n",
              "    .colab-df-container {\n",
              "      display:flex;\n",
              "      flex-wrap:wrap;\n",
              "      gap: 12px;\n",
              "    }\n",
              "\n",
              "    .colab-df-convert {\n",
              "      background-color: #E8F0FE;\n",
              "      border: none;\n",
              "      border-radius: 50%;\n",
              "      cursor: pointer;\n",
              "      display: none;\n",
              "      fill: #1967D2;\n",
              "      height: 32px;\n",
              "      padding: 0 0 0 0;\n",
              "      width: 32px;\n",
              "    }\n",
              "\n",
              "    .colab-df-convert:hover {\n",
              "      background-color: #E2EBFA;\n",
              "      box-shadow: 0px 1px 2px rgba(60, 64, 67, 0.3), 0px 1px 3px 1px rgba(60, 64, 67, 0.15);\n",
              "      fill: #174EA6;\n",
              "    }\n",
              "\n",
              "    [theme=dark] .colab-df-convert {\n",
              "      background-color: #3B4455;\n",
              "      fill: #D2E3FC;\n",
              "    }\n",
              "\n",
              "    [theme=dark] .colab-df-convert:hover {\n",
              "      background-color: #434B5C;\n",
              "      box-shadow: 0px 1px 3px 1px rgba(0, 0, 0, 0.15);\n",
              "      filter: drop-shadow(0px 1px 2px rgba(0, 0, 0, 0.3));\n",
              "      fill: #FFFFFF;\n",
              "    }\n",
              "  </style>\n",
              "\n",
              "      <script>\n",
              "        const buttonEl =\n",
              "          document.querySelector('#df-634bfe15-fe98-4196-83a5-e967c60f99ee button.colab-df-convert');\n",
              "        buttonEl.style.display =\n",
              "          google.colab.kernel.accessAllowed ? 'block' : 'none';\n",
              "\n",
              "        async function convertToInteractive(key) {\n",
              "          const element = document.querySelector('#df-634bfe15-fe98-4196-83a5-e967c60f99ee');\n",
              "          const dataTable =\n",
              "            await google.colab.kernel.invokeFunction('convertToInteractive',\n",
              "                                                     [key], {});\n",
              "          if (!dataTable) return;\n",
              "\n",
              "          const docLinkHtml = 'Like what you see? Visit the ' +\n",
              "            '<a target=\"_blank\" href=https://colab.research.google.com/notebooks/data_table.ipynb>data table notebook</a>'\n",
              "            + ' to learn more about interactive tables.';\n",
              "          element.innerHTML = '';\n",
              "          dataTable['output_type'] = 'display_data';\n",
              "          await google.colab.output.renderOutput(dataTable, element);\n",
              "          const docLink = document.createElement('div');\n",
              "          docLink.innerHTML = docLinkHtml;\n",
              "          element.appendChild(docLink);\n",
              "        }\n",
              "      </script>\n",
              "    </div>\n",
              "  </div>\n",
              "  "
            ]
          },
          "metadata": {},
          "execution_count": 191
        }
      ]
    },
    {
      "cell_type": "code",
      "source": [
        "dX_std[\"Reg*LotArea\"]=dX_std['LotArea']*dX_std['Reg']\n",
        "dX_std[\"IR1*LotArea\"]=dX_std['LotArea']*dX_std['IR1']\n",
        "dX_std[\"IR2*LotArea\"]=dX_std['LotArea']*dX_std['IR2']\n",
        "\n",
        "dX_std.head(5)"
      ],
      "metadata": {
        "colab": {
          "base_uri": "https://localhost:8080/",
          "height": 206
        },
        "id": "MLS4Ug9Innq-",
        "outputId": "0af4f60b-b9c6-43b1-f0cf-243ea1a320e8"
      },
      "execution_count": 196,
      "outputs": [
        {
          "output_type": "execute_result",
          "data": {
            "text/plain": [
              "   MSSubClass   LotArea  YearBuilt  BedroomAbvGr       Reg       IR1  \\\n",
              "0    0.304493 -0.515296   1.078086      0.412082 -0.750000 -0.142857   \n",
              "1   -0.669885 -0.112841   0.108455      0.412082 -0.750000 -0.142857   \n",
              "2    0.304493  0.464594   1.006262      0.412082  1.333333 -0.142857   \n",
              "3    0.548088 -0.130339  -2.082193      0.412082  1.333333 -0.142857   \n",
              "4    0.304493  1.517975   0.970349      1.785687  1.333333 -0.142857   \n",
              "\n",
              "        IR2  Reg*LotArea  IR1*LotArea  IR2*LotArea  \n",
              "0  0.782881     0.386472     0.073614    -0.403416  \n",
              "1  0.782881     0.084631     0.016120    -0.088341  \n",
              "2 -1.277333     0.619458    -0.066371    -0.593441  \n",
              "3 -1.277333    -0.173786     0.018620     0.166487  \n",
              "4 -1.277333     2.023967    -0.216854    -1.938960  "
            ],
            "text/html": [
              "\n",
              "  <div id=\"df-2c19d8ea-1fb3-4116-a9e1-398300c74554\">\n",
              "    <div class=\"colab-df-container\">\n",
              "      <div>\n",
              "<style scoped>\n",
              "    .dataframe tbody tr th:only-of-type {\n",
              "        vertical-align: middle;\n",
              "    }\n",
              "\n",
              "    .dataframe tbody tr th {\n",
              "        vertical-align: top;\n",
              "    }\n",
              "\n",
              "    .dataframe thead th {\n",
              "        text-align: right;\n",
              "    }\n",
              "</style>\n",
              "<table border=\"1\" class=\"dataframe\">\n",
              "  <thead>\n",
              "    <tr style=\"text-align: right;\">\n",
              "      <th></th>\n",
              "      <th>MSSubClass</th>\n",
              "      <th>LotArea</th>\n",
              "      <th>YearBuilt</th>\n",
              "      <th>BedroomAbvGr</th>\n",
              "      <th>Reg</th>\n",
              "      <th>IR1</th>\n",
              "      <th>IR2</th>\n",
              "      <th>Reg*LotArea</th>\n",
              "      <th>IR1*LotArea</th>\n",
              "      <th>IR2*LotArea</th>\n",
              "    </tr>\n",
              "  </thead>\n",
              "  <tbody>\n",
              "    <tr>\n",
              "      <th>0</th>\n",
              "      <td>0.304493</td>\n",
              "      <td>-0.515296</td>\n",
              "      <td>1.078086</td>\n",
              "      <td>0.412082</td>\n",
              "      <td>-0.750000</td>\n",
              "      <td>-0.142857</td>\n",
              "      <td>0.782881</td>\n",
              "      <td>0.386472</td>\n",
              "      <td>0.073614</td>\n",
              "      <td>-0.403416</td>\n",
              "    </tr>\n",
              "    <tr>\n",
              "      <th>1</th>\n",
              "      <td>-0.669885</td>\n",
              "      <td>-0.112841</td>\n",
              "      <td>0.108455</td>\n",
              "      <td>0.412082</td>\n",
              "      <td>-0.750000</td>\n",
              "      <td>-0.142857</td>\n",
              "      <td>0.782881</td>\n",
              "      <td>0.084631</td>\n",
              "      <td>0.016120</td>\n",
              "      <td>-0.088341</td>\n",
              "    </tr>\n",
              "    <tr>\n",
              "      <th>2</th>\n",
              "      <td>0.304493</td>\n",
              "      <td>0.464594</td>\n",
              "      <td>1.006262</td>\n",
              "      <td>0.412082</td>\n",
              "      <td>1.333333</td>\n",
              "      <td>-0.142857</td>\n",
              "      <td>-1.277333</td>\n",
              "      <td>0.619458</td>\n",
              "      <td>-0.066371</td>\n",
              "      <td>-0.593441</td>\n",
              "    </tr>\n",
              "    <tr>\n",
              "      <th>3</th>\n",
              "      <td>0.548088</td>\n",
              "      <td>-0.130339</td>\n",
              "      <td>-2.082193</td>\n",
              "      <td>0.412082</td>\n",
              "      <td>1.333333</td>\n",
              "      <td>-0.142857</td>\n",
              "      <td>-1.277333</td>\n",
              "      <td>-0.173786</td>\n",
              "      <td>0.018620</td>\n",
              "      <td>0.166487</td>\n",
              "    </tr>\n",
              "    <tr>\n",
              "      <th>4</th>\n",
              "      <td>0.304493</td>\n",
              "      <td>1.517975</td>\n",
              "      <td>0.970349</td>\n",
              "      <td>1.785687</td>\n",
              "      <td>1.333333</td>\n",
              "      <td>-0.142857</td>\n",
              "      <td>-1.277333</td>\n",
              "      <td>2.023967</td>\n",
              "      <td>-0.216854</td>\n",
              "      <td>-1.938960</td>\n",
              "    </tr>\n",
              "  </tbody>\n",
              "</table>\n",
              "</div>\n",
              "      <button class=\"colab-df-convert\" onclick=\"convertToInteractive('df-2c19d8ea-1fb3-4116-a9e1-398300c74554')\"\n",
              "              title=\"Convert this dataframe to an interactive table.\"\n",
              "              style=\"display:none;\">\n",
              "        \n",
              "  <svg xmlns=\"http://www.w3.org/2000/svg\" height=\"24px\"viewBox=\"0 0 24 24\"\n",
              "       width=\"24px\">\n",
              "    <path d=\"M0 0h24v24H0V0z\" fill=\"none\"/>\n",
              "    <path d=\"M18.56 5.44l.94 2.06.94-2.06 2.06-.94-2.06-.94-.94-2.06-.94 2.06-2.06.94zm-11 1L8.5 8.5l.94-2.06 2.06-.94-2.06-.94L8.5 2.5l-.94 2.06-2.06.94zm10 10l.94 2.06.94-2.06 2.06-.94-2.06-.94-.94-2.06-.94 2.06-2.06.94z\"/><path d=\"M17.41 7.96l-1.37-1.37c-.4-.4-.92-.59-1.43-.59-.52 0-1.04.2-1.43.59L10.3 9.45l-7.72 7.72c-.78.78-.78 2.05 0 2.83L4 21.41c.39.39.9.59 1.41.59.51 0 1.02-.2 1.41-.59l7.78-7.78 2.81-2.81c.8-.78.8-2.07 0-2.86zM5.41 20L4 18.59l7.72-7.72 1.47 1.35L5.41 20z\"/>\n",
              "  </svg>\n",
              "      </button>\n",
              "      \n",
              "  <style>\n",
              "    .colab-df-container {\n",
              "      display:flex;\n",
              "      flex-wrap:wrap;\n",
              "      gap: 12px;\n",
              "    }\n",
              "\n",
              "    .colab-df-convert {\n",
              "      background-color: #E8F0FE;\n",
              "      border: none;\n",
              "      border-radius: 50%;\n",
              "      cursor: pointer;\n",
              "      display: none;\n",
              "      fill: #1967D2;\n",
              "      height: 32px;\n",
              "      padding: 0 0 0 0;\n",
              "      width: 32px;\n",
              "    }\n",
              "\n",
              "    .colab-df-convert:hover {\n",
              "      background-color: #E2EBFA;\n",
              "      box-shadow: 0px 1px 2px rgba(60, 64, 67, 0.3), 0px 1px 3px 1px rgba(60, 64, 67, 0.15);\n",
              "      fill: #174EA6;\n",
              "    }\n",
              "\n",
              "    [theme=dark] .colab-df-convert {\n",
              "      background-color: #3B4455;\n",
              "      fill: #D2E3FC;\n",
              "    }\n",
              "\n",
              "    [theme=dark] .colab-df-convert:hover {\n",
              "      background-color: #434B5C;\n",
              "      box-shadow: 0px 1px 3px 1px rgba(0, 0, 0, 0.15);\n",
              "      filter: drop-shadow(0px 1px 2px rgba(0, 0, 0, 0.3));\n",
              "      fill: #FFFFFF;\n",
              "    }\n",
              "  </style>\n",
              "\n",
              "      <script>\n",
              "        const buttonEl =\n",
              "          document.querySelector('#df-2c19d8ea-1fb3-4116-a9e1-398300c74554 button.colab-df-convert');\n",
              "        buttonEl.style.display =\n",
              "          google.colab.kernel.accessAllowed ? 'block' : 'none';\n",
              "\n",
              "        async function convertToInteractive(key) {\n",
              "          const element = document.querySelector('#df-2c19d8ea-1fb3-4116-a9e1-398300c74554');\n",
              "          const dataTable =\n",
              "            await google.colab.kernel.invokeFunction('convertToInteractive',\n",
              "                                                     [key], {});\n",
              "          if (!dataTable) return;\n",
              "\n",
              "          const docLinkHtml = 'Like what you see? Visit the ' +\n",
              "            '<a target=\"_blank\" href=https://colab.research.google.com/notebooks/data_table.ipynb>data table notebook</a>'\n",
              "            + ' to learn more about interactive tables.';\n",
              "          element.innerHTML = '';\n",
              "          dataTable['output_type'] = 'display_data';\n",
              "          await google.colab.output.renderOutput(dataTable, element);\n",
              "          const docLink = document.createElement('div');\n",
              "          docLink.innerHTML = docLinkHtml;\n",
              "          element.appendChild(docLink);\n",
              "        }\n",
              "      </script>\n",
              "    </div>\n",
              "  </div>\n",
              "  "
            ]
          },
          "metadata": {},
          "execution_count": 196
        }
      ]
    },
    {
      "cell_type": "code",
      "source": [
        "dX_std\n",
        "\n",
        "dX_std_4m = sm.add_constant(dX_std)\n",
        "\n",
        "model3=sm.OLS(Y, dX_std_4m).fit()\n",
        "\n",
        "\n",
        "model3.summary()"
      ],
      "metadata": {
        "id": "i1U6GcMqn-FG",
        "colab": {
          "base_uri": "https://localhost:8080/",
          "height": 750
        },
        "outputId": "16a92b50-02f2-4567-e04d-9286397d3e41"
      },
      "execution_count": 193,
      "outputs": [
        {
          "output_type": "stream",
          "name": "stderr",
          "text": [
            "/usr/local/lib/python3.8/dist-packages/statsmodels/tsa/tsatools.py:142: FutureWarning:\n",
            "\n",
            "In a future version of pandas all arguments of concat except for the argument 'objs' will be keyword-only\n",
            "\n"
          ]
        },
        {
          "output_type": "execute_result",
          "data": {
            "text/plain": [
              "<class 'statsmodels.iolib.summary.Summary'>\n",
              "\"\"\"\n",
              "                            OLS Regression Results                            \n",
              "==============================================================================\n",
              "Dep. Variable:              SalePrice   R-squared:                       0.664\n",
              "Model:                            OLS   Adj. R-squared:                  0.608\n",
              "Method:                 Least Squares   F-statistic:                     11.85\n",
              "Date:                Sat, 03 Dec 2022   Prob (F-statistic):           3.21e-08\n",
              "Time:                        15:42:12   Log-Likelihood:                -602.83\n",
              "No. Observations:                  50   AIC:                             1222.\n",
              "Df Residuals:                      42   BIC:                             1237.\n",
              "Df Model:                           7                                         \n",
              "Covariance Type:            nonrobust                                         \n",
              "================================================================================\n",
              "                   coef    std err          t      P>|t|      [0.025      0.975]\n",
              "--------------------------------------------------------------------------------\n",
              "const         1.755e+05   6840.979     25.656      0.000    1.62e+05    1.89e+05\n",
              "MSSubClass    1.059e+04   7593.808      1.394      0.171   -4737.281    2.59e+04\n",
              "LotArea       1.181e+04   8320.011      1.419      0.163   -4980.286    2.86e+04\n",
              "YearBuilt     4.844e+04   7711.860      6.281      0.000    3.29e+04     6.4e+04\n",
              "BedroomAbvGr  1.467e+04   6969.244      2.104      0.041     600.655    2.87e+04\n",
              "Reg           3641.2438   3624.010      1.005      0.321   -3672.304     1.1e+04\n",
              "IR1          -1.292e+04   3055.944     -4.228      0.000   -1.91e+04   -6754.779\n",
              "IR2            126.2339   3561.690      0.035      0.972   -7061.548    7314.016\n",
              "Reg*LotArea   1957.9607   3912.067      0.500      0.619   -5936.910    9852.831\n",
              "IR1*LotArea   1.126e+04   3305.242      3.408      0.001    4594.193    1.79e+04\n",
              "IR2*LotArea  -5185.2350   3798.136     -1.365      0.179   -1.29e+04    2479.714\n",
              "==============================================================================\n",
              "Omnibus:                        1.781   Durbin-Watson:                   1.862\n",
              "Prob(Omnibus):                  0.410   Jarque-Bera (JB):                1.191\n",
              "Skew:                           0.021   Prob(JB):                        0.551\n",
              "Kurtosis:                       2.245   Cond. No.                     1.56e+16\n",
              "==============================================================================\n",
              "\n",
              "Notes:\n",
              "[1] Standard Errors assume that the covariance matrix of the errors is correctly specified.\n",
              "[2] The smallest eigenvalue is 5.01e-31. This might indicate that there are\n",
              "strong multicollinearity problems or that the design matrix is singular.\n",
              "\"\"\""
            ],
            "text/html": [
              "<table class=\"simpletable\">\n",
              "<caption>OLS Regression Results</caption>\n",
              "<tr>\n",
              "  <th>Dep. Variable:</th>        <td>SalePrice</td>    <th>  R-squared:         </th> <td>   0.664</td>\n",
              "</tr>\n",
              "<tr>\n",
              "  <th>Model:</th>                   <td>OLS</td>       <th>  Adj. R-squared:    </th> <td>   0.608</td>\n",
              "</tr>\n",
              "<tr>\n",
              "  <th>Method:</th>             <td>Least Squares</td>  <th>  F-statistic:       </th> <td>   11.85</td>\n",
              "</tr>\n",
              "<tr>\n",
              "  <th>Date:</th>             <td>Sat, 03 Dec 2022</td> <th>  Prob (F-statistic):</th> <td>3.21e-08</td>\n",
              "</tr>\n",
              "<tr>\n",
              "  <th>Time:</th>                 <td>15:42:12</td>     <th>  Log-Likelihood:    </th> <td> -602.83</td>\n",
              "</tr>\n",
              "<tr>\n",
              "  <th>No. Observations:</th>      <td>    50</td>      <th>  AIC:               </th> <td>   1222.</td>\n",
              "</tr>\n",
              "<tr>\n",
              "  <th>Df Residuals:</th>          <td>    42</td>      <th>  BIC:               </th> <td>   1237.</td>\n",
              "</tr>\n",
              "<tr>\n",
              "  <th>Df Model:</th>              <td>     7</td>      <th>                     </th>     <td> </td>   \n",
              "</tr>\n",
              "<tr>\n",
              "  <th>Covariance Type:</th>      <td>nonrobust</td>    <th>                     </th>     <td> </td>   \n",
              "</tr>\n",
              "</table>\n",
              "<table class=\"simpletable\">\n",
              "<tr>\n",
              "        <td></td>          <th>coef</th>     <th>std err</th>      <th>t</th>      <th>P>|t|</th>  <th>[0.025</th>    <th>0.975]</th>  \n",
              "</tr>\n",
              "<tr>\n",
              "  <th>const</th>        <td> 1.755e+05</td> <td> 6840.979</td> <td>   25.656</td> <td> 0.000</td> <td> 1.62e+05</td> <td> 1.89e+05</td>\n",
              "</tr>\n",
              "<tr>\n",
              "  <th>MSSubClass</th>   <td> 1.059e+04</td> <td> 7593.808</td> <td>    1.394</td> <td> 0.171</td> <td>-4737.281</td> <td> 2.59e+04</td>\n",
              "</tr>\n",
              "<tr>\n",
              "  <th>LotArea</th>      <td> 1.181e+04</td> <td> 8320.011</td> <td>    1.419</td> <td> 0.163</td> <td>-4980.286</td> <td> 2.86e+04</td>\n",
              "</tr>\n",
              "<tr>\n",
              "  <th>YearBuilt</th>    <td> 4.844e+04</td> <td> 7711.860</td> <td>    6.281</td> <td> 0.000</td> <td> 3.29e+04</td> <td>  6.4e+04</td>\n",
              "</tr>\n",
              "<tr>\n",
              "  <th>BedroomAbvGr</th> <td> 1.467e+04</td> <td> 6969.244</td> <td>    2.104</td> <td> 0.041</td> <td>  600.655</td> <td> 2.87e+04</td>\n",
              "</tr>\n",
              "<tr>\n",
              "  <th>Reg</th>          <td> 3641.2438</td> <td> 3624.010</td> <td>    1.005</td> <td> 0.321</td> <td>-3672.304</td> <td>  1.1e+04</td>\n",
              "</tr>\n",
              "<tr>\n",
              "  <th>IR1</th>          <td>-1.292e+04</td> <td> 3055.944</td> <td>   -4.228</td> <td> 0.000</td> <td>-1.91e+04</td> <td>-6754.779</td>\n",
              "</tr>\n",
              "<tr>\n",
              "  <th>IR2</th>          <td>  126.2339</td> <td> 3561.690</td> <td>    0.035</td> <td> 0.972</td> <td>-7061.548</td> <td> 7314.016</td>\n",
              "</tr>\n",
              "<tr>\n",
              "  <th>Reg*LotArea</th>  <td> 1957.9607</td> <td> 3912.067</td> <td>    0.500</td> <td> 0.619</td> <td>-5936.910</td> <td> 9852.831</td>\n",
              "</tr>\n",
              "<tr>\n",
              "  <th>IR1*LotArea</th>  <td> 1.126e+04</td> <td> 3305.242</td> <td>    3.408</td> <td> 0.001</td> <td> 4594.193</td> <td> 1.79e+04</td>\n",
              "</tr>\n",
              "<tr>\n",
              "  <th>IR2*LotArea</th>  <td>-5185.2350</td> <td> 3798.136</td> <td>   -1.365</td> <td> 0.179</td> <td>-1.29e+04</td> <td> 2479.714</td>\n",
              "</tr>\n",
              "</table>\n",
              "<table class=\"simpletable\">\n",
              "<tr>\n",
              "  <th>Omnibus:</th>       <td> 1.781</td> <th>  Durbin-Watson:     </th> <td>   1.862</td>\n",
              "</tr>\n",
              "<tr>\n",
              "  <th>Prob(Omnibus):</th> <td> 0.410</td> <th>  Jarque-Bera (JB):  </th> <td>   1.191</td>\n",
              "</tr>\n",
              "<tr>\n",
              "  <th>Skew:</th>          <td> 0.021</td> <th>  Prob(JB):          </th> <td>   0.551</td>\n",
              "</tr>\n",
              "<tr>\n",
              "  <th>Kurtosis:</th>      <td> 2.245</td> <th>  Cond. No.          </th> <td>1.56e+16</td>\n",
              "</tr>\n",
              "</table><br/><br/>Notes:<br/>[1] Standard Errors assume that the covariance matrix of the errors is correctly specified.<br/>[2] The smallest eigenvalue is 5.01e-31. This might indicate that there are<br/>strong multicollinearity problems or that the design matrix is singular."
            ]
          },
          "metadata": {},
          "execution_count": 193
        }
      ]
    },
    {
      "cell_type": "code",
      "source": [
        "print(\"Было: \",model2.rsquared_adj)\n",
        "print(\"Стало: \",model3.rsquared_adj)"
      ],
      "metadata": {
        "colab": {
          "base_uri": "https://localhost:8080/"
        },
        "id": "GXonxnBVwyAL",
        "outputId": "ccc923de-9fa2-4ef2-8f90-f618c5607740"
      },
      "execution_count": 22,
      "outputs": [
        {
          "output_type": "stream",
          "name": "stdout",
          "text": [
            "Было:  0.6091238432078067\n",
            "Стало:  0.6079128983005084\n"
          ]
        }
      ]
    },
    {
      "cell_type": "markdown",
      "source": [
        "Смещенный коэффицент детерминации незначтельно уменшился $=>$ нет смысла в усложнеии модели такм образом"
      ],
      "metadata": {
        "id": "wv8d12ZZv0jw"
      }
    },
    {
      "cell_type": "code",
      "source": [
        "model2.params"
      ],
      "metadata": {
        "colab": {
          "base_uri": "https://localhost:8080/"
        },
        "id": "ALaJhMqpodjW",
        "outputId": "b9bee25c-bcfb-418a-a1ff-14185667a2f7"
      },
      "execution_count": 23,
      "outputs": [
        {
          "output_type": "execute_result",
          "data": {
            "text/plain": [
              "const    179637.720000\n",
              "x1        12874.848240\n",
              "x2        10080.839832\n",
              "x3        48265.424222\n",
              "x4        14908.583339\n",
              "x5         2618.451288\n",
              "x6         -778.230138\n",
              "x7        -2364.928838\n",
              "dtype: float64"
            ]
          },
          "metadata": {},
          "execution_count": 23
        }
      ]
    },
    {
      "cell_type": "markdown",
      "source": [
        "# Проверка значимости коэффицентов и регрессии"
      ],
      "metadata": {
        "id": "sf4R8Nye4tJK"
      }
    },
    {
      "cell_type": "code",
      "source": [
        "model2.summary()"
      ],
      "metadata": {
        "colab": {
          "base_uri": "https://localhost:8080/",
          "height": 615
        },
        "id": "QFtablUDwrgO",
        "outputId": "d2b1865c-8d22-4a0e-c8af-cd1569be8abe"
      },
      "execution_count": 54,
      "outputs": [
        {
          "output_type": "execute_result",
          "data": {
            "text/plain": [
              "<class 'statsmodels.iolib.summary.Summary'>\n",
              "\"\"\"\n",
              "                            OLS Regression Results                            \n",
              "==============================================================================\n",
              "Dep. Variable:              SalePrice   R-squared:                       0.657\n",
              "Model:                            OLS   Adj. R-squared:                  0.609\n",
              "Method:                 Least Squares   F-statistic:                     13.73\n",
              "Date:                Sat, 03 Dec 2022   Prob (F-statistic):           1.22e-08\n",
              "Time:                        13:22:57   Log-Likelihood:                -603.34\n",
              "No. Observations:                  50   AIC:                             1221.\n",
              "Df Residuals:                      43   BIC:                             1234.\n",
              "Df Model:                           6                                         \n",
              "Covariance Type:            nonrobust                                         \n",
              "==============================================================================\n",
              "                 coef    std err          t      P>|t|      [0.025      0.975]\n",
              "------------------------------------------------------------------------------\n",
              "const       1.796e+05   6420.630     27.978      0.000    1.67e+05    1.93e+05\n",
              "x1          1.287e+04   7174.540      1.795      0.080   -1593.990    2.73e+04\n",
              "x2          1.008e+04   8457.746      1.192      0.240   -6975.830    2.71e+04\n",
              "x3          4.827e+04   7697.737      6.270      0.000    3.27e+04    6.38e+04\n",
              "x4          1.491e+04   6953.577      2.144      0.038     885.359    2.89e+04\n",
              "x5          2618.4513   3574.270      0.733      0.468   -4589.751    9826.654\n",
              "x6          -778.2301   6380.165     -0.122      0.903   -1.36e+04    1.21e+04\n",
              "x7         -2364.9288   3616.363     -0.654      0.517   -9658.020    4928.163\n",
              "==============================================================================\n",
              "Omnibus:                        1.578   Durbin-Watson:                   1.733\n",
              "Prob(Omnibus):                  0.454   Jarque-Bera (JB):                1.116\n",
              "Skew:                           0.017   Prob(JB):                        0.572\n",
              "Kurtosis:                       2.269   Cond. No.                     8.76e+15\n",
              "==============================================================================\n",
              "\n",
              "Notes:\n",
              "[1] Standard Errors assume that the covariance matrix of the errors is correctly specified.\n",
              "[2] The smallest eigenvalue is 1.53e-30. This might indicate that there are\n",
              "strong multicollinearity problems or that the design matrix is singular.\n",
              "\"\"\""
            ],
            "text/html": [
              "<table class=\"simpletable\">\n",
              "<caption>OLS Regression Results</caption>\n",
              "<tr>\n",
              "  <th>Dep. Variable:</th>        <td>SalePrice</td>    <th>  R-squared:         </th> <td>   0.657</td>\n",
              "</tr>\n",
              "<tr>\n",
              "  <th>Model:</th>                   <td>OLS</td>       <th>  Adj. R-squared:    </th> <td>   0.609</td>\n",
              "</tr>\n",
              "<tr>\n",
              "  <th>Method:</th>             <td>Least Squares</td>  <th>  F-statistic:       </th> <td>   13.73</td>\n",
              "</tr>\n",
              "<tr>\n",
              "  <th>Date:</th>             <td>Sat, 03 Dec 2022</td> <th>  Prob (F-statistic):</th> <td>1.22e-08</td>\n",
              "</tr>\n",
              "<tr>\n",
              "  <th>Time:</th>                 <td>13:22:57</td>     <th>  Log-Likelihood:    </th> <td> -603.34</td>\n",
              "</tr>\n",
              "<tr>\n",
              "  <th>No. Observations:</th>      <td>    50</td>      <th>  AIC:               </th> <td>   1221.</td>\n",
              "</tr>\n",
              "<tr>\n",
              "  <th>Df Residuals:</th>          <td>    43</td>      <th>  BIC:               </th> <td>   1234.</td>\n",
              "</tr>\n",
              "<tr>\n",
              "  <th>Df Model:</th>              <td>     6</td>      <th>                     </th>     <td> </td>   \n",
              "</tr>\n",
              "<tr>\n",
              "  <th>Covariance Type:</th>      <td>nonrobust</td>    <th>                     </th>     <td> </td>   \n",
              "</tr>\n",
              "</table>\n",
              "<table class=\"simpletable\">\n",
              "<tr>\n",
              "    <td></td>       <th>coef</th>     <th>std err</th>      <th>t</th>      <th>P>|t|</th>  <th>[0.025</th>    <th>0.975]</th>  \n",
              "</tr>\n",
              "<tr>\n",
              "  <th>const</th> <td> 1.796e+05</td> <td> 6420.630</td> <td>   27.978</td> <td> 0.000</td> <td> 1.67e+05</td> <td> 1.93e+05</td>\n",
              "</tr>\n",
              "<tr>\n",
              "  <th>x1</th>    <td> 1.287e+04</td> <td> 7174.540</td> <td>    1.795</td> <td> 0.080</td> <td>-1593.990</td> <td> 2.73e+04</td>\n",
              "</tr>\n",
              "<tr>\n",
              "  <th>x2</th>    <td> 1.008e+04</td> <td> 8457.746</td> <td>    1.192</td> <td> 0.240</td> <td>-6975.830</td> <td> 2.71e+04</td>\n",
              "</tr>\n",
              "<tr>\n",
              "  <th>x3</th>    <td> 4.827e+04</td> <td> 7697.737</td> <td>    6.270</td> <td> 0.000</td> <td> 3.27e+04</td> <td> 6.38e+04</td>\n",
              "</tr>\n",
              "<tr>\n",
              "  <th>x4</th>    <td> 1.491e+04</td> <td> 6953.577</td> <td>    2.144</td> <td> 0.038</td> <td>  885.359</td> <td> 2.89e+04</td>\n",
              "</tr>\n",
              "<tr>\n",
              "  <th>x5</th>    <td> 2618.4513</td> <td> 3574.270</td> <td>    0.733</td> <td> 0.468</td> <td>-4589.751</td> <td> 9826.654</td>\n",
              "</tr>\n",
              "<tr>\n",
              "  <th>x6</th>    <td> -778.2301</td> <td> 6380.165</td> <td>   -0.122</td> <td> 0.903</td> <td>-1.36e+04</td> <td> 1.21e+04</td>\n",
              "</tr>\n",
              "<tr>\n",
              "  <th>x7</th>    <td>-2364.9288</td> <td> 3616.363</td> <td>   -0.654</td> <td> 0.517</td> <td>-9658.020</td> <td> 4928.163</td>\n",
              "</tr>\n",
              "</table>\n",
              "<table class=\"simpletable\">\n",
              "<tr>\n",
              "  <th>Omnibus:</th>       <td> 1.578</td> <th>  Durbin-Watson:     </th> <td>   1.733</td>\n",
              "</tr>\n",
              "<tr>\n",
              "  <th>Prob(Omnibus):</th> <td> 0.454</td> <th>  Jarque-Bera (JB):  </th> <td>   1.116</td>\n",
              "</tr>\n",
              "<tr>\n",
              "  <th>Skew:</th>          <td> 0.017</td> <th>  Prob(JB):          </th> <td>   0.572</td>\n",
              "</tr>\n",
              "<tr>\n",
              "  <th>Kurtosis:</th>      <td> 2.269</td> <th>  Cond. No.          </th> <td>8.76e+15</td>\n",
              "</tr>\n",
              "</table><br/><br/>Notes:<br/>[1] Standard Errors assume that the covariance matrix of the errors is correctly specified.<br/>[2] The smallest eigenvalue is 1.53e-30. This might indicate that there are<br/>strong multicollinearity problems or that the design matrix is singular."
            ]
          },
          "metadata": {},
          "execution_count": 54
        }
      ]
    },
    {
      "cell_type": "code",
      "source": [
        "np.array((model2.params))/np.array(model2.bse)"
      ],
      "metadata": {
        "colab": {
          "base_uri": "https://localhost:8080/"
        },
        "id": "cJZToUXgKSfx",
        "outputId": "2a7c29b1-d467-496b-98da-e8fc6aabdadc"
      },
      "execution_count": 55,
      "outputs": [
        {
          "output_type": "execute_result",
          "data": {
            "text/plain": [
              "array([27.97820559,  1.79451904,  1.19190621,  6.27007981,  2.14401639,\n",
              "        0.73258354, -0.1219765 , -0.65395224])"
            ]
          },
          "metadata": {},
          "execution_count": 55
        }
      ]
    },
    {
      "cell_type": "code",
      "source": [
        "R=model2.rsquared\n",
        "\n",
        "n=len(data)\n",
        "k=len(data.columns)-1\n",
        "\n",
        "F=(n-k)/(k-1)*(R/(1-R))\n",
        "F"
      ],
      "metadata": {
        "colab": {
          "base_uri": "https://localhost:8080/"
        },
        "id": "vYVAAlGTAitK",
        "outputId": "a0f29689-7e0e-4414-8683-547156b05cee"
      },
      "execution_count": 58,
      "outputs": [
        {
          "output_type": "execute_result",
          "data": {
            "text/plain": [
              "13.726566457830154"
            ]
          },
          "metadata": {},
          "execution_count": 58
        }
      ]
    },
    {
      "cell_type": "code",
      "source": [
        "t=scipy.stats.f.ppf(1-0.05,k,n-k-1)\n",
        "t"
      ],
      "metadata": {
        "colab": {
          "base_uri": "https://localhost:8080/"
        },
        "id": "fbabDeThv-Td",
        "outputId": "ac590b52-cf7b-4132-82d9-3842a94b4c17"
      },
      "execution_count": 150,
      "outputs": [
        {
          "output_type": "execute_result",
          "data": {
            "text/plain": [
              "2.237070295093028"
            ]
          },
          "metadata": {},
          "execution_count": 150
        }
      ]
    },
    {
      "cell_type": "markdown",
      "source": [
        "$F_{statistic} > f_{critic} =>$ $H_0$ гипотеза отклоняется. Регрессия значима "
      ],
      "metadata": {
        "id": "bXXYyRF2yPix"
      }
    },
    {
      "cell_type": "markdown",
      "source": [
        "Проверка значимости коэффицентов"
      ],
      "metadata": {
        "id": "Ito899da9-r9"
      }
    },
    {
      "cell_type": "markdown",
      "source": [
        "Строим матрицу $(X^T*X)^{-1}$"
      ],
      "metadata": {
        "id": "aeYH87_WDFDc"
      }
    },
    {
      "cell_type": "code",
      "source": [
        "XTXi_wc=np.linalg.inv(XTX_wc)# Обратная матрица от произведения с константой"
      ],
      "metadata": {
        "id": "Us9ttqza0mrY"
      },
      "execution_count": 71,
      "outputs": []
    },
    {
      "cell_type": "markdown",
      "source": [
        "Считаем RMSD"
      ],
      "metadata": {
        "id": "UNbScbd9F8eE"
      }
    },
    {
      "cell_type": "code",
      "source": [
        "X_std_wc=sm.add_constant(X_std)\n",
        "\n",
        "ESS=sum(((Y-model2.predict(X_std_wc))**2))\n",
        "\n",
        "RMSD=(ESS/(n-k))**0.5\n",
        "\n",
        "RMSD"
      ],
      "metadata": {
        "colab": {
          "base_uri": "https://localhost:8080/"
        },
        "id": "S7agH9atEdOX",
        "outputId": "b0f02ab5-e5f4-41e5-ad9b-daae7c45c323"
      },
      "execution_count": 76,
      "outputs": [
        {
          "output_type": "execute_result",
          "data": {
            "text/plain": [
              "45400.71361965402"
            ]
          },
          "metadata": {},
          "execution_count": 76
        }
      ]
    },
    {
      "cell_type": "code",
      "source": [
        "mb_i=np.array([])\n",
        "for i in range(len(XTXi_wc)):\n",
        "  mb_i=np.append(mb_i,((XTXi_wc[i][i])**0.5))\n",
        "\n",
        "mb_i=RMSD/mb_i\n",
        "\n",
        "mb_i=np.array(model2.bse)\n",
        "\n",
        "mb_i"
      ],
      "metadata": {
        "colab": {
          "base_uri": "https://localhost:8080/"
        },
        "id": "IvmF5ycSEdKI",
        "outputId": "51b84b52-58b3-4167-b219-53e7cb8723d8"
      },
      "execution_count": 137,
      "outputs": [
        {
          "output_type": "execute_result",
          "data": {
            "text/plain": [
              "array([6420.63049423, 7174.53978973, 8457.74590332, 7697.73681636,\n",
              "       6953.57713114, 3574.26991214, 6380.16464971, 3616.3632193 ])"
            ]
          },
          "metadata": {},
          "execution_count": 137
        }
      ]
    },
    {
      "cell_type": "markdown",
      "source": [
        "Посчитаем статистику для коэффицентов"
      ],
      "metadata": {
        "id": "ZpTCUPPOXrP8"
      }
    },
    {
      "cell_type": "code",
      "source": [
        "b_i=np.array(model2.params)\n",
        "\n",
        "#print(b_i)\n",
        "\n",
        "t=b_i/mb_i # t статистика всех коэффицентов\n",
        "\n",
        "t"
      ],
      "metadata": {
        "id": "gomAMUvOK1kO",
        "colab": {
          "base_uri": "https://localhost:8080/"
        },
        "outputId": "99fca047-39a9-4841-c71c-f0682d0f1389"
      },
      "execution_count": 151,
      "outputs": [
        {
          "output_type": "execute_result",
          "data": {
            "text/plain": [
              "array([27.97820559,  1.79451904,  1.19190621,  6.27007981,  2.14401639,\n",
              "        0.73258354, -0.1219765 , -0.65395224])"
            ]
          },
          "metadata": {},
          "execution_count": 151
        }
      ]
    },
    {
      "cell_type": "markdown",
      "source": [
        "Проверяем с $t$ student critic value, two tailed"
      ],
      "metadata": {
        "id": "H44271m-ZJCJ"
      }
    },
    {
      "cell_type": "code",
      "source": [
        "tc=scipy.stats.t.ppf(1-0.05/2,n-k) #two tailed\n",
        "tc"
      ],
      "metadata": {
        "colab": {
          "base_uri": "https://localhost:8080/"
        },
        "id": "VceNLBkMYJwi",
        "outputId": "bf1cd3db-c65d-4e2b-e560-b9f94c5ed9a2"
      },
      "execution_count": 152,
      "outputs": [
        {
          "output_type": "execute_result",
          "data": {
            "text/plain": [
              "2.0166921941428133"
            ]
          },
          "metadata": {},
          "execution_count": 152
        }
      ]
    },
    {
      "cell_type": "code",
      "source": [
        "\n",
        "print(t)\n",
        "print(t>tc)"
      ],
      "metadata": {
        "colab": {
          "base_uri": "https://localhost:8080/"
        },
        "id": "kKCiHCC4ZaXB",
        "outputId": "ca4fb919-c53a-4c8a-90c2-f1d0b520a90b"
      },
      "execution_count": 165,
      "outputs": [
        {
          "output_type": "stream",
          "name": "stdout",
          "text": [
            "[27.97820559  1.79451904  1.19190621  6.27007981  2.14401639  0.73258354\n",
            " -0.1219765  -0.65395224]\n",
            "[ True False False  True  True False False False]\n"
          ]
        }
      ]
    },
    {
      "cell_type": "markdown",
      "source": [
        "Значимые переменные те у которых статистика больше critic value"
      ],
      "metadata": {
        "id": "EbWJEX2wax_9"
      }
    },
    {
      "cell_type": "markdown",
      "source": [
        "По итогам теста остаются переменные"
      ],
      "metadata": {
        "id": "t8s3MSQMZ3v3"
      }
    },
    {
      "cell_type": "code",
      "source": [
        "col=pd.Series(x4_m.columns)\n",
        "col_n=col.mask(t<tc).dropna()\n",
        "\n",
        "display(col_n)"
      ],
      "metadata": {
        "colab": {
          "base_uri": "https://localhost:8080/",
          "height": 88
        },
        "id": "1yFFS0bOZ2rB",
        "outputId": "3beed968-f4a8-4204-98a6-e19f49d0a45a"
      },
      "execution_count": 180,
      "outputs": [
        {
          "output_type": "display_data",
          "data": {
            "text/plain": [
              "0           const\n",
              "3       YearBuilt\n",
              "4    BedroomAbvGr\n",
              "dtype: object"
            ]
          },
          "metadata": {}
        }
      ]
    },
    {
      "cell_type": "markdown",
      "source": [
        "# Четвертая модель (на основе значимости коэфицентов)"
      ],
      "metadata": {
        "id": "Sx07FhohkLz5"
      }
    },
    {
      "cell_type": "code",
      "source": [
        "Xn_wc=pd.DataFrame(x4_m,columns=col_n)#Строим новую таблицу на основе гипотезы\n",
        "\n",
        "model4=sm.OLS(Y, Xn_wc).fit()\n",
        "\n",
        "model4.summary()"
      ],
      "metadata": {
        "colab": {
          "base_uri": "https://localhost:8080/",
          "height": 508
        },
        "id": "N-DAykAGkLXY",
        "outputId": "768279ee-88fc-477a-fb00-a1f8d413e9c6"
      },
      "execution_count": 189,
      "outputs": [
        {
          "output_type": "execute_result",
          "data": {
            "text/plain": [
              "<class 'statsmodels.iolib.summary.Summary'>\n",
              "\"\"\"\n",
              "                            OLS Regression Results                            \n",
              "==============================================================================\n",
              "Dep. Variable:              SalePrice   R-squared:                       0.620\n",
              "Model:                            OLS   Adj. R-squared:                  0.604\n",
              "Method:                 Least Squares   F-statistic:                     38.41\n",
              "Date:                Sat, 03 Dec 2022   Prob (F-statistic):           1.30e-10\n",
              "Time:                        15:25:50   Log-Likelihood:                -605.87\n",
              "No. Observations:                  50   AIC:                             1218.\n",
              "Df Residuals:                      47   BIC:                             1223.\n",
              "Df Model:                           2                                         \n",
              "Covariance Type:            nonrobust                                         \n",
              "================================================================================\n",
              "                   coef    std err          t      P>|t|      [0.025      0.975]\n",
              "--------------------------------------------------------------------------------\n",
              "const        -3.565e+06    4.7e+05     -7.585      0.000   -4.51e+06   -2.62e+06\n",
              "YearBuilt     1875.7937    241.381      7.771      0.000    1390.197    2361.391\n",
              "BedroomAbvGr  1.617e+04   9232.581      1.752      0.086   -2402.452    3.47e+04\n",
              "==============================================================================\n",
              "Omnibus:                        2.630   Durbin-Watson:                   1.694\n",
              "Prob(Omnibus):                  0.269   Jarque-Bera (JB):                1.533\n",
              "Skew:                           0.118   Prob(JB):                        0.465\n",
              "Kurtosis:                       2.175   Cond. No.                     1.44e+05\n",
              "==============================================================================\n",
              "\n",
              "Notes:\n",
              "[1] Standard Errors assume that the covariance matrix of the errors is correctly specified.\n",
              "[2] The condition number is large, 1.44e+05. This might indicate that there are\n",
              "strong multicollinearity or other numerical problems.\n",
              "\"\"\""
            ],
            "text/html": [
              "<table class=\"simpletable\">\n",
              "<caption>OLS Regression Results</caption>\n",
              "<tr>\n",
              "  <th>Dep. Variable:</th>        <td>SalePrice</td>    <th>  R-squared:         </th> <td>   0.620</td>\n",
              "</tr>\n",
              "<tr>\n",
              "  <th>Model:</th>                   <td>OLS</td>       <th>  Adj. R-squared:    </th> <td>   0.604</td>\n",
              "</tr>\n",
              "<tr>\n",
              "  <th>Method:</th>             <td>Least Squares</td>  <th>  F-statistic:       </th> <td>   38.41</td>\n",
              "</tr>\n",
              "<tr>\n",
              "  <th>Date:</th>             <td>Sat, 03 Dec 2022</td> <th>  Prob (F-statistic):</th> <td>1.30e-10</td>\n",
              "</tr>\n",
              "<tr>\n",
              "  <th>Time:</th>                 <td>15:25:50</td>     <th>  Log-Likelihood:    </th> <td> -605.87</td>\n",
              "</tr>\n",
              "<tr>\n",
              "  <th>No. Observations:</th>      <td>    50</td>      <th>  AIC:               </th> <td>   1218.</td>\n",
              "</tr>\n",
              "<tr>\n",
              "  <th>Df Residuals:</th>          <td>    47</td>      <th>  BIC:               </th> <td>   1223.</td>\n",
              "</tr>\n",
              "<tr>\n",
              "  <th>Df Model:</th>              <td>     2</td>      <th>                     </th>     <td> </td>   \n",
              "</tr>\n",
              "<tr>\n",
              "  <th>Covariance Type:</th>      <td>nonrobust</td>    <th>                     </th>     <td> </td>   \n",
              "</tr>\n",
              "</table>\n",
              "<table class=\"simpletable\">\n",
              "<tr>\n",
              "        <td></td>          <th>coef</th>     <th>std err</th>      <th>t</th>      <th>P>|t|</th>  <th>[0.025</th>    <th>0.975]</th>  \n",
              "</tr>\n",
              "<tr>\n",
              "  <th>const</th>        <td>-3.565e+06</td> <td>  4.7e+05</td> <td>   -7.585</td> <td> 0.000</td> <td>-4.51e+06</td> <td>-2.62e+06</td>\n",
              "</tr>\n",
              "<tr>\n",
              "  <th>YearBuilt</th>    <td> 1875.7937</td> <td>  241.381</td> <td>    7.771</td> <td> 0.000</td> <td> 1390.197</td> <td> 2361.391</td>\n",
              "</tr>\n",
              "<tr>\n",
              "  <th>BedroomAbvGr</th> <td> 1.617e+04</td> <td> 9232.581</td> <td>    1.752</td> <td> 0.086</td> <td>-2402.452</td> <td> 3.47e+04</td>\n",
              "</tr>\n",
              "</table>\n",
              "<table class=\"simpletable\">\n",
              "<tr>\n",
              "  <th>Omnibus:</th>       <td> 2.630</td> <th>  Durbin-Watson:     </th> <td>   1.694</td>\n",
              "</tr>\n",
              "<tr>\n",
              "  <th>Prob(Omnibus):</th> <td> 0.269</td> <th>  Jarque-Bera (JB):  </th> <td>   1.533</td>\n",
              "</tr>\n",
              "<tr>\n",
              "  <th>Skew:</th>          <td> 0.118</td> <th>  Prob(JB):          </th> <td>   0.465</td>\n",
              "</tr>\n",
              "<tr>\n",
              "  <th>Kurtosis:</th>      <td> 2.175</td> <th>  Cond. No.          </th> <td>1.44e+05</td>\n",
              "</tr>\n",
              "</table><br/><br/>Notes:<br/>[1] Standard Errors assume that the covariance matrix of the errors is correctly specified.<br/>[2] The condition number is large, 1.44e+05. This might indicate that there are<br/>strong multicollinearity or other numerical problems."
            ]
          },
          "metadata": {},
          "execution_count": 189
        }
      ]
    },
    {
      "cell_type": "markdown",
      "source": [
        "Видим, что коэффицент исправленный коэфицент детерминации уменьшился на 0.005. С другой стороны мы значительно уменьшили количество факторов с 6 до 2!\\\n",
        "Также аргумент в пользу этой модели коэффицент Акаике также уменьшился."
      ],
      "metadata": {
        "id": "iYFCMaD0mFKx"
      }
    },
    {
      "cell_type": "markdown",
      "source": [
        "# Пятая модель - Отбор факторов с помощью поэтапного включения переменных"
      ],
      "metadata": {
        "id": "A_9l08Sfmtlz"
      }
    },
    {
      "cell_type": "markdown",
      "source": [
        "Проводим отбор с помощью скорректироанного коэффицента дерминации с шагом 0.1, то есть если с новым фактором $R^{ '2}$ стал больше на 0.1 добавляем этот регрессор"
      ],
      "metadata": {
        "id": "vkpQXWiNnqo1"
      }
    },
    {
      "cell_type": "markdown",
      "source": [
        "Сначала найдем какой из факторов в одиночку даёт наилучший $R^2$:"
      ],
      "metadata": {
        "id": "_-ZLCr8JpGHA"
      }
    },
    {
      "cell_type": "code",
      "source": [
        "#for i in range(len(X.columns)):\n",
        "X_strt=sm.add_constant(X1)\n",
        "\n",
        "max_i=0\n",
        "maxi=0\n",
        "for i in range(1,len(X_strt.columns)):\n",
        "  tmp=sm.add_constant(X_strt.iloc[:,i])\n",
        "  model_st=sm.OLS(Y, tmp).fit()\n",
        "  if (maxi<model_st.rsquared):\n",
        "    maxi=model_st.rsquared\n",
        "    max_i=i\n",
        "\n",
        "X_strt.columns[max_i]"
      ],
      "metadata": {
        "colab": {
          "base_uri": "https://localhost:8080/",
          "height": 35
        },
        "id": "rwR-ySBAmAM6",
        "outputId": "5c871cc8-1227-4dfc-a58d-fe20be264c3a"
      },
      "execution_count": 228,
      "outputs": [
        {
          "output_type": "execute_result",
          "data": {
            "text/plain": [
              "'YearBuilt'"
            ],
            "application/vnd.google.colaboratory.intrinsic+json": {
              "type": "string"
            }
          },
          "metadata": {},
          "execution_count": 228
        }
      ]
    },
    {
      "cell_type": "markdown",
      "source": [
        "C этим фактором и начнем подбор. На самом деле предсказуемо, что именно этот коэффицент имеет наивысший $R^2$, т.к. у этого фактора корреляция гораздо больше, чем у любой другой переменной."
      ],
      "metadata": {
        "id": "MAdLVlPmyAbJ"
      }
    },
    {
      "cell_type": "markdown",
      "source": [
        "Сам процесс:"
      ],
      "metadata": {
        "id": "5rxYpLpjyzTD"
      }
    },
    {
      "cell_type": "code",
      "source": [
        "X_i=X_strt[X_strt.columns[max_i]]\n",
        "X_i=sm.add_constant(X_i)\n",
        "\n",
        "\n",
        "for i in range(1,len(X_strt.columns)):\n",
        "  if i==max_i:#пропускаем фактор который уже есть\n",
        "    continue\n",
        "  else:\n",
        "    tmp=X_i.copy()\n",
        "    tmp.insert(len(X_i.columns),i,X_strt.iloc[:,i])#добавляем в конец новый фактор и смотрим на скоректированный коэффицент детерминации\n",
        "\n",
        "    model_it=sm.OLS(Y, tmp).fit()\n",
        "    print(model_it.rsquared_adj)\n",
        "    if model_it.rsquared_adj-maxi>0.1:\n",
        "      X_i=tmp\n",
        "\n",
        "\n",
        "model5=sm.OLS(Y, X_i).fit()\n",
        "\n",
        "print(\"------------\")\n",
        "print(X_i.head(2))\n",
        "print(\"К. детерминации -\",model5.rsquared_adj)\n",
        "print()"
      ],
      "metadata": {
        "colab": {
          "base_uri": "https://localhost:8080/"
        },
        "id": "KTPXZBOttXcR",
        "outputId": "929dfb4c-c01b-49df-89f9-c83cd328f88f"
      },
      "execution_count": 279,
      "outputs": [
        {
          "output_type": "stream",
          "name": "stdout",
          "text": [
            "0.5858936267317969\n",
            "0.5849572418782218\n",
            "0.6042611727556191\n",
            "0.5846900807669586\n",
            "0.579212066546039\n",
            "0.5833412657083912\n",
            "------------\n",
            "   const  YearBuilt\n",
            "0    1.0       2003\n",
            "1    1.0       1976\n",
            "К. детерминации - 0.5872127171300241\n",
            "\n"
          ]
        },
        {
          "output_type": "stream",
          "name": "stderr",
          "text": [
            "/usr/local/lib/python3.8/dist-packages/statsmodels/tsa/tsatools.py:142: FutureWarning:\n",
            "\n",
            "In a future version of pandas all arguments of concat except for the argument 'objs' will be keyword-only\n",
            "\n"
          ]
        }
      ]
    },
    {
      "cell_type": "markdown",
      "source": [
        "Как видим, при шаге 0.1 факторы не добавились. А модель остается зависимой только от YearBuilt"
      ],
      "metadata": {
        "id": "Mlv613w38hnG"
      }
    },
    {
      "cell_type": "markdown",
      "source": [
        "# Выбираем итоговую модель"
      ],
      "metadata": {
        "id": "uzOUGeE6_CXF"
      }
    },
    {
      "cell_type": "markdown",
      "source": [
        "Рассмотрим модели - 1,4,5 (Чем какая отличается см. оглвление)\\\n",
        "\n",
        "1 - имеет самую лучшую точность - 0.609, однако грамоздкая - 7 факторов\\\n",
        "5 - имеет точность меньше - 0.58, однако зависит только от одного фактора\\\n",
        "4 - находится между 1 и 5. Точность немного меньше 1 - 0.604, фактора всего 2\\\n",
        "\n",
        "Я выберу модель 4, потому что она имеет второй по показателю $R^{'2}$, но по сравнению с первой имеет гораздо меньше регрессеров\n",
        "\n"
      ],
      "metadata": {
        "id": "AxuiYjnR_Vlg"
      }
    },
    {
      "cell_type": "markdown",
      "source": [
        "ANOVA TEST"
      ],
      "metadata": {
        "id": "BVB6seCq_3W5"
      }
    },
    {
      "cell_type": "code",
      "source": [],
      "metadata": {
        "id": "szlioqh3_BDc"
      },
      "execution_count": null,
      "outputs": []
    },
    {
      "cell_type": "markdown",
      "source": [
        "# Анализ модели 4"
      ],
      "metadata": {
        "id": "5vOaVBedC3-E"
      }
    },
    {
      "cell_type": "code",
      "source": [
        "y_p=model4.predict(Xn_wc)\n",
        "\n",
        "tmp=np.array(X1.iloc[:,1]).sort()\n",
        "\n",
        "sns.scatterplot(x=Xn_wc.iloc[:,1],y=np.array(Y))\n",
        "sns.scatterplot(x=Xn_wc.iloc[:,1],y=(np.array(y_p)))"
      ],
      "metadata": {
        "colab": {
          "base_uri": "https://localhost:8080/",
          "height": 412
        },
        "id": "sAiWEp4WC7_g",
        "outputId": "11522bf6-d811-44f3-81d7-de09800a52c7"
      },
      "execution_count": 316,
      "outputs": [
        {
          "output_type": "execute_result",
          "data": {
            "text/plain": [
              "<matplotlib.axes._subplots.AxesSubplot at 0x7f0a8eae4ca0>"
            ]
          },
          "metadata": {},
          "execution_count": 316
        },
        {
          "output_type": "display_data",
          "data": {
            "text/plain": [
              "<Figure size 1080x432 with 1 Axes>"
            ],
            "image/png": "[encoded data removed]"
          },
          "metadata": {}
        }
      ]
    },
    {
      "cell_type": "code",
      "source": [
        "Xn_wc"
      ],
      "metadata": {
        "colab": {
          "base_uri": "https://localhost:8080/",
          "height": 1000
        },
        "id": "vndBSty5Eb2k",
        "outputId": "1f3a8934-bd03-4281-87b2-7d50eb30431a"
      },
      "execution_count": 312,
      "outputs": [
        {
          "output_type": "execute_result",
          "data": {
            "text/plain": [
              "    const  YearBuilt  BedroomAbvGr\n",
              "0     1.0       2003             3\n",
              "1     1.0       1976             3\n",
              "2     1.0       2001             3\n",
              "3     1.0       1915             3\n",
              "4     1.0       2000             4\n",
              "5     1.0       1993             1\n",
              "6     1.0       2004             3\n",
              "7     1.0       1973             3\n",
              "8     1.0       1931             2\n",
              "9     1.0       1939             2\n",
              "10    1.0       1965             3\n",
              "11    1.0       2005             4\n",
              "12    1.0       1962             2\n",
              "13    1.0       2006             3\n",
              "14    1.0       1960             2\n",
              "15    1.0       1929             2\n",
              "16    1.0       1970             2\n",
              "17    1.0       1967             2\n",
              "18    1.0       2004             3\n",
              "19    1.0       1958             3\n",
              "20    1.0       2005             4\n",
              "21    1.0       1930             3\n",
              "22    1.0       2002             3\n",
              "23    1.0       1976             3\n",
              "24    1.0       1968             3\n",
              "25    1.0       2007             3\n",
              "26    1.0       1951             3\n",
              "27    1.0       2007             3\n",
              "28    1.0       1957             2\n",
              "29    1.0       1927             1\n",
              "30    1.0       1920             3\n",
              "31    1.0       1966             3\n",
              "32    1.0       2007             3\n",
              "33    1.0       1959             4\n",
              "34    1.0       2005             2\n",
              "35    1.0       2004             4\n",
              "36    1.0       1994             3\n",
              "37    1.0       1954             3\n",
              "38    1.0       1953             3\n",
              "39    1.0       1955             2\n",
              "40    1.0       1965             3\n",
              "41    1.0       1959             2\n",
              "42    1.0       1983             2\n",
              "43    1.0       1975             3\n",
              "44    1.0       1959             3\n",
              "45    1.0       2005             2\n",
              "46    1.0       2003             1\n",
              "47    1.0       2006             3\n",
              "48    1.0       1920             2\n",
              "49    1.0       1966             3"
            ],
            "text/html": [
              "\n",
              "  <div id=\"df-b532e120-c659-4278-b497-1f2861ec6401\">\n",
              "    <div class=\"colab-df-container\">\n",
              "      <div>\n",
              "<style scoped>\n",
              "    .dataframe tbody tr th:only-of-type {\n",
              "        vertical-align: middle;\n",
              "    }\n",
              "\n",
              "    .dataframe tbody tr th {\n",
              "        vertical-align: top;\n",
              "    }\n",
              "\n",
              "    .dataframe thead th {\n",
              "        text-align: right;\n",
              "    }\n",
              "</style>\n",
              "<table border=\"1\" class=\"dataframe\">\n",
              "  <thead>\n",
              "    <tr style=\"text-align: right;\">\n",
              "      <th></th>\n",
              "      <th>const</th>\n",
              "      <th>YearBuilt</th>\n",
              "      <th>BedroomAbvGr</th>\n",
              "    </tr>\n",
              "  </thead>\n",
              "  <tbody>\n",
              "    <tr>\n",
              "      <th>0</th>\n",
              "      <td>1.0</td>\n",
              "      <td>2003</td>\n",
              "      <td>3</td>\n",
              "    </tr>\n",
              "    <tr>\n",
              "      <th>1</th>\n",
              "      <td>1.0</td>\n",
              "      <td>1976</td>\n",
              "      <td>3</td>\n",
              "    </tr>\n",
              "    <tr>\n",
              "      <th>2</th>\n",
              "      <td>1.0</td>\n",
              "      <td>2001</td>\n",
              "      <td>3</td>\n",
              "    </tr>\n",
              "    <tr>\n",
              "      <th>3</th>\n",
              "      <td>1.0</td>\n",
              "      <td>1915</td>\n",
              "      <td>3</td>\n",
              "    </tr>\n",
              "    <tr>\n",
              "      <th>4</th>\n",
              "      <td>1.0</td>\n",
              "      <td>2000</td>\n",
              "      <td>4</td>\n",
              "    </tr>\n",
              "    <tr>\n",
              "      <th>5</th>\n",
              "      <td>1.0</td>\n",
              "      <td>1993</td>\n",
              "      <td>1</td>\n",
              "    </tr>\n",
              "    <tr>\n",
              "      <th>6</th>\n",
              "      <td>1.0</td>\n",
              "      <td>2004</td>\n",
              "      <td>3</td>\n",
              "    </tr>\n",
              "    <tr>\n",
              "      <th>7</th>\n",
              "      <td>1.0</td>\n",
              "      <td>1973</td>\n",
              "      <td>3</td>\n",
              "    </tr>\n",
              "    <tr>\n",
              "      <th>8</th>\n",
              "      <td>1.0</td>\n",
              "      <td>1931</td>\n",
              "      <td>2</td>\n",
              "    </tr>\n",
              "    <tr>\n",
              "      <th>9</th>\n",
              "      <td>1.0</td>\n",
              "      <td>1939</td>\n",
              "      <td>2</td>\n",
              "    </tr>\n",
              "    <tr>\n",
              "      <th>10</th>\n",
              "      <td>1.0</td>\n",
              "      <td>1965</td>\n",
              "      <td>3</td>\n",
              "    </tr>\n",
              "    <tr>\n",
              "      <th>11</th>\n",
              "      <td>1.0</td>\n",
              "      <td>2005</td>\n",
              "      <td>4</td>\n",
              "    </tr>\n",
              "    <tr>\n",
              "      <th>12</th>\n",
              "      <td>1.0</td>\n",
              "      <td>1962</td>\n",
              "      <td>2</td>\n",
              "    </tr>\n",
              "    <tr>\n",
              "      <th>13</th>\n",
              "      <td>1.0</td>\n",
              "      <td>2006</td>\n",
              "      <td>3</td>\n",
              "    </tr>\n",
              "    <tr>\n",
              "      <th>14</th>\n",
              "      <td>1.0</td>\n",
              "      <td>1960</td>\n",
              "      <td>2</td>\n",
              "    </tr>\n",
              "    <tr>\n",
              "      <th>15</th>\n",
              "      <td>1.0</td>\n",
              "      <td>1929</td>\n",
              "      <td>2</td>\n",
              "    </tr>\n",
              "    <tr>\n",
              "      <th>16</th>\n",
              "      <td>1.0</td>\n",
              "      <td>1970</td>\n",
              "      <td>2</td>\n",
              "    </tr>\n",
              "    <tr>\n",
              "      <th>17</th>\n",
              "      <td>1.0</td>\n",
              "      <td>1967</td>\n",
              "      <td>2</td>\n",
              "    </tr>\n",
              "    <tr>\n",
              "      <th>18</th>\n",
              "      <td>1.0</td>\n",
              "      <td>2004</td>\n",
              "      <td>3</td>\n",
              "    </tr>\n",
              "    <tr>\n",
              "      <th>19</th>\n",
              "      <td>1.0</td>\n",
              "      <td>1958</td>\n",
              "      <td>3</td>\n",
              "    </tr>\n",
              "    <tr>\n",
              "      <th>20</th>\n",
              "      <td>1.0</td>\n",
              "      <td>2005</td>\n",
              "      <td>4</td>\n",
              "    </tr>\n",
              "    <tr>\n",
              "      <th>21</th>\n",
              "      <td>1.0</td>\n",
              "      <td>1930</td>\n",
              "      <td>3</td>\n",
              "    </tr>\n",
              "    <tr>\n",
              "      <th>22</th>\n",
              "      <td>1.0</td>\n",
              "      <td>2002</td>\n",
              "      <td>3</td>\n",
              "    </tr>\n",
              "    <tr>\n",
              "      <th>23</th>\n",
              "      <td>1.0</td>\n",
              "      <td>1976</td>\n",
              "      <td>3</td>\n",
              "    </tr>\n",
              "    <tr>\n",
              "      <th>24</th>\n",
              "      <td>1.0</td>\n",
              "      <td>1968</td>\n",
              "      <td>3</td>\n",
              "    </tr>\n",
              "    <tr>\n",
              "      <th>25</th>\n",
              "      <td>1.0</td>\n",
              "      <td>2007</td>\n",
              "      <td>3</td>\n",
              "    </tr>\n",
              "    <tr>\n",
              "      <th>26</th>\n",
              "      <td>1.0</td>\n",
              "      <td>1951</td>\n",
              "      <td>3</td>\n",
              "    </tr>\n",
              "    <tr>\n",
              "      <th>27</th>\n",
              "      <td>1.0</td>\n",
              "      <td>2007</td>\n",
              "      <td>3</td>\n",
              "    </tr>\n",
              "    <tr>\n",
              "      <th>28</th>\n",
              "      <td>1.0</td>\n",
              "      <td>1957</td>\n",
              "      <td>2</td>\n",
              "    </tr>\n",
              "    <tr>\n",
              "      <th>29</th>\n",
              "      <td>1.0</td>\n",
              "      <td>1927</td>\n",
              "      <td>1</td>\n",
              "    </tr>\n",
              "    <tr>\n",
              "      <th>30</th>\n",
              "      <td>1.0</td>\n",
              "      <td>1920</td>\n",
              "      <td>3</td>\n",
              "    </tr>\n",
              "    <tr>\n",
              "      <th>31</th>\n",
              "      <td>1.0</td>\n",
              "      <td>1966</td>\n",
              "      <td>3</td>\n",
              "    </tr>\n",
              "    <tr>\n",
              "      <th>32</th>\n",
              "      <td>1.0</td>\n",
              "      <td>2007</td>\n",
              "      <td>3</td>\n",
              "    </tr>\n",
              "    <tr>\n",
              "      <th>33</th>\n",
              "      <td>1.0</td>\n",
              "      <td>1959</td>\n",
              "      <td>4</td>\n",
              "    </tr>\n",
              "    <tr>\n",
              "      <th>34</th>\n",
              "      <td>1.0</td>\n",
              "      <td>2005</td>\n",
              "      <td>2</td>\n",
              "    </tr>\n",
              "    <tr>\n",
              "      <th>35</th>\n",
              "      <td>1.0</td>\n",
              "      <td>2004</td>\n",
              "      <td>4</td>\n",
              "    </tr>\n",
              "    <tr>\n",
              "      <th>36</th>\n",
              "      <td>1.0</td>\n",
              "      <td>1994</td>\n",
              "      <td>3</td>\n",
              "    </tr>\n",
              "    <tr>\n",
              "      <th>37</th>\n",
              "      <td>1.0</td>\n",
              "      <td>1954</td>\n",
              "      <td>3</td>\n",
              "    </tr>\n",
              "    <tr>\n",
              "      <th>38</th>\n",
              "      <td>1.0</td>\n",
              "      <td>1953</td>\n",
              "      <td>3</td>\n",
              "    </tr>\n",
              "    <tr>\n",
              "      <th>39</th>\n",
              "      <td>1.0</td>\n",
              "      <td>1955</td>\n",
              "      <td>2</td>\n",
              "    </tr>\n",
              "    <tr>\n",
              "      <th>40</th>\n",
              "      <td>1.0</td>\n",
              "      <td>1965</td>\n",
              "      <td>3</td>\n",
              "    </tr>\n",
              "    <tr>\n",
              "      <th>41</th>\n",
              "      <td>1.0</td>\n",
              "      <td>1959</td>\n",
              "      <td>2</td>\n",
              "    </tr>\n",
              "    <tr>\n",
              "      <th>42</th>\n",
              "      <td>1.0</td>\n",
              "      <td>1983</td>\n",
              "      <td>2</td>\n",
              "    </tr>\n",
              "    <tr>\n",
              "      <th>43</th>\n",
              "      <td>1.0</td>\n",
              "      <td>1975</td>\n",
              "      <td>3</td>\n",
              "    </tr>\n",
              "    <tr>\n",
              "      <th>44</th>\n",
              "      <td>1.0</td>\n",
              "      <td>1959</td>\n",
              "      <td>3</td>\n",
              "    </tr>\n",
              "    <tr>\n",
              "      <th>45</th>\n",
              "      <td>1.0</td>\n",
              "      <td>2005</td>\n",
              "      <td>2</td>\n",
              "    </tr>\n",
              "    <tr>\n",
              "      <th>46</th>\n",
              "      <td>1.0</td>\n",
              "      <td>2003</td>\n",
              "      <td>1</td>\n",
              "    </tr>\n",
              "    <tr>\n",
              "      <th>47</th>\n",
              "      <td>1.0</td>\n",
              "      <td>2006</td>\n",
              "      <td>3</td>\n",
              "    </tr>\n",
              "    <tr>\n",
              "      <th>48</th>\n",
              "      <td>1.0</td>\n",
              "      <td>1920</td>\n",
              "      <td>2</td>\n",
              "    </tr>\n",
              "    <tr>\n",
              "      <th>49</th>\n",
              "      <td>1.0</td>\n",
              "      <td>1966</td>\n",
              "      <td>3</td>\n",
              "    </tr>\n",
              "  </tbody>\n",
              "</table>\n",
              "</div>\n",
              "      <button class=\"colab-df-convert\" onclick=\"convertToInteractive('df-b532e120-c659-4278-b497-1f2861ec6401')\"\n",
              "              title=\"Convert this dataframe to an interactive table.\"\n",
              "              style=\"display:none;\">\n",
              "        \n",
              "  <svg xmlns=\"http://www.w3.org/2000/svg\" height=\"24px\"viewBox=\"0 0 24 24\"\n",
              "       width=\"24px\">\n",
              "    <path d=\"M0 0h24v24H0V0z\" fill=\"none\"/>\n",
              "    <path d=\"M18.56 5.44l.94 2.06.94-2.06 2.06-.94-2.06-.94-.94-2.06-.94 2.06-2.06.94zm-11 1L8.5 8.5l.94-2.06 2.06-.94-2.06-.94L8.5 2.5l-.94 2.06-2.06.94zm10 10l.94 2.06.94-2.06 2.06-.94-2.06-.94-.94-2.06-.94 2.06-2.06.94z\"/><path d=\"M17.41 7.96l-1.37-1.37c-.4-.4-.92-.59-1.43-.59-.52 0-1.04.2-1.43.59L10.3 9.45l-7.72 7.72c-.78.78-.78 2.05 0 2.83L4 21.41c.39.39.9.59 1.41.59.51 0 1.02-.2 1.41-.59l7.78-7.78 2.81-2.81c.8-.78.8-2.07 0-2.86zM5.41 20L4 18.59l7.72-7.72 1.47 1.35L5.41 20z\"/>\n",
              "  </svg>\n",
              "      </button>\n",
              "      \n",
              "  <style>\n",
              "    .colab-df-container {\n",
              "      display:flex;\n",
              "      flex-wrap:wrap;\n",
              "      gap: 12px;\n",
              "    }\n",
              "\n",
              "    .colab-df-convert {\n",
              "      background-color: #E8F0FE;\n",
              "      border: none;\n",
              "      border-radius: 50%;\n",
              "      cursor: pointer;\n",
              "      display: none;\n",
              "      fill: #1967D2;\n",
              "      height: 32px;\n",
              "      padding: 0 0 0 0;\n",
              "      width: 32px;\n",
              "    }\n",
              "\n",
              "    .colab-df-convert:hover {\n",
              "      background-color: #E2EBFA;\n",
              "      box-shadow: 0px 1px 2px rgba(60, 64, 67, 0.3), 0px 1px 3px 1px rgba(60, 64, 67, 0.15);\n",
              "      fill: #174EA6;\n",
              "    }\n",
              "\n",
              "    [theme=dark] .colab-df-convert {\n",
              "      background-color: #3B4455;\n",
              "      fill: #D2E3FC;\n",
              "    }\n",
              "\n",
              "    [theme=dark] .colab-df-convert:hover {\n",
              "      background-color: #434B5C;\n",
              "      box-shadow: 0px 1px 3px 1px rgba(0, 0, 0, 0.15);\n",
              "      filter: drop-shadow(0px 1px 2px rgba(0, 0, 0, 0.3));\n",
              "      fill: #FFFFFF;\n",
              "    }\n",
              "  </style>\n",
              "\n",
              "      <script>\n",
              "        const buttonEl =\n",
              "          document.querySelector('#df-b532e120-c659-4278-b497-1f2861ec6401 button.colab-df-convert');\n",
              "        buttonEl.style.display =\n",
              "          google.colab.kernel.accessAllowed ? 'block' : 'none';\n",
              "\n",
              "        async function convertToInteractive(key) {\n",
              "          const element = document.querySelector('#df-b532e120-c659-4278-b497-1f2861ec6401');\n",
              "          const dataTable =\n",
              "            await google.colab.kernel.invokeFunction('convertToInteractive',\n",
              "                                                     [key], {});\n",
              "          if (!dataTable) return;\n",
              "\n",
              "          const docLinkHtml = 'Like what you see? Visit the ' +\n",
              "            '<a target=\"_blank\" href=https://colab.research.google.com/notebooks/data_table.ipynb>data table notebook</a>'\n",
              "            + ' to learn more about interactive tables.';\n",
              "          element.innerHTML = '';\n",
              "          dataTable['output_type'] = 'display_data';\n",
              "          await google.colab.output.renderOutput(dataTable, element);\n",
              "          const docLink = document.createElement('div');\n",
              "          docLink.innerHTML = docLinkHtml;\n",
              "          element.appendChild(docLink);\n",
              "        }\n",
              "      </script>\n",
              "    </div>\n",
              "  </div>\n",
              "  "
            ]
          },
          "metadata": {},
          "execution_count": 312
        }
      ]
    },
    {
      "cell_type": "code",
      "source": [
        "Y.head(3)"
      ],
      "metadata": {
        "colab": {
          "base_uri": "https://localhost:8080/"
        },
        "id": "DASO0yv4GCx-",
        "outputId": "21f72122-15a6-42cb-de7e-9c1dec744678"
      },
      "execution_count": 305,
      "outputs": [
        {
          "output_type": "execute_result",
          "data": {
            "text/plain": [
              "0    208500\n",
              "1    181500\n",
              "2    223500\n",
              "Name: SalePrice, dtype: int64"
            ]
          },
          "metadata": {},
          "execution_count": 305
        }
      ]
    },
    {
      "cell_type": "code",
      "source": [
        "e=Y-y_p\n",
        "e_ind=np.array([i+1 for i in range(len(e))])\n",
        "\n",
        "sns.scatterplot(x=e_ind,y=e)\n",
        "sns.lineplot(x=e_ind,y=1,color='black',linestyle='--')"
      ],
      "metadata": {
        "colab": {
          "base_uri": "https://localhost:8080/",
          "height": 241
        },
        "id": "Qa40flLQg5rx",
        "outputId": "1275c310-7cb4-4b05-9332-647521289cd3"
      },
      "execution_count": 31,
      "outputs": [
        {
          "output_type": "error",
          "ename": "NameError",
          "evalue": "ignored",
          "traceback": [
            "\u001b[0;31m---------------------------------------------------------------------------\u001b[0m",
            "\u001b[0;31mNameError\u001b[0m                                 Traceback (most recent call last)",
            "\u001b[0;32m<ipython-input-31-f88fd50dedb7>\u001b[0m in \u001b[0;36m<module>\u001b[0;34m\u001b[0m\n\u001b[0;32m----> 1\u001b[0;31m \u001b[0me\u001b[0m\u001b[0;34m=\u001b[0m\u001b[0mY\u001b[0m\u001b[0;34m-\u001b[0m\u001b[0my_p\u001b[0m\u001b[0;34m\u001b[0m\u001b[0;34m\u001b[0m\u001b[0m\n\u001b[0m\u001b[1;32m      2\u001b[0m \u001b[0me_ind\u001b[0m\u001b[0;34m=\u001b[0m\u001b[0mnp\u001b[0m\u001b[0;34m.\u001b[0m\u001b[0marray\u001b[0m\u001b[0;34m(\u001b[0m\u001b[0;34m[\u001b[0m\u001b[0mi\u001b[0m\u001b[0;34m+\u001b[0m\u001b[0;36m1\u001b[0m \u001b[0;32mfor\u001b[0m \u001b[0mi\u001b[0m \u001b[0;32min\u001b[0m \u001b[0mrange\u001b[0m\u001b[0;34m(\u001b[0m\u001b[0mlen\u001b[0m\u001b[0;34m(\u001b[0m\u001b[0me\u001b[0m\u001b[0;34m)\u001b[0m\u001b[0;34m)\u001b[0m\u001b[0;34m]\u001b[0m\u001b[0;34m)\u001b[0m\u001b[0;34m\u001b[0m\u001b[0;34m\u001b[0m\u001b[0m\n\u001b[1;32m      3\u001b[0m \u001b[0;34m\u001b[0m\u001b[0m\n\u001b[1;32m      4\u001b[0m \u001b[0msns\u001b[0m\u001b[0;34m.\u001b[0m\u001b[0mscatterplot\u001b[0m\u001b[0;34m(\u001b[0m\u001b[0mx\u001b[0m\u001b[0;34m=\u001b[0m\u001b[0me_ind\u001b[0m\u001b[0;34m,\u001b[0m\u001b[0my\u001b[0m\u001b[0;34m=\u001b[0m\u001b[0me\u001b[0m\u001b[0;34m)\u001b[0m\u001b[0;34m\u001b[0m\u001b[0;34m\u001b[0m\u001b[0m\n\u001b[1;32m      5\u001b[0m \u001b[0msns\u001b[0m\u001b[0;34m.\u001b[0m\u001b[0mlineplot\u001b[0m\u001b[0;34m(\u001b[0m\u001b[0mx\u001b[0m\u001b[0;34m=\u001b[0m\u001b[0me_ind\u001b[0m\u001b[0;34m,\u001b[0m\u001b[0my\u001b[0m\u001b[0;34m=\u001b[0m\u001b[0;36m1\u001b[0m\u001b[0;34m,\u001b[0m\u001b[0mcolor\u001b[0m\u001b[0;34m=\u001b[0m\u001b[0;34m'black'\u001b[0m\u001b[0;34m,\u001b[0m\u001b[0mlinestyle\u001b[0m\u001b[0;34m=\u001b[0m\u001b[0;34m'--'\u001b[0m\u001b[0;34m)\u001b[0m\u001b[0;34m\u001b[0m\u001b[0;34m\u001b[0m\u001b[0m\n",
            "\u001b[0;31mNameError\u001b[0m: name 'y_p' is not defined"
          ]
        }
      ]
    },
    {
      "cell_type": "code",
      "source": [],
      "metadata": {
        "id": "SeC0b0wVhIgT"
      },
      "execution_count": null,
      "outputs": []
    },
    {
      "cell_type": "code",
      "source": [
        "import plotly.graph_objects as go # we can not use express plots\n",
        "from plotly.subplots import make_subplots # creating subplots\n",
        "\n",
        "\n",
        "XLA=dX_std.iloc[:,1]# Значения нормализированной колонки LotArea\n",
        "\n",
        "trace1 = go.Scatter(x=X1, y=Y, mode=\"markers\")\n",
        "trace2 = go.Scatter(x=X1, y=b[0]*X1+a)\n",
        "\n",
        "fig = go.Figure() # create empty figure\n",
        "fig.add_trace(trace1)\n",
        "fig.add_trace(trace2)\n",
        "\n",
        "fig.show()"
      ],
      "metadata": {
        "id": "-iwcm4lbLkW4"
      },
      "execution_count": null,
      "outputs": []
    },
    {
      "cell_type": "code",
      "source": [
        "data.info()"
      ],
      "metadata": {
        "id": "U3e15NdEL-pa"
      },
      "execution_count": null,
      "outputs": []
    }
  ]
}